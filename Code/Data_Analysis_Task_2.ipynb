{
  "nbformat": 4,
  "nbformat_minor": 0,
  "metadata": {
    "colab": {
      "name": "Data Analysis Task 3.ipynb",
      "provenance": [],
      "collapsed_sections": []
    },
    "kernelspec": {
      "name": "python3",
      "display_name": "Python 3"
    },
    "language_info": {
      "name": "python"
    }
  },
  "cells": [
    {
      "cell_type": "code",
      "metadata": {
        "id": "JAlqYQKDfGsJ"
      },
      "source": [
        "import numpy as np\n",
        "import pandas as pd"
      ],
      "execution_count": null,
      "outputs": []
    },
    {
      "cell_type": "code",
      "metadata": {
        "colab": {
          "base_uri": "https://localhost:8080/",
          "height": 469
        },
        "id": "ZW7id8bFfNEY",
        "outputId": "cb050e9a-2147-4a23-f521-799686034edc"
      },
      "source": [
        "data = pd.read_csv('finalData.csv')\n",
        "data.head()"
      ],
      "execution_count": null,
      "outputs": [
        {
          "output_type": "execute_result",
          "data": {
            "text/html": [
              "<div>\n",
              "<style scoped>\n",
              "    .dataframe tbody tr th:only-of-type {\n",
              "        vertical-align: middle;\n",
              "    }\n",
              "\n",
              "    .dataframe tbody tr th {\n",
              "        vertical-align: top;\n",
              "    }\n",
              "\n",
              "    .dataframe thead th {\n",
              "        text-align: right;\n",
              "    }\n",
              "</style>\n",
              "<table border=\"1\" class=\"dataframe\">\n",
              "  <thead>\n",
              "    <tr style=\"text-align: right;\">\n",
              "      <th></th>\n",
              "      <th>Unnamed: 0</th>\n",
              "      <th>Unnamed: 0.1</th>\n",
              "      <th>ID</th>\n",
              "      <th>Name</th>\n",
              "      <th>Sex</th>\n",
              "      <th>Age</th>\n",
              "      <th>Height</th>\n",
              "      <th>Weight</th>\n",
              "      <th>Team</th>\n",
              "      <th>NOC</th>\n",
              "      <th>Games</th>\n",
              "      <th>Year</th>\n",
              "      <th>Season</th>\n",
              "      <th>City</th>\n",
              "      <th>Sport</th>\n",
              "      <th>Event</th>\n",
              "      <th>Medal</th>\n",
              "      <th>Category</th>\n",
              "      <th>Age_Category</th>\n",
              "      <th>BMI</th>\n",
              "      <th>BMI_Category</th>\n",
              "    </tr>\n",
              "  </thead>\n",
              "  <tbody>\n",
              "    <tr>\n",
              "      <th>0</th>\n",
              "      <td>0</td>\n",
              "      <td>0</td>\n",
              "      <td>1</td>\n",
              "      <td>A Dijiang</td>\n",
              "      <td>M</td>\n",
              "      <td>24.0</td>\n",
              "      <td>180.000000</td>\n",
              "      <td>80.000000</td>\n",
              "      <td>China</td>\n",
              "      <td>CHN</td>\n",
              "      <td>1992 Summer</td>\n",
              "      <td>1992</td>\n",
              "      <td>Summer</td>\n",
              "      <td>Barcelona</td>\n",
              "      <td>Basketball</td>\n",
              "      <td>Basketball Men's Basketball</td>\n",
              "      <td>None</td>\n",
              "      <td>Ball based</td>\n",
              "      <td>20-29</td>\n",
              "      <td>24.7</td>\n",
              "      <td>18.5-24.9</td>\n",
              "    </tr>\n",
              "    <tr>\n",
              "      <th>1</th>\n",
              "      <td>1</td>\n",
              "      <td>1</td>\n",
              "      <td>2</td>\n",
              "      <td>A Lamusi</td>\n",
              "      <td>M</td>\n",
              "      <td>23.0</td>\n",
              "      <td>170.000000</td>\n",
              "      <td>60.000000</td>\n",
              "      <td>China</td>\n",
              "      <td>CHN</td>\n",
              "      <td>2012 Summer</td>\n",
              "      <td>2012</td>\n",
              "      <td>Summer</td>\n",
              "      <td>London</td>\n",
              "      <td>Judo</td>\n",
              "      <td>Judo Men's Extra-Lightweight</td>\n",
              "      <td>None</td>\n",
              "      <td>Combative</td>\n",
              "      <td>20-29</td>\n",
              "      <td>20.8</td>\n",
              "      <td>18.5-24.9</td>\n",
              "    </tr>\n",
              "    <tr>\n",
              "      <th>2</th>\n",
              "      <td>2</td>\n",
              "      <td>2</td>\n",
              "      <td>3</td>\n",
              "      <td>Gunnar Nielsen Aaby</td>\n",
              "      <td>M</td>\n",
              "      <td>24.0</td>\n",
              "      <td>174.916667</td>\n",
              "      <td>75.181818</td>\n",
              "      <td>Denmark</td>\n",
              "      <td>DEN</td>\n",
              "      <td>1920 Summer</td>\n",
              "      <td>1920</td>\n",
              "      <td>Summer</td>\n",
              "      <td>Antwerpen</td>\n",
              "      <td>Football</td>\n",
              "      <td>Football Men's Football</td>\n",
              "      <td>None</td>\n",
              "      <td>Ball based</td>\n",
              "      <td>20-29</td>\n",
              "      <td>24.6</td>\n",
              "      <td>18.5-24.9</td>\n",
              "    </tr>\n",
              "    <tr>\n",
              "      <th>3</th>\n",
              "      <td>3</td>\n",
              "      <td>3</td>\n",
              "      <td>4</td>\n",
              "      <td>Edgar Lindenau Aabye</td>\n",
              "      <td>M</td>\n",
              "      <td>34.0</td>\n",
              "      <td>NaN</td>\n",
              "      <td>NaN</td>\n",
              "      <td>Denmark/Sweden</td>\n",
              "      <td>DEN</td>\n",
              "      <td>1900 Summer</td>\n",
              "      <td>1900</td>\n",
              "      <td>Summer</td>\n",
              "      <td>Paris</td>\n",
              "      <td>Tug-Of-War</td>\n",
              "      <td>Tug-Of-War Men's Tug-Of-War</td>\n",
              "      <td>Gold</td>\n",
              "      <td>Combative</td>\n",
              "      <td>30-39</td>\n",
              "      <td>NaN</td>\n",
              "      <td>&gt;35</td>\n",
              "    </tr>\n",
              "    <tr>\n",
              "      <th>4</th>\n",
              "      <td>4</td>\n",
              "      <td>4</td>\n",
              "      <td>5</td>\n",
              "      <td>Christine Jacoba Aaftink</td>\n",
              "      <td>F</td>\n",
              "      <td>21.0</td>\n",
              "      <td>185.000000</td>\n",
              "      <td>82.000000</td>\n",
              "      <td>Netherlands</td>\n",
              "      <td>NED</td>\n",
              "      <td>1988 Winter</td>\n",
              "      <td>1988</td>\n",
              "      <td>Winter</td>\n",
              "      <td>Calgary</td>\n",
              "      <td>Speed Skating</td>\n",
              "      <td>Speed Skating Women's 500 metres</td>\n",
              "      <td>None</td>\n",
              "      <td>Other</td>\n",
              "      <td>20-29</td>\n",
              "      <td>24.0</td>\n",
              "      <td>18.5-24.9</td>\n",
              "    </tr>\n",
              "  </tbody>\n",
              "</table>\n",
              "</div>"
            ],
            "text/plain": [
              "   Unnamed: 0  Unnamed: 0.1  ID  ... Age_Category   BMI  BMI_Category\n",
              "0           0             0   1  ...        20-29  24.7     18.5-24.9\n",
              "1           1             1   2  ...        20-29  20.8     18.5-24.9\n",
              "2           2             2   3  ...        20-29  24.6     18.5-24.9\n",
              "3           3             3   4  ...        30-39   NaN           >35\n",
              "4           4             4   5  ...        20-29  24.0     18.5-24.9\n",
              "\n",
              "[5 rows x 21 columns]"
            ]
          },
          "metadata": {},
          "execution_count": 2
        }
      ]
    },
    {
      "cell_type": "code",
      "metadata": {
        "colab": {
          "base_uri": "https://localhost:8080/",
          "height": 241
        },
        "id": "qmdftB_UfNJj",
        "outputId": "980603c5-5cde-4b43-d5c6-8613c90a1a4b"
      },
      "source": [
        "# Finding the first participant season of an athlete in the olympics\n",
        "first_participation_data = data.sort_values(['ID','Year','Season'], ascending = (True,True,True))[['ID','Year','Season']]\n",
        "print(len(first_participation_data))\n",
        "first_participation_data = first_participation_data.groupby('ID').head(1)\n",
        "print(len(first_participation_data))\n",
        "first_participation_data.head(5)"
      ],
      "execution_count": null,
      "outputs": [
        {
          "output_type": "stream",
          "name": "stdout",
          "text": [
            "271116\n",
            "135571\n"
          ]
        },
        {
          "output_type": "execute_result",
          "data": {
            "text/html": [
              "<div>\n",
              "<style scoped>\n",
              "    .dataframe tbody tr th:only-of-type {\n",
              "        vertical-align: middle;\n",
              "    }\n",
              "\n",
              "    .dataframe tbody tr th {\n",
              "        vertical-align: top;\n",
              "    }\n",
              "\n",
              "    .dataframe thead th {\n",
              "        text-align: right;\n",
              "    }\n",
              "</style>\n",
              "<table border=\"1\" class=\"dataframe\">\n",
              "  <thead>\n",
              "    <tr style=\"text-align: right;\">\n",
              "      <th></th>\n",
              "      <th>ID</th>\n",
              "      <th>Year</th>\n",
              "      <th>Season</th>\n",
              "    </tr>\n",
              "  </thead>\n",
              "  <tbody>\n",
              "    <tr>\n",
              "      <th>0</th>\n",
              "      <td>1</td>\n",
              "      <td>1992</td>\n",
              "      <td>Summer</td>\n",
              "    </tr>\n",
              "    <tr>\n",
              "      <th>1</th>\n",
              "      <td>2</td>\n",
              "      <td>2012</td>\n",
              "      <td>Summer</td>\n",
              "    </tr>\n",
              "    <tr>\n",
              "      <th>2</th>\n",
              "      <td>3</td>\n",
              "      <td>1920</td>\n",
              "      <td>Summer</td>\n",
              "    </tr>\n",
              "    <tr>\n",
              "      <th>3</th>\n",
              "      <td>4</td>\n",
              "      <td>1900</td>\n",
              "      <td>Summer</td>\n",
              "    </tr>\n",
              "    <tr>\n",
              "      <th>4</th>\n",
              "      <td>5</td>\n",
              "      <td>1988</td>\n",
              "      <td>Winter</td>\n",
              "    </tr>\n",
              "  </tbody>\n",
              "</table>\n",
              "</div>"
            ],
            "text/plain": [
              "   ID  Year  Season\n",
              "0   1  1992  Summer\n",
              "1   2  2012  Summer\n",
              "2   3  1920  Summer\n",
              "3   4  1900  Summer\n",
              "4   5  1988  Winter"
            ]
          },
          "metadata": {},
          "execution_count": 28
        }
      ]
    },
    {
      "cell_type": "code",
      "metadata": {
        "colab": {
          "base_uri": "https://localhost:8080/"
        },
        "id": "wkaVwP4w2heD",
        "outputId": "039f2b07-092f-4da1-b3f4-a5c468c387c2"
      },
      "source": [
        "data['ID'].nunique()"
      ],
      "execution_count": null,
      "outputs": [
        {
          "output_type": "execute_result",
          "data": {
            "text/plain": [
              "135571"
            ]
          },
          "metadata": {},
          "execution_count": 48
        }
      ]
    },
    {
      "cell_type": "code",
      "metadata": {
        "colab": {
          "base_uri": "https://localhost:8080/",
          "height": 241
        },
        "id": "w7hpJH-2r4e6",
        "outputId": "4f79b420-7766-4ce9-a48e-8018a38efab9"
      },
      "source": [
        "# Finding the first medal of an athlete in the olympics\n",
        "datac = data.copy()\n",
        "datac['Medal'] = datac['Medal'].apply(lambda x: 'No' if x=='None' else 'Yes')\n",
        "first_medal_data = datac.sort_values(['ID','Medal','Year','Season','Sport','Event'], ascending = (True,False,True,True,True,True))[['ID','Medal','Year','Season']]\n",
        "print(len(first_medal_data))\n",
        "first_medal_data = first_medal_data.groupby('ID').head(1)\n",
        "print(len(first_medal_data))\n",
        "first_medal_data.head(5)"
      ],
      "execution_count": null,
      "outputs": [
        {
          "output_type": "stream",
          "name": "stdout",
          "text": [
            "271116\n",
            "135571\n"
          ]
        },
        {
          "output_type": "execute_result",
          "data": {
            "text/html": [
              "<div>\n",
              "<style scoped>\n",
              "    .dataframe tbody tr th:only-of-type {\n",
              "        vertical-align: middle;\n",
              "    }\n",
              "\n",
              "    .dataframe tbody tr th {\n",
              "        vertical-align: top;\n",
              "    }\n",
              "\n",
              "    .dataframe thead th {\n",
              "        text-align: right;\n",
              "    }\n",
              "</style>\n",
              "<table border=\"1\" class=\"dataframe\">\n",
              "  <thead>\n",
              "    <tr style=\"text-align: right;\">\n",
              "      <th></th>\n",
              "      <th>ID</th>\n",
              "      <th>Medal</th>\n",
              "      <th>Year</th>\n",
              "      <th>Season</th>\n",
              "    </tr>\n",
              "  </thead>\n",
              "  <tbody>\n",
              "    <tr>\n",
              "      <th>0</th>\n",
              "      <td>1</td>\n",
              "      <td>No</td>\n",
              "      <td>1992</td>\n",
              "      <td>Summer</td>\n",
              "    </tr>\n",
              "    <tr>\n",
              "      <th>1</th>\n",
              "      <td>2</td>\n",
              "      <td>No</td>\n",
              "      <td>2012</td>\n",
              "      <td>Summer</td>\n",
              "    </tr>\n",
              "    <tr>\n",
              "      <th>2</th>\n",
              "      <td>3</td>\n",
              "      <td>No</td>\n",
              "      <td>1920</td>\n",
              "      <td>Summer</td>\n",
              "    </tr>\n",
              "    <tr>\n",
              "      <th>3</th>\n",
              "      <td>4</td>\n",
              "      <td>Yes</td>\n",
              "      <td>1900</td>\n",
              "      <td>Summer</td>\n",
              "    </tr>\n",
              "    <tr>\n",
              "      <th>5</th>\n",
              "      <td>5</td>\n",
              "      <td>No</td>\n",
              "      <td>1988</td>\n",
              "      <td>Winter</td>\n",
              "    </tr>\n",
              "  </tbody>\n",
              "</table>\n",
              "</div>"
            ],
            "text/plain": [
              "   ID Medal  Year  Season\n",
              "0   1    No  1992  Summer\n",
              "1   2    No  2012  Summer\n",
              "2   3    No  1920  Summer\n",
              "3   4   Yes  1900  Summer\n",
              "5   5    No  1988  Winter"
            ]
          },
          "metadata": {},
          "execution_count": 32
        }
      ]
    },
    {
      "cell_type": "code",
      "metadata": {
        "colab": {
          "base_uri": "https://localhost:8080/"
        },
        "id": "ZpxbmMmPfNRT",
        "outputId": "83ed62df-8d49-42da-cbba-46296ab69293"
      },
      "source": [
        "def get_already_olympian_status(row):\n",
        "  year = int(row['Year'])\n",
        "  season = str(row['Season'])\n",
        "  first_year = int(first_participation_data[first_participation_data['ID'] == row['ID']]['Year'].values[0])\n",
        "  first_season = str(first_participation_data[first_participation_data['ID'] == row['ID']]['Season'].values[0])\n",
        "  if year < first_year:\n",
        "    return 'No'\n",
        "  elif (year== first_year) and (season==first_season):\n",
        "    return 'No'\n",
        "  elif (year== first_year) and (season=='Winter') and (first_season=='Summer') :\n",
        "    return 'No'\n",
        "  else:\n",
        "    return 'Yes'\n",
        "  \n",
        "\n",
        "def get_already_medallist_status(row):\n",
        "  medallist = str(first_medal_data[first_medal_data['ID']==row['ID']]['Medal'].values[0])\n",
        "  year = int(row['Year'])\n",
        "  season = str(row['Season'])\n",
        "  first_medal_year = int(first_medal_data[first_medal_data['ID'] == row['ID']]['Year'].values[0])\n",
        "  first_medal_season = str(first_medal_data[first_medal_data['ID'] == row['ID']]['Season'].values[0])\n",
        "  if medallist=='Yes':\n",
        "    if year < first_medal_year:\n",
        "      return 'No'\n",
        "    elif (year == first_medal_year) and (season == 'Winter') and (first_medal_season == 'Summer'):\n",
        "      return 'No'\n",
        "    elif (year == first_medal_year) and (season == first_medal_season):\n",
        "      return 'No'\n",
        "    else:\n",
        "      return 'Yes'\n",
        "  else:\n",
        "    return 'No'\n",
        "\n",
        "df = data[['ID','Year','Season','Sport','Event','Medal']]\n",
        "df['Medal'] = df['Medal'].apply(lambda x: 'No' if x=='None' else 'Yes')\n",
        "df['Already_Olympian'] = df.apply(lambda row: get_already_olympian_status(row),axis=1)\n",
        "df['Already_Medallist'] = df.apply(lambda row: get_already_medallist_status(row),axis=1)\n"
      ],
      "execution_count": null,
      "outputs": [
        {
          "output_type": "stream",
          "name": "stderr",
          "text": [
            "/usr/local/lib/python3.7/dist-packages/ipykernel_launcher.py:35: SettingWithCopyWarning: \n",
            "A value is trying to be set on a copy of a slice from a DataFrame.\n",
            "Try using .loc[row_indexer,col_indexer] = value instead\n",
            "\n",
            "See the caveats in the documentation: https://pandas.pydata.org/pandas-docs/stable/user_guide/indexing.html#returning-a-view-versus-a-copy\n",
            "/usr/local/lib/python3.7/dist-packages/ipykernel_launcher.py:36: SettingWithCopyWarning: \n",
            "A value is trying to be set on a copy of a slice from a DataFrame.\n",
            "Try using .loc[row_indexer,col_indexer] = value instead\n",
            "\n",
            "See the caveats in the documentation: https://pandas.pydata.org/pandas-docs/stable/user_guide/indexing.html#returning-a-view-versus-a-copy\n",
            "/usr/local/lib/python3.7/dist-packages/ipykernel_launcher.py:37: SettingWithCopyWarning: \n",
            "A value is trying to be set on a copy of a slice from a DataFrame.\n",
            "Try using .loc[row_indexer,col_indexer] = value instead\n",
            "\n",
            "See the caveats in the documentation: https://pandas.pydata.org/pandas-docs/stable/user_guide/indexing.html#returning-a-view-versus-a-copy\n"
          ]
        }
      ]
    },
    {
      "cell_type": "code",
      "metadata": {
        "colab": {
          "base_uri": "https://localhost:8080/"
        },
        "id": "x1KfoI8bfNaN",
        "outputId": "74f547ad-5347-454c-cbe3-f37033105aef"
      },
      "source": [
        "first_year = int(first_participation_data[first_participation_data['ID'] == 1]['Year'])\n",
        "first_season = str(first_participation_data[first_participation_data['ID'] == 1]['Season'])\n",
        "year = int(1992)\n",
        "season = str('Summer')\n",
        "# (year== first_year) and (season==first_season)\n",
        "print(len(first_season[1:]))\n"
      ],
      "execution_count": null,
      "outputs": [
        {
          "output_type": "stream",
          "name": "stdout",
          "text": [
            "38\n"
          ]
        }
      ]
    },
    {
      "cell_type": "code",
      "metadata": {
        "colab": {
          "base_uri": "https://localhost:8080/"
        },
        "id": "6xeG5MtxfNfK",
        "outputId": "564d9835-7cc1-4dd2-c803-6d39bdaf9661"
      },
      "source": [
        "df.head(20)"
      ],
      "execution_count": null,
      "outputs": [
        {
          "output_type": "execute_result",
          "data": {
            "text/html": [
              "<div>\n",
              "<style scoped>\n",
              "    .dataframe tbody tr th:only-of-type {\n",
              "        vertical-align: middle;\n",
              "    }\n",
              "\n",
              "    .dataframe tbody tr th {\n",
              "        vertical-align: top;\n",
              "    }\n",
              "\n",
              "    .dataframe thead th {\n",
              "        text-align: right;\n",
              "    }\n",
              "</style>\n",
              "<table border=\"1\" class=\"dataframe\">\n",
              "  <thead>\n",
              "    <tr style=\"text-align: right;\">\n",
              "      <th></th>\n",
              "      <th>ID</th>\n",
              "      <th>Year</th>\n",
              "      <th>Season</th>\n",
              "      <th>Sport</th>\n",
              "      <th>Event</th>\n",
              "      <th>Medal</th>\n",
              "      <th>Already_Olympian</th>\n",
              "      <th>Already_Medallist</th>\n",
              "    </tr>\n",
              "  </thead>\n",
              "  <tbody>\n",
              "    <tr>\n",
              "      <th>0</th>\n",
              "      <td>1</td>\n",
              "      <td>1992</td>\n",
              "      <td>Summer</td>\n",
              "      <td>Basketball</td>\n",
              "      <td>Basketball Men's Basketball</td>\n",
              "      <td>No</td>\n",
              "      <td>No</td>\n",
              "      <td>No</td>\n",
              "    </tr>\n",
              "    <tr>\n",
              "      <th>1</th>\n",
              "      <td>2</td>\n",
              "      <td>2012</td>\n",
              "      <td>Summer</td>\n",
              "      <td>Judo</td>\n",
              "      <td>Judo Men's Extra-Lightweight</td>\n",
              "      <td>No</td>\n",
              "      <td>No</td>\n",
              "      <td>No</td>\n",
              "    </tr>\n",
              "    <tr>\n",
              "      <th>2</th>\n",
              "      <td>3</td>\n",
              "      <td>1920</td>\n",
              "      <td>Summer</td>\n",
              "      <td>Football</td>\n",
              "      <td>Football Men's Football</td>\n",
              "      <td>No</td>\n",
              "      <td>No</td>\n",
              "      <td>No</td>\n",
              "    </tr>\n",
              "    <tr>\n",
              "      <th>3</th>\n",
              "      <td>4</td>\n",
              "      <td>1900</td>\n",
              "      <td>Summer</td>\n",
              "      <td>Tug-Of-War</td>\n",
              "      <td>Tug-Of-War Men's Tug-Of-War</td>\n",
              "      <td>Yes</td>\n",
              "      <td>No</td>\n",
              "      <td>No</td>\n",
              "    </tr>\n",
              "    <tr>\n",
              "      <th>4</th>\n",
              "      <td>5</td>\n",
              "      <td>1988</td>\n",
              "      <td>Winter</td>\n",
              "      <td>Speed Skating</td>\n",
              "      <td>Speed Skating Women's 500 metres</td>\n",
              "      <td>No</td>\n",
              "      <td>No</td>\n",
              "      <td>No</td>\n",
              "    </tr>\n",
              "    <tr>\n",
              "      <th>5</th>\n",
              "      <td>5</td>\n",
              "      <td>1988</td>\n",
              "      <td>Winter</td>\n",
              "      <td>Speed Skating</td>\n",
              "      <td>Speed Skating Women's 1,000 metres</td>\n",
              "      <td>No</td>\n",
              "      <td>No</td>\n",
              "      <td>No</td>\n",
              "    </tr>\n",
              "    <tr>\n",
              "      <th>6</th>\n",
              "      <td>5</td>\n",
              "      <td>1992</td>\n",
              "      <td>Winter</td>\n",
              "      <td>Speed Skating</td>\n",
              "      <td>Speed Skating Women's 500 metres</td>\n",
              "      <td>No</td>\n",
              "      <td>Yes</td>\n",
              "      <td>No</td>\n",
              "    </tr>\n",
              "    <tr>\n",
              "      <th>7</th>\n",
              "      <td>5</td>\n",
              "      <td>1992</td>\n",
              "      <td>Winter</td>\n",
              "      <td>Speed Skating</td>\n",
              "      <td>Speed Skating Women's 1,000 metres</td>\n",
              "      <td>No</td>\n",
              "      <td>Yes</td>\n",
              "      <td>No</td>\n",
              "    </tr>\n",
              "    <tr>\n",
              "      <th>8</th>\n",
              "      <td>5</td>\n",
              "      <td>1994</td>\n",
              "      <td>Winter</td>\n",
              "      <td>Speed Skating</td>\n",
              "      <td>Speed Skating Women's 500 metres</td>\n",
              "      <td>No</td>\n",
              "      <td>Yes</td>\n",
              "      <td>No</td>\n",
              "    </tr>\n",
              "    <tr>\n",
              "      <th>9</th>\n",
              "      <td>5</td>\n",
              "      <td>1994</td>\n",
              "      <td>Winter</td>\n",
              "      <td>Speed Skating</td>\n",
              "      <td>Speed Skating Women's 1,000 metres</td>\n",
              "      <td>No</td>\n",
              "      <td>Yes</td>\n",
              "      <td>No</td>\n",
              "    </tr>\n",
              "    <tr>\n",
              "      <th>10</th>\n",
              "      <td>6</td>\n",
              "      <td>1992</td>\n",
              "      <td>Winter</td>\n",
              "      <td>Cross Country Skiing</td>\n",
              "      <td>Cross Country Skiing Men's 10 kilometres</td>\n",
              "      <td>No</td>\n",
              "      <td>No</td>\n",
              "      <td>No</td>\n",
              "    </tr>\n",
              "    <tr>\n",
              "      <th>11</th>\n",
              "      <td>6</td>\n",
              "      <td>1992</td>\n",
              "      <td>Winter</td>\n",
              "      <td>Cross Country Skiing</td>\n",
              "      <td>Cross Country Skiing Men's 50 kilometres</td>\n",
              "      <td>No</td>\n",
              "      <td>No</td>\n",
              "      <td>No</td>\n",
              "    </tr>\n",
              "    <tr>\n",
              "      <th>12</th>\n",
              "      <td>6</td>\n",
              "      <td>1992</td>\n",
              "      <td>Winter</td>\n",
              "      <td>Cross Country Skiing</td>\n",
              "      <td>Cross Country Skiing Men's 10/15 kilometres Pu...</td>\n",
              "      <td>No</td>\n",
              "      <td>No</td>\n",
              "      <td>No</td>\n",
              "    </tr>\n",
              "    <tr>\n",
              "      <th>13</th>\n",
              "      <td>6</td>\n",
              "      <td>1992</td>\n",
              "      <td>Winter</td>\n",
              "      <td>Cross Country Skiing</td>\n",
              "      <td>Cross Country Skiing Men's 4 x 10 kilometres R...</td>\n",
              "      <td>No</td>\n",
              "      <td>No</td>\n",
              "      <td>No</td>\n",
              "    </tr>\n",
              "    <tr>\n",
              "      <th>14</th>\n",
              "      <td>6</td>\n",
              "      <td>1994</td>\n",
              "      <td>Winter</td>\n",
              "      <td>Cross Country Skiing</td>\n",
              "      <td>Cross Country Skiing Men's 10 kilometres</td>\n",
              "      <td>No</td>\n",
              "      <td>Yes</td>\n",
              "      <td>No</td>\n",
              "    </tr>\n",
              "    <tr>\n",
              "      <th>15</th>\n",
              "      <td>6</td>\n",
              "      <td>1994</td>\n",
              "      <td>Winter</td>\n",
              "      <td>Cross Country Skiing</td>\n",
              "      <td>Cross Country Skiing Men's 30 kilometres</td>\n",
              "      <td>No</td>\n",
              "      <td>Yes</td>\n",
              "      <td>No</td>\n",
              "    </tr>\n",
              "    <tr>\n",
              "      <th>16</th>\n",
              "      <td>6</td>\n",
              "      <td>1994</td>\n",
              "      <td>Winter</td>\n",
              "      <td>Cross Country Skiing</td>\n",
              "      <td>Cross Country Skiing Men's 10/15 kilometres Pu...</td>\n",
              "      <td>No</td>\n",
              "      <td>Yes</td>\n",
              "      <td>No</td>\n",
              "    </tr>\n",
              "    <tr>\n",
              "      <th>17</th>\n",
              "      <td>6</td>\n",
              "      <td>1994</td>\n",
              "      <td>Winter</td>\n",
              "      <td>Cross Country Skiing</td>\n",
              "      <td>Cross Country Skiing Men's 4 x 10 kilometres R...</td>\n",
              "      <td>No</td>\n",
              "      <td>Yes</td>\n",
              "      <td>No</td>\n",
              "    </tr>\n",
              "    <tr>\n",
              "      <th>18</th>\n",
              "      <td>7</td>\n",
              "      <td>1992</td>\n",
              "      <td>Winter</td>\n",
              "      <td>Cross Country Skiing</td>\n",
              "      <td>Cross Country Skiing Men's 10 kilometres</td>\n",
              "      <td>No</td>\n",
              "      <td>No</td>\n",
              "      <td>No</td>\n",
              "    </tr>\n",
              "    <tr>\n",
              "      <th>19</th>\n",
              "      <td>7</td>\n",
              "      <td>1992</td>\n",
              "      <td>Winter</td>\n",
              "      <td>Cross Country Skiing</td>\n",
              "      <td>Cross Country Skiing Men's 50 kilometres</td>\n",
              "      <td>No</td>\n",
              "      <td>No</td>\n",
              "      <td>No</td>\n",
              "    </tr>\n",
              "  </tbody>\n",
              "</table>\n",
              "</div>"
            ],
            "text/plain": [
              "    ID  Year  Season  ... Medal Already_Olympian Already_Medallist\n",
              "0    1  1992  Summer  ...    No               No                No\n",
              "1    2  2012  Summer  ...    No               No                No\n",
              "2    3  1920  Summer  ...    No               No                No\n",
              "3    4  1900  Summer  ...   Yes               No                No\n",
              "4    5  1988  Winter  ...    No               No                No\n",
              "5    5  1988  Winter  ...    No               No                No\n",
              "6    5  1992  Winter  ...    No              Yes                No\n",
              "7    5  1992  Winter  ...    No              Yes                No\n",
              "8    5  1994  Winter  ...    No              Yes                No\n",
              "9    5  1994  Winter  ...    No              Yes                No\n",
              "10   6  1992  Winter  ...    No               No                No\n",
              "11   6  1992  Winter  ...    No               No                No\n",
              "12   6  1992  Winter  ...    No               No                No\n",
              "13   6  1992  Winter  ...    No               No                No\n",
              "14   6  1994  Winter  ...    No              Yes                No\n",
              "15   6  1994  Winter  ...    No              Yes                No\n",
              "16   6  1994  Winter  ...    No              Yes                No\n",
              "17   6  1994  Winter  ...    No              Yes                No\n",
              "18   7  1992  Winter  ...    No               No                No\n",
              "19   7  1992  Winter  ...    No               No                No\n",
              "\n",
              "[20 rows x 8 columns]"
            ]
          },
          "metadata": {},
          "execution_count": 95
        }
      ]
    },
    {
      "cell_type": "code",
      "metadata": {
        "colab": {
          "base_uri": "https://localhost:8080/",
          "height": 206
        },
        "id": "l4q89MUMfNka",
        "outputId": "2c921033-4512-476d-8fa5-3267e7c31d72"
      },
      "source": [
        "first_participation_data.head()"
      ],
      "execution_count": null,
      "outputs": [
        {
          "output_type": "execute_result",
          "data": {
            "text/html": [
              "<div>\n",
              "<style scoped>\n",
              "    .dataframe tbody tr th:only-of-type {\n",
              "        vertical-align: middle;\n",
              "    }\n",
              "\n",
              "    .dataframe tbody tr th {\n",
              "        vertical-align: top;\n",
              "    }\n",
              "\n",
              "    .dataframe thead th {\n",
              "        text-align: right;\n",
              "    }\n",
              "</style>\n",
              "<table border=\"1\" class=\"dataframe\">\n",
              "  <thead>\n",
              "    <tr style=\"text-align: right;\">\n",
              "      <th></th>\n",
              "      <th>ID</th>\n",
              "      <th>Year</th>\n",
              "      <th>Season</th>\n",
              "    </tr>\n",
              "  </thead>\n",
              "  <tbody>\n",
              "    <tr>\n",
              "      <th>0</th>\n",
              "      <td>1</td>\n",
              "      <td>1992</td>\n",
              "      <td>Summer</td>\n",
              "    </tr>\n",
              "    <tr>\n",
              "      <th>1</th>\n",
              "      <td>2</td>\n",
              "      <td>2012</td>\n",
              "      <td>Summer</td>\n",
              "    </tr>\n",
              "    <tr>\n",
              "      <th>2</th>\n",
              "      <td>3</td>\n",
              "      <td>1920</td>\n",
              "      <td>Summer</td>\n",
              "    </tr>\n",
              "    <tr>\n",
              "      <th>3</th>\n",
              "      <td>4</td>\n",
              "      <td>1900</td>\n",
              "      <td>Summer</td>\n",
              "    </tr>\n",
              "    <tr>\n",
              "      <th>4</th>\n",
              "      <td>5</td>\n",
              "      <td>1988</td>\n",
              "      <td>Winter</td>\n",
              "    </tr>\n",
              "  </tbody>\n",
              "</table>\n",
              "</div>"
            ],
            "text/plain": [
              "   ID  Year  Season\n",
              "0   1  1992  Summer\n",
              "1   2  2012  Summer\n",
              "2   3  1920  Summer\n",
              "3   4  1900  Summer\n",
              "4   5  1988  Winter"
            ]
          },
          "metadata": {},
          "execution_count": 62
        }
      ]
    },
    {
      "cell_type": "code",
      "metadata": {
        "id": "yzzuXKBqfNov"
      },
      "source": [
        "df.to_csv('analysisData.csv')"
      ],
      "execution_count": null,
      "outputs": []
    },
    {
      "cell_type": "code",
      "source": [
        "# Reading the data again"
      ],
      "metadata": {
        "id": "Ld-3Z7gsvyy7"
      },
      "execution_count": null,
      "outputs": []
    },
    {
      "cell_type": "code",
      "metadata": {
        "id": "-qX8DkybfNs8"
      },
      "source": [
        "import pandas as pd\n",
        "import numpy as np"
      ],
      "execution_count": 114,
      "outputs": []
    },
    {
      "cell_type": "code",
      "metadata": {
        "id": "T4AvoG6XfOQK"
      },
      "source": [
        "data = pd.read_csv('analysisData_final.csv')"
      ],
      "execution_count": 115,
      "outputs": []
    },
    {
      "cell_type": "markdown",
      "source": [
        ""
      ],
      "metadata": {
        "id": "CtGblYMYvzPD"
      }
    },
    {
      "cell_type": "code",
      "metadata": {
        "id": "csC5CZ6HfOTz",
        "colab": {
          "base_uri": "https://localhost:8080/",
          "height": 206
        },
        "outputId": "7aa1a30d-4fbf-4380-b0dc-afa4724e7e43"
      },
      "source": [
        "data.head()"
      ],
      "execution_count": 116,
      "outputs": [
        {
          "output_type": "execute_result",
          "data": {
            "text/html": [
              "<div>\n",
              "<style scoped>\n",
              "    .dataframe tbody tr th:only-of-type {\n",
              "        vertical-align: middle;\n",
              "    }\n",
              "\n",
              "    .dataframe tbody tr th {\n",
              "        vertical-align: top;\n",
              "    }\n",
              "\n",
              "    .dataframe thead th {\n",
              "        text-align: right;\n",
              "    }\n",
              "</style>\n",
              "<table border=\"1\" class=\"dataframe\">\n",
              "  <thead>\n",
              "    <tr style=\"text-align: right;\">\n",
              "      <th></th>\n",
              "      <th>Unnamed: 0</th>\n",
              "      <th>ID</th>\n",
              "      <th>Year</th>\n",
              "      <th>Season</th>\n",
              "      <th>Sport</th>\n",
              "      <th>Event</th>\n",
              "      <th>Medal</th>\n",
              "      <th>Already_Olympian</th>\n",
              "      <th>Already_Medallist</th>\n",
              "    </tr>\n",
              "  </thead>\n",
              "  <tbody>\n",
              "    <tr>\n",
              "      <th>0</th>\n",
              "      <td>0</td>\n",
              "      <td>1</td>\n",
              "      <td>1992</td>\n",
              "      <td>Summer</td>\n",
              "      <td>Basketball</td>\n",
              "      <td>Basketball Men's Basketball</td>\n",
              "      <td>No</td>\n",
              "      <td>No</td>\n",
              "      <td>No</td>\n",
              "    </tr>\n",
              "    <tr>\n",
              "      <th>1</th>\n",
              "      <td>1</td>\n",
              "      <td>2</td>\n",
              "      <td>2012</td>\n",
              "      <td>Summer</td>\n",
              "      <td>Judo</td>\n",
              "      <td>Judo Men's Extra-Lightweight</td>\n",
              "      <td>No</td>\n",
              "      <td>No</td>\n",
              "      <td>No</td>\n",
              "    </tr>\n",
              "    <tr>\n",
              "      <th>2</th>\n",
              "      <td>2</td>\n",
              "      <td>3</td>\n",
              "      <td>1920</td>\n",
              "      <td>Summer</td>\n",
              "      <td>Football</td>\n",
              "      <td>Football Men's Football</td>\n",
              "      <td>No</td>\n",
              "      <td>No</td>\n",
              "      <td>No</td>\n",
              "    </tr>\n",
              "    <tr>\n",
              "      <th>3</th>\n",
              "      <td>3</td>\n",
              "      <td>4</td>\n",
              "      <td>1900</td>\n",
              "      <td>Summer</td>\n",
              "      <td>Tug-Of-War</td>\n",
              "      <td>Tug-Of-War Men's Tug-Of-War</td>\n",
              "      <td>Yes</td>\n",
              "      <td>No</td>\n",
              "      <td>No</td>\n",
              "    </tr>\n",
              "    <tr>\n",
              "      <th>4</th>\n",
              "      <td>4</td>\n",
              "      <td>5</td>\n",
              "      <td>1988</td>\n",
              "      <td>Winter</td>\n",
              "      <td>Speed Skating</td>\n",
              "      <td>Speed Skating Women's 500 metres</td>\n",
              "      <td>No</td>\n",
              "      <td>No</td>\n",
              "      <td>No</td>\n",
              "    </tr>\n",
              "  </tbody>\n",
              "</table>\n",
              "</div>"
            ],
            "text/plain": [
              "   Unnamed: 0  ID  Year  ... Medal Already_Olympian Already_Medallist\n",
              "0           0   1  1992  ...    No               No                No\n",
              "1           1   2  2012  ...    No               No                No\n",
              "2           2   3  1920  ...    No               No                No\n",
              "3           3   4  1900  ...   Yes               No                No\n",
              "4           4   5  1988  ...    No               No                No\n",
              "\n",
              "[5 rows x 9 columns]"
            ]
          },
          "metadata": {},
          "execution_count": 116
        }
      ]
    },
    {
      "cell_type": "code",
      "metadata": {
        "id": "GvAxzUlFfOnr",
        "colab": {
          "base_uri": "https://localhost:8080/",
          "height": 393
        },
        "outputId": "26240fe6-1679-4e30-cab7-769712e881f2"
      },
      "source": [
        "# Medal(X-axis) vs Already Olympian(Y-axis)\n",
        "from statsmodels.graphics.mosaicplot import mosaic\n",
        "props = lambda key: {'color': 'green' if 'Yes'==key[1] else 'red'}\n",
        "t = mosaic(data, ['Already_Olympian','Medal'],title='Medal(X-axis) vs Already Olympian(Y-axis)', \\\n",
        "           axes_label = True, properties=props)\n",
        "t[0].set_size_inches(15, 6)"
      ],
      "execution_count": 117,
      "outputs": [
        {
          "output_type": "display_data",
          "data": {
            "image/png": "[encoded data removed]",
            "text/plain": [
              "<Figure size 1080x432 with 3 Axes>"
            ]
          },
          "metadata": {}
        }
      ]
    },
    {
      "cell_type": "code",
      "metadata": {
        "id": "Wev50OC3fOxk",
        "colab": {
          "base_uri": "https://localhost:8080/",
          "height": 175
        },
        "outputId": "75ac0263-42b7-4876-87a2-2efb792e2429"
      },
      "source": [
        "# Cross tabulation\n",
        "ct = pd.crosstab(data.Already_Olympian,data.Medal,margins=True)\n",
        "\n",
        "detailCt = ct.copy()\n",
        "percent_yes = np.round(detailCt['Yes']/detailCt.All * 100,decimals=2)\n",
        "percent_no = np.round(detailCt['No']/detailCt.All * 100,decimals=2)\n",
        "\n",
        "totalPercent = np.round(detailCt.All/detailCt.All * 100,decimals=2)\n",
        "\n",
        "detailCt['Yes'] = ct['Yes'].astype('str') + \" (\" + percent_yes.astype('str') + \"%)\"\n",
        "detailCt['No'] = ct['No'].astype('str') + \" (\" + percent_no.astype('str') + \"%)\"\n",
        "\n",
        "\n",
        "detailCt.All = ct.All.astype('str') + \" (\" + totalPercent.astype('str') + \"%)\"\n",
        "detailCt"
      ],
      "execution_count": 118,
      "outputs": [
        {
          "output_type": "execute_result",
          "data": {
            "text/html": [
              "<div>\n",
              "<style scoped>\n",
              "    .dataframe tbody tr th:only-of-type {\n",
              "        vertical-align: middle;\n",
              "    }\n",
              "\n",
              "    .dataframe tbody tr th {\n",
              "        vertical-align: top;\n",
              "    }\n",
              "\n",
              "    .dataframe thead th {\n",
              "        text-align: right;\n",
              "    }\n",
              "</style>\n",
              "<table border=\"1\" class=\"dataframe\">\n",
              "  <thead>\n",
              "    <tr style=\"text-align: right;\">\n",
              "      <th>Medal</th>\n",
              "      <th>No</th>\n",
              "      <th>Yes</th>\n",
              "      <th>All</th>\n",
              "    </tr>\n",
              "    <tr>\n",
              "      <th>Already_Olympian</th>\n",
              "      <th></th>\n",
              "      <th></th>\n",
              "      <th></th>\n",
              "    </tr>\n",
              "  </thead>\n",
              "  <tbody>\n",
              "    <tr>\n",
              "      <th>No</th>\n",
              "      <td>165578 (86.57%)</td>\n",
              "      <td>25695 (13.43%)</td>\n",
              "      <td>191273 (100.0%)</td>\n",
              "    </tr>\n",
              "    <tr>\n",
              "      <th>Yes</th>\n",
              "      <td>65755 (82.36%)</td>\n",
              "      <td>14088 (17.64%)</td>\n",
              "      <td>79843 (100.0%)</td>\n",
              "    </tr>\n",
              "    <tr>\n",
              "      <th>All</th>\n",
              "      <td>231333 (85.33%)</td>\n",
              "      <td>39783 (14.67%)</td>\n",
              "      <td>271116 (100.0%)</td>\n",
              "    </tr>\n",
              "  </tbody>\n",
              "</table>\n",
              "</div>"
            ],
            "text/plain": [
              "Medal                          No             Yes              All\n",
              "Already_Olympian                                                  \n",
              "No                165578 (86.57%)  25695 (13.43%)  191273 (100.0%)\n",
              "Yes                65755 (82.36%)  14088 (17.64%)   79843 (100.0%)\n",
              "All               231333 (85.33%)  39783 (14.67%)  271116 (100.0%)"
            ]
          },
          "metadata": {},
          "execution_count": 118
        }
      ]
    },
    {
      "cell_type": "code",
      "metadata": {
        "id": "CkHRQTXZfO17"
      },
      "source": [
        "# While 13.43 percent of first time olympians win medals, we see that 17.63 percent of olympians with\n",
        "#   former participation experience win medals\n",
        "# So, there is some significance here"
      ],
      "execution_count": 119,
      "outputs": []
    },
    {
      "cell_type": "code",
      "metadata": {
        "id": "R3CgxqVnfO7n",
        "colab": {
          "base_uri": "https://localhost:8080/"
        },
        "outputId": "bfd2263c-e7ec-41d5-c105-e2bb95020aac"
      },
      "source": [
        "# Chi square test to test significance\n",
        "from scipy.stats import chi2_contingency\n",
        "chi2, p, dof, ex = chi2_contingency(ct)\n",
        "print('Overall: ')\n",
        "print(\"p-val = \", p)"
      ],
      "execution_count": 120,
      "outputs": [
        {
          "output_type": "stream",
          "name": "stdout",
          "text": [
            "Overall: \n",
            "p-val =  2.3509376862749443e-171\n"
          ]
        }
      ]
    },
    {
      "cell_type": "code",
      "metadata": {
        "id": "9N8MlGzkfPAq"
      },
      "source": [
        "# p-value almost 0. Very close to zero.\n",
        "# There is statistical significance. We can safely reject the null hypothesis \n",
        "# There is evidence of a relationship between an athlete's previous participation status and medal winning"
      ],
      "execution_count": 121,
      "outputs": []
    },
    {
      "cell_type": "code",
      "metadata": {
        "id": "dEwQzQ5afOru",
        "colab": {
          "base_uri": "https://localhost:8080/",
          "height": 393
        },
        "outputId": "c086154e-6b0b-4989-cd5a-a65627d1df9a"
      },
      "source": [
        "# Medal(X-axis) vs Already Olympian(Y-axis)\n",
        "props = lambda key: {'color': 'green' if 'Yes'==key[1] else 'red'}\n",
        "t = mosaic(data, ['Already_Medallist','Medal'],title='Medal(X-axis) vs Already Medallist(Y-axis)', \\\n",
        "           axes_label = True, properties = props)\n",
        "t[0].set_size_inches(15, 6)"
      ],
      "execution_count": 122,
      "outputs": [
        {
          "output_type": "display_data",
          "data": {
            "image/png": "[encoded data removed]",
            "text/plain": [
              "<Figure size 1080x432 with 3 Axes>"
            ]
          },
          "metadata": {}
        }
      ]
    },
    {
      "cell_type": "code",
      "source": [
        "# Cross tabulation\n",
        "ct = pd.crosstab(data.Already_Medallist,data.Medal,margins=True)\n",
        "\n",
        "detailCt = ct.copy()\n",
        "percent_yes = np.round(detailCt['Yes']/detailCt.All * 100,decimals=2)\n",
        "percent_no = np.round(detailCt['No']/detailCt.All * 100,decimals=2)\n",
        "\n",
        "totalPercent = np.round(detailCt.All/detailCt.All * 100,decimals=2)\n",
        "\n",
        "detailCt['Yes'] = ct['Yes'].astype('str') + \" (\" + percent_yes.astype('str') + \"%)\"\n",
        "detailCt['No'] = ct['No'].astype('str') + \" (\" + percent_no.astype('str') + \"%)\"\n",
        "\n",
        "\n",
        "detailCt.All = ct.All.astype('str') + \" (\" + totalPercent.astype('str') + \"%)\"\n",
        "detailCt"
      ],
      "metadata": {
        "colab": {
          "base_uri": "https://localhost:8080/",
          "height": 175
        },
        "id": "O1vhIiyV0-9M",
        "outputId": "542d4c71-2d57-4705-9637-d00859a8604a"
      },
      "execution_count": 123,
      "outputs": [
        {
          "output_type": "execute_result",
          "data": {
            "text/html": [
              "<div>\n",
              "<style scoped>\n",
              "    .dataframe tbody tr th:only-of-type {\n",
              "        vertical-align: middle;\n",
              "    }\n",
              "\n",
              "    .dataframe tbody tr th {\n",
              "        vertical-align: top;\n",
              "    }\n",
              "\n",
              "    .dataframe thead th {\n",
              "        text-align: right;\n",
              "    }\n",
              "</style>\n",
              "<table border=\"1\" class=\"dataframe\">\n",
              "  <thead>\n",
              "    <tr style=\"text-align: right;\">\n",
              "      <th>Medal</th>\n",
              "      <th>No</th>\n",
              "      <th>Yes</th>\n",
              "      <th>All</th>\n",
              "    </tr>\n",
              "    <tr>\n",
              "      <th>Already_Medallist</th>\n",
              "      <th></th>\n",
              "      <th></th>\n",
              "      <th></th>\n",
              "    </tr>\n",
              "  </thead>\n",
              "  <tbody>\n",
              "    <tr>\n",
              "      <th>No</th>\n",
              "      <td>216580 (87.37%)</td>\n",
              "      <td>31308 (12.63%)</td>\n",
              "      <td>247888 (100.0%)</td>\n",
              "    </tr>\n",
              "    <tr>\n",
              "      <th>Yes</th>\n",
              "      <td>14753 (63.51%)</td>\n",
              "      <td>8475 (36.49%)</td>\n",
              "      <td>23228 (100.0%)</td>\n",
              "    </tr>\n",
              "    <tr>\n",
              "      <th>All</th>\n",
              "      <td>231333 (85.33%)</td>\n",
              "      <td>39783 (14.67%)</td>\n",
              "      <td>271116 (100.0%)</td>\n",
              "    </tr>\n",
              "  </tbody>\n",
              "</table>\n",
              "</div>"
            ],
            "text/plain": [
              "Medal                           No             Yes              All\n",
              "Already_Medallist                                                  \n",
              "No                 216580 (87.37%)  31308 (12.63%)  247888 (100.0%)\n",
              "Yes                 14753 (63.51%)   8475 (36.49%)   23228 (100.0%)\n",
              "All                231333 (85.33%)  39783 (14.67%)  271116 (100.0%)"
            ]
          },
          "metadata": {},
          "execution_count": 123
        }
      ]
    },
    {
      "cell_type": "code",
      "source": [
        "# Here the effect is even more pronounced\n",
        "# Atheletes who have alreaady been medallists in an event have almost three times the\n",
        "#  chances(36.49%) of being a medallist in the current season than an athlete who has never won a medal before(12.63%)."
      ],
      "metadata": {
        "id": "R5SGhKJF0_AZ"
      },
      "execution_count": 124,
      "outputs": []
    },
    {
      "cell_type": "code",
      "source": [
        "# Chi square test to test significance\n",
        "from scipy.stats import chi2_contingency\n",
        "chi2, p, dof, ex = chi2_contingency(ct)\n",
        "print('Overall: ')\n",
        "print(\"p-val = \", p)"
      ],
      "metadata": {
        "colab": {
          "base_uri": "https://localhost:8080/"
        },
        "id": "bRXWRgET0_FR",
        "outputId": "ad8d083b-f8be-44b4-ce6e-bef4f57862ca"
      },
      "execution_count": 125,
      "outputs": [
        {
          "output_type": "stream",
          "name": "stdout",
          "text": [
            "Overall: \n",
            "p-val =  0.0\n"
          ]
        }
      ]
    },
    {
      "cell_type": "code",
      "source": [
        "# p-value exactly 0.\n",
        "# There is a strong statistical significance. We can safely reject the null hypothesis. \n",
        "# There is strong evidence of a relationship between an athlete's previous medal winning status and current \n",
        "# season's medal winning"
      ],
      "metadata": {
        "id": "YBYJcXis0_Jq"
      },
      "execution_count": 126,
      "outputs": []
    },
    {
      "cell_type": "code",
      "source": [
        "# Getting the country data \n",
        "# (NOC - National Olympic Committee and not Team since a single NOC can have more than one Team)\n",
        "data2 = pd.read_csv('finalData.csv')\n",
        "data['NOC'] = data2['NOC']\n",
        "data['Category'] = data2['Category']"
      ],
      "metadata": {
        "id": "FDv_Q-W30_MU"
      },
      "execution_count": 127,
      "outputs": []
    },
    {
      "cell_type": "code",
      "source": [
        "data2.head()"
      ],
      "metadata": {
        "colab": {
          "base_uri": "https://localhost:8080/",
          "height": 469
        },
        "id": "lj_6dwedWamk",
        "outputId": "e0b0df1f-e05c-4693-9eb9-04b5528e2611"
      },
      "execution_count": 128,
      "outputs": [
        {
          "output_type": "execute_result",
          "data": {
            "text/html": [
              "<div>\n",
              "<style scoped>\n",
              "    .dataframe tbody tr th:only-of-type {\n",
              "        vertical-align: middle;\n",
              "    }\n",
              "\n",
              "    .dataframe tbody tr th {\n",
              "        vertical-align: top;\n",
              "    }\n",
              "\n",
              "    .dataframe thead th {\n",
              "        text-align: right;\n",
              "    }\n",
              "</style>\n",
              "<table border=\"1\" class=\"dataframe\">\n",
              "  <thead>\n",
              "    <tr style=\"text-align: right;\">\n",
              "      <th></th>\n",
              "      <th>Unnamed: 0</th>\n",
              "      <th>Unnamed: 0.1</th>\n",
              "      <th>ID</th>\n",
              "      <th>Name</th>\n",
              "      <th>Sex</th>\n",
              "      <th>Age</th>\n",
              "      <th>Height</th>\n",
              "      <th>Weight</th>\n",
              "      <th>Team</th>\n",
              "      <th>NOC</th>\n",
              "      <th>Games</th>\n",
              "      <th>Year</th>\n",
              "      <th>Season</th>\n",
              "      <th>City</th>\n",
              "      <th>Sport</th>\n",
              "      <th>Event</th>\n",
              "      <th>Medal</th>\n",
              "      <th>Category</th>\n",
              "      <th>Age_Category</th>\n",
              "      <th>BMI</th>\n",
              "      <th>BMI_Category</th>\n",
              "    </tr>\n",
              "  </thead>\n",
              "  <tbody>\n",
              "    <tr>\n",
              "      <th>0</th>\n",
              "      <td>0</td>\n",
              "      <td>0</td>\n",
              "      <td>1</td>\n",
              "      <td>A Dijiang</td>\n",
              "      <td>M</td>\n",
              "      <td>24.0</td>\n",
              "      <td>180.000000</td>\n",
              "      <td>80.000000</td>\n",
              "      <td>China</td>\n",
              "      <td>CHN</td>\n",
              "      <td>1992 Summer</td>\n",
              "      <td>1992</td>\n",
              "      <td>Summer</td>\n",
              "      <td>Barcelona</td>\n",
              "      <td>Basketball</td>\n",
              "      <td>Basketball Men's Basketball</td>\n",
              "      <td>None</td>\n",
              "      <td>Ball based</td>\n",
              "      <td>20-29</td>\n",
              "      <td>24.7</td>\n",
              "      <td>18.5-24.9</td>\n",
              "    </tr>\n",
              "    <tr>\n",
              "      <th>1</th>\n",
              "      <td>1</td>\n",
              "      <td>1</td>\n",
              "      <td>2</td>\n",
              "      <td>A Lamusi</td>\n",
              "      <td>M</td>\n",
              "      <td>23.0</td>\n",
              "      <td>170.000000</td>\n",
              "      <td>60.000000</td>\n",
              "      <td>China</td>\n",
              "      <td>CHN</td>\n",
              "      <td>2012 Summer</td>\n",
              "      <td>2012</td>\n",
              "      <td>Summer</td>\n",
              "      <td>London</td>\n",
              "      <td>Judo</td>\n",
              "      <td>Judo Men's Extra-Lightweight</td>\n",
              "      <td>None</td>\n",
              "      <td>Combative</td>\n",
              "      <td>20-29</td>\n",
              "      <td>20.8</td>\n",
              "      <td>18.5-24.9</td>\n",
              "    </tr>\n",
              "    <tr>\n",
              "      <th>2</th>\n",
              "      <td>2</td>\n",
              "      <td>2</td>\n",
              "      <td>3</td>\n",
              "      <td>Gunnar Nielsen Aaby</td>\n",
              "      <td>M</td>\n",
              "      <td>24.0</td>\n",
              "      <td>174.916667</td>\n",
              "      <td>75.181818</td>\n",
              "      <td>Denmark</td>\n",
              "      <td>DEN</td>\n",
              "      <td>1920 Summer</td>\n",
              "      <td>1920</td>\n",
              "      <td>Summer</td>\n",
              "      <td>Antwerpen</td>\n",
              "      <td>Football</td>\n",
              "      <td>Football Men's Football</td>\n",
              "      <td>None</td>\n",
              "      <td>Ball based</td>\n",
              "      <td>20-29</td>\n",
              "      <td>24.6</td>\n",
              "      <td>18.5-24.9</td>\n",
              "    </tr>\n",
              "    <tr>\n",
              "      <th>3</th>\n",
              "      <td>3</td>\n",
              "      <td>3</td>\n",
              "      <td>4</td>\n",
              "      <td>Edgar Lindenau Aabye</td>\n",
              "      <td>M</td>\n",
              "      <td>34.0</td>\n",
              "      <td>NaN</td>\n",
              "      <td>NaN</td>\n",
              "      <td>Denmark/Sweden</td>\n",
              "      <td>DEN</td>\n",
              "      <td>1900 Summer</td>\n",
              "      <td>1900</td>\n",
              "      <td>Summer</td>\n",
              "      <td>Paris</td>\n",
              "      <td>Tug-Of-War</td>\n",
              "      <td>Tug-Of-War Men's Tug-Of-War</td>\n",
              "      <td>Gold</td>\n",
              "      <td>Combative</td>\n",
              "      <td>30-39</td>\n",
              "      <td>NaN</td>\n",
              "      <td>&gt;35</td>\n",
              "    </tr>\n",
              "    <tr>\n",
              "      <th>4</th>\n",
              "      <td>4</td>\n",
              "      <td>4</td>\n",
              "      <td>5</td>\n",
              "      <td>Christine Jacoba Aaftink</td>\n",
              "      <td>F</td>\n",
              "      <td>21.0</td>\n",
              "      <td>185.000000</td>\n",
              "      <td>82.000000</td>\n",
              "      <td>Netherlands</td>\n",
              "      <td>NED</td>\n",
              "      <td>1988 Winter</td>\n",
              "      <td>1988</td>\n",
              "      <td>Winter</td>\n",
              "      <td>Calgary</td>\n",
              "      <td>Speed Skating</td>\n",
              "      <td>Speed Skating Women's 500 metres</td>\n",
              "      <td>None</td>\n",
              "      <td>Other</td>\n",
              "      <td>20-29</td>\n",
              "      <td>24.0</td>\n",
              "      <td>18.5-24.9</td>\n",
              "    </tr>\n",
              "  </tbody>\n",
              "</table>\n",
              "</div>"
            ],
            "text/plain": [
              "   Unnamed: 0  Unnamed: 0.1  ID  ... Age_Category   BMI  BMI_Category\n",
              "0           0             0   1  ...        20-29  24.7     18.5-24.9\n",
              "1           1             1   2  ...        20-29  20.8     18.5-24.9\n",
              "2           2             2   3  ...        20-29  24.6     18.5-24.9\n",
              "3           3             3   4  ...        30-39   NaN           >35\n",
              "4           4             4   5  ...        20-29  24.0     18.5-24.9\n",
              "\n",
              "[5 rows x 21 columns]"
            ]
          },
          "metadata": {},
          "execution_count": 128
        }
      ]
    },
    {
      "cell_type": "code",
      "source": [
        "# Selecting the medallists\n",
        "data = data[data['Medal']=='Yes']\n",
        "def get_category(x):\n",
        "  if x['Already_Medallist'] == 'Yes':\n",
        "    return 'Medallist'\n",
        "  elif x['Already_Olympian'] == 'Yes':\n",
        "    return 'Non Medallist'\n",
        "  else:\n",
        "    return 'First Timer'\n",
        "  return None\n",
        "data['Medal_Category'] = data.apply(lambda x: get_category(x),axis=1)"
      ],
      "metadata": {
        "id": "FkKKgJv0YyKs"
      },
      "execution_count": 129,
      "outputs": []
    },
    {
      "cell_type": "code",
      "source": [
        "data.head()"
      ],
      "metadata": {
        "colab": {
          "base_uri": "https://localhost:8080/",
          "height": 469
        },
        "id": "EMYEgDYob1By",
        "outputId": "0d49168b-9b0a-4918-95ca-00d26e10a38d"
      },
      "execution_count": 130,
      "outputs": [
        {
          "output_type": "execute_result",
          "data": {
            "text/html": [
              "<div>\n",
              "<style scoped>\n",
              "    .dataframe tbody tr th:only-of-type {\n",
              "        vertical-align: middle;\n",
              "    }\n",
              "\n",
              "    .dataframe tbody tr th {\n",
              "        vertical-align: top;\n",
              "    }\n",
              "\n",
              "    .dataframe thead th {\n",
              "        text-align: right;\n",
              "    }\n",
              "</style>\n",
              "<table border=\"1\" class=\"dataframe\">\n",
              "  <thead>\n",
              "    <tr style=\"text-align: right;\">\n",
              "      <th></th>\n",
              "      <th>Unnamed: 0</th>\n",
              "      <th>ID</th>\n",
              "      <th>Year</th>\n",
              "      <th>Season</th>\n",
              "      <th>Sport</th>\n",
              "      <th>Event</th>\n",
              "      <th>Medal</th>\n",
              "      <th>Already_Olympian</th>\n",
              "      <th>Already_Medallist</th>\n",
              "      <th>NOC</th>\n",
              "      <th>Category</th>\n",
              "      <th>Medal_Category</th>\n",
              "    </tr>\n",
              "  </thead>\n",
              "  <tbody>\n",
              "    <tr>\n",
              "      <th>3</th>\n",
              "      <td>3</td>\n",
              "      <td>4</td>\n",
              "      <td>1900</td>\n",
              "      <td>Summer</td>\n",
              "      <td>Tug-Of-War</td>\n",
              "      <td>Tug-Of-War Men's Tug-Of-War</td>\n",
              "      <td>Yes</td>\n",
              "      <td>No</td>\n",
              "      <td>No</td>\n",
              "      <td>DEN</td>\n",
              "      <td>Combative</td>\n",
              "      <td>First Timer</td>\n",
              "    </tr>\n",
              "    <tr>\n",
              "      <th>37</th>\n",
              "      <td>37</td>\n",
              "      <td>15</td>\n",
              "      <td>1920</td>\n",
              "      <td>Summer</td>\n",
              "      <td>Swimming</td>\n",
              "      <td>Swimming Men's 200 metres Breaststroke</td>\n",
              "      <td>Yes</td>\n",
              "      <td>Yes</td>\n",
              "      <td>No</td>\n",
              "      <td>FIN</td>\n",
              "      <td>Athletic</td>\n",
              "      <td>Non Medallist</td>\n",
              "    </tr>\n",
              "    <tr>\n",
              "      <th>38</th>\n",
              "      <td>38</td>\n",
              "      <td>15</td>\n",
              "      <td>1920</td>\n",
              "      <td>Summer</td>\n",
              "      <td>Swimming</td>\n",
              "      <td>Swimming Men's 400 metres Breaststroke</td>\n",
              "      <td>Yes</td>\n",
              "      <td>Yes</td>\n",
              "      <td>No</td>\n",
              "      <td>FIN</td>\n",
              "      <td>Athletic</td>\n",
              "      <td>Non Medallist</td>\n",
              "    </tr>\n",
              "    <tr>\n",
              "      <th>40</th>\n",
              "      <td>40</td>\n",
              "      <td>16</td>\n",
              "      <td>2014</td>\n",
              "      <td>Winter</td>\n",
              "      <td>Ice Hockey</td>\n",
              "      <td>Ice Hockey Men's Ice Hockey</td>\n",
              "      <td>Yes</td>\n",
              "      <td>No</td>\n",
              "      <td>No</td>\n",
              "      <td>FIN</td>\n",
              "      <td>Ball based</td>\n",
              "      <td>First Timer</td>\n",
              "    </tr>\n",
              "    <tr>\n",
              "      <th>41</th>\n",
              "      <td>41</td>\n",
              "      <td>17</td>\n",
              "      <td>1948</td>\n",
              "      <td>Summer</td>\n",
              "      <td>Gymnastics</td>\n",
              "      <td>Gymnastics Men's Individual All-Around</td>\n",
              "      <td>Yes</td>\n",
              "      <td>No</td>\n",
              "      <td>No</td>\n",
              "      <td>FIN</td>\n",
              "      <td>Athletic</td>\n",
              "      <td>First Timer</td>\n",
              "    </tr>\n",
              "  </tbody>\n",
              "</table>\n",
              "</div>"
            ],
            "text/plain": [
              "    Unnamed: 0  ID  Year  ...  NOC    Category Medal_Category\n",
              "3            3   4  1900  ...  DEN   Combative    First Timer\n",
              "37          37  15  1920  ...  FIN    Athletic  Non Medallist\n",
              "38          38  15  1920  ...  FIN    Athletic  Non Medallist\n",
              "40          40  16  2014  ...  FIN  Ball based    First Timer\n",
              "41          41  17  1948  ...  FIN    Athletic    First Timer\n",
              "\n",
              "[5 rows x 12 columns]"
            ]
          },
          "metadata": {},
          "execution_count": 130
        }
      ]
    },
    {
      "cell_type": "code",
      "source": [
        "x = data[data['Medal_Category']=='First Timer'].groupby(['NOC','Category'])['Medal_Category'].count().to_frame('First Timers')\n",
        "x['Previously Medallists'] = data[data['Medal_Category']=='Medallist'].groupby(['NOC','Category'])['Medal_Category'].count().to_frame('Medallists')['Medallists']\n",
        "x['Previously Non Medallists'] = data[data['Medal_Category']=='Non Medallist'].groupby(['NOC','Category'])['Medal_Category'].count().to_frame('Non Medallists')['Non Medallists']\n",
        "x['Total Medallists'] = data.groupby(['NOC','Category'])['Medal_Category'].count().to_frame('Total Participants')['Total Participants']\n"
      ],
      "metadata": {
        "id": "7BEnGz5Uc-HO"
      },
      "execution_count": 131,
      "outputs": []
    },
    {
      "cell_type": "code",
      "source": [
        "x['First Timers'] = x['First Timers'] / x['Total Medallists']\n",
        "x['Previously Medallists'] = x['Previously Medallists'] / x['Total Medallists']\n",
        "x['Previously Non Medallists'] =x['Previously Non Medallists'] / x['Total Medallists']\n"
      ],
      "metadata": {
        "id": "36VSs-tTg5Me"
      },
      "execution_count": 132,
      "outputs": []
    },
    {
      "cell_type": "code",
      "source": [
        "x.head()"
      ],
      "metadata": {
        "colab": {
          "base_uri": "https://localhost:8080/",
          "height": 238
        },
        "id": "mtTICIWehBpu",
        "outputId": "57dfbea3-98ff-4ecb-b1f0-0201e707ba84"
      },
      "execution_count": 133,
      "outputs": [
        {
          "output_type": "execute_result",
          "data": {
            "text/html": [
              "<div>\n",
              "<style scoped>\n",
              "    .dataframe tbody tr th:only-of-type {\n",
              "        vertical-align: middle;\n",
              "    }\n",
              "\n",
              "    .dataframe tbody tr th {\n",
              "        vertical-align: top;\n",
              "    }\n",
              "\n",
              "    .dataframe thead th {\n",
              "        text-align: right;\n",
              "    }\n",
              "</style>\n",
              "<table border=\"1\" class=\"dataframe\">\n",
              "  <thead>\n",
              "    <tr style=\"text-align: right;\">\n",
              "      <th></th>\n",
              "      <th></th>\n",
              "      <th>First Timers</th>\n",
              "      <th>Previously Medallists</th>\n",
              "      <th>Previously Non Medallists</th>\n",
              "      <th>Total Medallists</th>\n",
              "    </tr>\n",
              "    <tr>\n",
              "      <th>NOC</th>\n",
              "      <th>Category</th>\n",
              "      <th></th>\n",
              "      <th></th>\n",
              "      <th></th>\n",
              "      <th></th>\n",
              "    </tr>\n",
              "  </thead>\n",
              "  <tbody>\n",
              "    <tr>\n",
              "      <th>AFG</th>\n",
              "      <th>Combative</th>\n",
              "      <td>0.500000</td>\n",
              "      <td>0.500000</td>\n",
              "      <td>NaN</td>\n",
              "      <td>2</td>\n",
              "    </tr>\n",
              "    <tr>\n",
              "      <th>AHO</th>\n",
              "      <th>Other</th>\n",
              "      <td>1.000000</td>\n",
              "      <td>NaN</td>\n",
              "      <td>NaN</td>\n",
              "      <td>1</td>\n",
              "    </tr>\n",
              "    <tr>\n",
              "      <th rowspan=\"2\" valign=\"top\">ALG</th>\n",
              "      <th>Athletic</th>\n",
              "      <td>0.444444</td>\n",
              "      <td>0.222222</td>\n",
              "      <td>0.333333</td>\n",
              "      <td>9</td>\n",
              "    </tr>\n",
              "    <tr>\n",
              "      <th>Combative</th>\n",
              "      <td>0.500000</td>\n",
              "      <td>0.125000</td>\n",
              "      <td>0.375000</td>\n",
              "      <td>8</td>\n",
              "    </tr>\n",
              "    <tr>\n",
              "      <th>ANZ</th>\n",
              "      <th>Athletic</th>\n",
              "      <td>0.833333</td>\n",
              "      <td>0.166667</td>\n",
              "      <td>NaN</td>\n",
              "      <td>12</td>\n",
              "    </tr>\n",
              "  </tbody>\n",
              "</table>\n",
              "</div>"
            ],
            "text/plain": [
              "               First Timers  ...  Total Medallists\n",
              "NOC Category                 ...                  \n",
              "AFG Combative      0.500000  ...                 2\n",
              "AHO Other          1.000000  ...                 1\n",
              "ALG Athletic       0.444444  ...                 9\n",
              "    Combative      0.500000  ...                 8\n",
              "ANZ Athletic       0.833333  ...                12\n",
              "\n",
              "[5 rows x 4 columns]"
            ]
          },
          "metadata": {},
          "execution_count": 133
        }
      ]
    },
    {
      "cell_type": "code",
      "source": [
        "x = x.fillna(0)"
      ],
      "metadata": {
        "id": "osgCF2ecdLNm"
      },
      "execution_count": 134,
      "outputs": []
    },
    {
      "cell_type": "code",
      "source": [
        "x = x.reset_index()"
      ],
      "metadata": {
        "id": "IKHps3yKfmwC"
      },
      "execution_count": 135,
      "outputs": []
    },
    {
      "cell_type": "code",
      "source": [
        "x['First Timers'].max()"
      ],
      "metadata": {
        "colab": {
          "base_uri": "https://localhost:8080/"
        },
        "id": "w-AEWNvFrNiN",
        "outputId": "a55794d1-2a1c-47f1-ae62-6cf523c20a01"
      },
      "execution_count": 141,
      "outputs": [
        {
          "output_type": "execute_result",
          "data": {
            "text/plain": [
              "1.0"
            ]
          },
          "metadata": {},
          "execution_count": 141
        }
      ]
    },
    {
      "cell_type": "code",
      "source": [
        "# violin plot\n",
        "import seaborn as sns\n",
        "print('Ratio of first timers becoming medallists: ')\n",
        "sns.set(rc={'figure.figsize':(8,6)})\n",
        "sns.violinplot(x = 'Category', y = 'First Timers', data = x)"
      ],
      "metadata": {
        "colab": {
          "base_uri": "https://localhost:8080/",
          "height": 429
        },
        "id": "yjI_ASIUeyk7",
        "outputId": "6602d1ef-313f-4852-9b58-974be473d855"
      },
      "execution_count": 139,
      "outputs": [
        {
          "output_type": "stream",
          "name": "stdout",
          "text": [
            "Ratio of first timers becoming medallists: \n"
          ]
        },
        {
          "output_type": "execute_result",
          "data": {
            "text/plain": [
              "<matplotlib.axes._subplots.AxesSubplot at 0x7fe9eca0ec90>"
            ]
          },
          "metadata": {},
          "execution_count": 139
        },
        {
          "output_type": "display_data",
          "data": {
            "image/png": "[encoded data removed]",
            "text/plain": [
              "<Figure size 576x432 with 1 Axes>"
            ]
          },
          "metadata": {}
        }
      ]
    },
    {
      "cell_type": "code",
      "source": [
        "# violin plot\n",
        "import seaborn as sns\n",
        "print('Ratio of previously medal winners becoming medallists: ')\n",
        "sns.set(rc={'figure.figsize':(8,6)})\n",
        "sns.violinplot(x = 'Category', y = 'Previously Medallists', data = x)"
      ],
      "metadata": {
        "colab": {
          "base_uri": "https://localhost:8080/",
          "height": 429
        },
        "id": "ravka4XfivA6",
        "outputId": "72e903f8-85da-4526-ad86-4c7b74d8c537"
      },
      "execution_count": 140,
      "outputs": [
        {
          "output_type": "stream",
          "name": "stdout",
          "text": [
            "Ratio of previously medal winners becoming medallists: \n"
          ]
        },
        {
          "output_type": "execute_result",
          "data": {
            "text/plain": [
              "<matplotlib.axes._subplots.AxesSubplot at 0x7fe9ecc3f650>"
            ]
          },
          "metadata": {},
          "execution_count": 140
        },
        {
          "output_type": "display_data",
          "data": {
            "image/png": "[encoded data removed]",
            "text/plain": [
              "<Figure size 576x432 with 1 Axes>"
            ]
          },
          "metadata": {}
        }
      ]
    },
    {
      "cell_type": "code",
      "source": [
        "# violin plot\n",
        "import seaborn as sns\n",
        "print('Ratio of previously non-medallists becoming medallists: ')\n",
        "sns.set(rc={'figure.figsize':(8,6)})\n",
        "sns.violinplot(x = 'Category', y = 'Previously Non Medallists', data = x)"
      ],
      "metadata": {
        "colab": {
          "base_uri": "https://localhost:8080/",
          "height": 429
        },
        "id": "kVCl94tKivP-",
        "outputId": "97d709dc-ec0e-40c9-e1b7-0bad638ba0f9"
      },
      "execution_count": 142,
      "outputs": [
        {
          "output_type": "stream",
          "name": "stdout",
          "text": [
            "Ratio of previously non-medallists becoming medallists: \n"
          ]
        },
        {
          "output_type": "execute_result",
          "data": {
            "text/plain": [
              "<matplotlib.axes._subplots.AxesSubplot at 0x7fe9ee268410>"
            ]
          },
          "metadata": {},
          "execution_count": 142
        },
        {
          "output_type": "display_data",
          "data": {
            "image/png": "[encoded data removed]",
            "text/plain": [
              "<Figure size 576x432 with 1 Axes>"
            ]
          },
          "metadata": {}
        }
      ]
    },
    {
      "cell_type": "code",
      "source": [
        "# Stronger presence of first timers winning medals"
      ],
      "metadata": {
        "id": "LGzhdsg31tNx"
      },
      "execution_count": null,
      "outputs": []
    }
  ]
}