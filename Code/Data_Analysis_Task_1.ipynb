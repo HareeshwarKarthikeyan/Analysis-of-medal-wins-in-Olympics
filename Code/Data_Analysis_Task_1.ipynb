{
  "nbformat": 4,
  "nbformat_minor": 0,
  "metadata": {
    "colab": {
      "name": "Data Analysis Task 1.ipynb",
      "provenance": [],
      "collapsed_sections": []
    },
    "kernelspec": {
      "name": "python3",
      "display_name": "Python 3"
    },
    "language_info": {
      "name": "python"
    }
  },
  "cells": [
    {
      "cell_type": "code",
      "metadata": {
        "id": "7A4AogBbalZJ"
      },
      "source": [
        "import numpy as np\n",
        "import pandas as pd"
      ],
      "execution_count": 61,
      "outputs": []
    },
    {
      "cell_type": "code",
      "metadata": {
        "id": "iTn3CEIXatn-"
      },
      "source": [
        "data = pd.read_csv('cleaned.csv')"
      ],
      "execution_count": 62,
      "outputs": []
    },
    {
      "cell_type": "code",
      "metadata": {
        "id": "eHBzvWruatuO"
      },
      "source": [
        "# Categories of sports\n",
        "\n",
        "# Athleticism - Intense events requiring the most elite levels of individual speed, endurance, strength and flexibility \n",
        "athletic_sports = ['Athletics','Swimming','Biathlon','Gymnastics','Weightlifting','Cycling','Triathlon', \\\n",
        "                  'Rowing','Modern Pentathlon', 'Diving','Synchronized Swimming', 'Rhythmic Gymnastics', \\\n",
        "                    'Canoeing','Trampolining', 'Alpinism'  ]\n",
        "\n",
        "# One vs Other combative sports which require physical strength, skill and endurance\n",
        "combative_sports = ['Judo','Wrestling','Fencing','Boxing', 'Taekwondo', 'Tug-Of-War']\n",
        "\n",
        "# Mostly team events where there is a ball or disk or an object of interest and an elaborate set of rules for play\n",
        "# Requires special game based skills along with physical fitness\n",
        "ball_based_sports = ['Basketball','Football','Ice Hockey','Handball','Water Polo','Hockey','Volleyball','Baseball',\\\n",
        "              'Rugby','Polo', 'Cricket',  'Softball', 'Rugby Sevens' ,'Badminton','Tennis','Table Tennis', 'Racquets', \\\n",
        "              'Lacrosse','Jeu De Paume','Basque Pelota','Beach Volleyball' ]\n",
        "   \n",
        "# Events where fitness levels matter but special maneuvering skills (with/without special equipments) matter the most \n",
        "other_sports = ['Art Competitions','Shooting', 'Archery', 'Curling','Equestrianism', 'Luge', 'Bobsleigh', 'Speed Skating', \\\n",
        "                'Cross Country Skiing','Sailing','Short Track Speed Skating','Figure Skating','Ski Jumping'  \\\n",
        "                ,'Nordic Combined', 'Snowboarding','Alpine Skiing','Freestyle Skiing', 'Skeleton', 'Motorboating', \\\n",
        "                  'Military Ski Patrol','Golf','Croquet','Roque', 'Aeronautics' ]"
      ],
      "execution_count": 63,
      "outputs": []
    },
    {
      "cell_type": "code",
      "metadata": {
        "id": "RSZB7fXLatv-"
      },
      "source": [
        "# Adding the category variable\n",
        "\n",
        "def get_category(row):\n",
        "  sport = row['Sport']\n",
        "  if sport in athletic_sports:\n",
        "    return 'Athletic'\n",
        "  elif sport in combative_sports:\n",
        "    return 'Combative'\n",
        "  elif sport in ball_based_sports:\n",
        "    return 'Ball based'\n",
        "  else:\n",
        "    return 'Other'\n",
        "\n",
        "data['Category'] = data.apply(lambda row: get_category(row),axis=1)"
      ],
      "execution_count": 64,
      "outputs": []
    },
    {
      "cell_type": "code",
      "metadata": {
        "colab": {
          "base_uri": "https://localhost:8080/"
        },
        "id": "XrKZW31Yatz1",
        "outputId": "98024424-5949-4358-c3a6-0803a64748f5"
      },
      "source": [
        "data.columns"
      ],
      "execution_count": 65,
      "outputs": [
        {
          "output_type": "execute_result",
          "data": {
            "text/plain": [
              "Index(['Unnamed: 0', 'ID', 'Name', 'Sex', 'Age', 'Height', 'Weight', 'Team',\n",
              "       'NOC', 'Games', 'Year', 'Season', 'City', 'Sport', 'Event', 'Medal',\n",
              "       'Category'],\n",
              "      dtype='object')"
            ]
          },
          "metadata": {},
          "execution_count": 65
        }
      ]
    },
    {
      "cell_type": "code",
      "metadata": {
        "colab": {
          "base_uri": "https://localhost:8080/",
          "height": 469
        },
        "id": "YWoDkBIjat3v",
        "outputId": "79b08fab-6a9b-4495-af0a-fb69dbfe2017"
      },
      "source": [
        "data.head()"
      ],
      "execution_count": 66,
      "outputs": [
        {
          "output_type": "execute_result",
          "data": {
            "text/html": [
              "<div>\n",
              "<style scoped>\n",
              "    .dataframe tbody tr th:only-of-type {\n",
              "        vertical-align: middle;\n",
              "    }\n",
              "\n",
              "    .dataframe tbody tr th {\n",
              "        vertical-align: top;\n",
              "    }\n",
              "\n",
              "    .dataframe thead th {\n",
              "        text-align: right;\n",
              "    }\n",
              "</style>\n",
              "<table border=\"1\" class=\"dataframe\">\n",
              "  <thead>\n",
              "    <tr style=\"text-align: right;\">\n",
              "      <th></th>\n",
              "      <th>Unnamed: 0</th>\n",
              "      <th>ID</th>\n",
              "      <th>Name</th>\n",
              "      <th>Sex</th>\n",
              "      <th>Age</th>\n",
              "      <th>Height</th>\n",
              "      <th>Weight</th>\n",
              "      <th>Team</th>\n",
              "      <th>NOC</th>\n",
              "      <th>Games</th>\n",
              "      <th>Year</th>\n",
              "      <th>Season</th>\n",
              "      <th>City</th>\n",
              "      <th>Sport</th>\n",
              "      <th>Event</th>\n",
              "      <th>Medal</th>\n",
              "      <th>Category</th>\n",
              "    </tr>\n",
              "  </thead>\n",
              "  <tbody>\n",
              "    <tr>\n",
              "      <th>0</th>\n",
              "      <td>0</td>\n",
              "      <td>1</td>\n",
              "      <td>A Dijiang</td>\n",
              "      <td>M</td>\n",
              "      <td>24.0</td>\n",
              "      <td>180.000000</td>\n",
              "      <td>80.000000</td>\n",
              "      <td>China</td>\n",
              "      <td>CHN</td>\n",
              "      <td>1992 Summer</td>\n",
              "      <td>1992</td>\n",
              "      <td>Summer</td>\n",
              "      <td>Barcelona</td>\n",
              "      <td>Basketball</td>\n",
              "      <td>Basketball Men's Basketball</td>\n",
              "      <td>None</td>\n",
              "      <td>Ball based</td>\n",
              "    </tr>\n",
              "    <tr>\n",
              "      <th>1</th>\n",
              "      <td>1</td>\n",
              "      <td>2</td>\n",
              "      <td>A Lamusi</td>\n",
              "      <td>M</td>\n",
              "      <td>23.0</td>\n",
              "      <td>170.000000</td>\n",
              "      <td>60.000000</td>\n",
              "      <td>China</td>\n",
              "      <td>CHN</td>\n",
              "      <td>2012 Summer</td>\n",
              "      <td>2012</td>\n",
              "      <td>Summer</td>\n",
              "      <td>London</td>\n",
              "      <td>Judo</td>\n",
              "      <td>Judo Men's Extra-Lightweight</td>\n",
              "      <td>None</td>\n",
              "      <td>Combative</td>\n",
              "    </tr>\n",
              "    <tr>\n",
              "      <th>2</th>\n",
              "      <td>2</td>\n",
              "      <td>3</td>\n",
              "      <td>Gunnar Nielsen Aaby</td>\n",
              "      <td>M</td>\n",
              "      <td>24.0</td>\n",
              "      <td>174.916667</td>\n",
              "      <td>75.181818</td>\n",
              "      <td>Denmark</td>\n",
              "      <td>DEN</td>\n",
              "      <td>1920 Summer</td>\n",
              "      <td>1920</td>\n",
              "      <td>Summer</td>\n",
              "      <td>Antwerpen</td>\n",
              "      <td>Football</td>\n",
              "      <td>Football Men's Football</td>\n",
              "      <td>None</td>\n",
              "      <td>Ball based</td>\n",
              "    </tr>\n",
              "    <tr>\n",
              "      <th>3</th>\n",
              "      <td>3</td>\n",
              "      <td>4</td>\n",
              "      <td>Edgar Lindenau Aabye</td>\n",
              "      <td>M</td>\n",
              "      <td>34.0</td>\n",
              "      <td>NaN</td>\n",
              "      <td>NaN</td>\n",
              "      <td>Denmark/Sweden</td>\n",
              "      <td>DEN</td>\n",
              "      <td>1900 Summer</td>\n",
              "      <td>1900</td>\n",
              "      <td>Summer</td>\n",
              "      <td>Paris</td>\n",
              "      <td>Tug-Of-War</td>\n",
              "      <td>Tug-Of-War Men's Tug-Of-War</td>\n",
              "      <td>Gold</td>\n",
              "      <td>Combative</td>\n",
              "    </tr>\n",
              "    <tr>\n",
              "      <th>4</th>\n",
              "      <td>4</td>\n",
              "      <td>5</td>\n",
              "      <td>Christine Jacoba Aaftink</td>\n",
              "      <td>F</td>\n",
              "      <td>21.0</td>\n",
              "      <td>185.000000</td>\n",
              "      <td>82.000000</td>\n",
              "      <td>Netherlands</td>\n",
              "      <td>NED</td>\n",
              "      <td>1988 Winter</td>\n",
              "      <td>1988</td>\n",
              "      <td>Winter</td>\n",
              "      <td>Calgary</td>\n",
              "      <td>Speed Skating</td>\n",
              "      <td>Speed Skating Women's 500 metres</td>\n",
              "      <td>None</td>\n",
              "      <td>Other</td>\n",
              "    </tr>\n",
              "  </tbody>\n",
              "</table>\n",
              "</div>"
            ],
            "text/plain": [
              "   Unnamed: 0  ID  ... Medal    Category\n",
              "0           0   1  ...  None  Ball based\n",
              "1           1   2  ...  None   Combative\n",
              "2           2   3  ...  None  Ball based\n",
              "3           3   4  ...  Gold   Combative\n",
              "4           4   5  ...  None       Other\n",
              "\n",
              "[5 rows x 17 columns]"
            ]
          },
          "metadata": {},
          "execution_count": 66
        }
      ]
    },
    {
      "cell_type": "code",
      "metadata": {
        "colab": {
          "base_uri": "https://localhost:8080/",
          "height": 282
        },
        "id": "l8hopi1lauJF",
        "outputId": "7e412e3c-8471-4553-d454-6d5cbcfcad23"
      },
      "source": [
        "# Looking into age \n",
        "data['Age'].hist()"
      ],
      "execution_count": 67,
      "outputs": [
        {
          "output_type": "execute_result",
          "data": {
            "text/plain": [
              "<matplotlib.axes._subplots.AxesSubplot at 0x7f1ab9b58490>"
            ]
          },
          "metadata": {},
          "execution_count": 67
        },
        {
          "output_type": "display_data",
          "data": {
            "image/png": "[encoded data removed]",
            "text/plain": [
              "<Figure size 432x288 with 1 Axes>"
            ]
          },
          "metadata": {
            "needs_background": "light"
          }
        }
      ]
    },
    {
      "cell_type": "code",
      "metadata": {
        "id": "q-LMM04mauNx"
      },
      "source": [
        "# Most athletes are within 20 to 40\n",
        "# Let us have four age categories\n",
        "#   <20, 20-30, 30-40, >40\n",
        "def get_Age_Category(age):\n",
        "  if age < 20:\n",
        "    return '<20'\n",
        "  elif age < 30 :\n",
        "    return '20-29'\n",
        "  elif age < 40:\n",
        "    return '30-39'\n",
        "  else:\n",
        "    return '>=40'\n",
        "data['Age_Category'] = data.apply(lambda row: get_Age_Category(row['Age']), axis =1)"
      ],
      "execution_count": 68,
      "outputs": []
    },
    {
      "cell_type": "code",
      "metadata": {
        "id": "XsbETNn6jm0f"
      },
      "source": [
        "# Looking into BMI as the fitness measure\n",
        "def get_BMI(height,weight):\n",
        "  height = float(height)/100 # converting from cm to metre \n",
        "  return (round(weight/(height*height),1))\n",
        "\n",
        "data['BMI'] = data.apply(lambda row: get_BMI(row['Height'],row['Weight']), axis =1)"
      ],
      "execution_count": 69,
      "outputs": []
    },
    {
      "cell_type": "code",
      "metadata": {
        "colab": {
          "base_uri": "https://localhost:8080/",
          "height": 282
        },
        "id": "LgqZ9H8ekJkU",
        "outputId": "477bed6d-5a35-46b2-8409-219139636ce1"
      },
      "source": [
        "data['BMI'].hist()"
      ],
      "execution_count": 70,
      "outputs": [
        {
          "output_type": "execute_result",
          "data": {
            "text/plain": [
              "<matplotlib.axes._subplots.AxesSubplot at 0x7f1ab9c879d0>"
            ]
          },
          "metadata": {},
          "execution_count": 70
        },
        {
          "output_type": "display_data",
          "data": {
            "image/png": "[encoded data removed]",
            "text/plain": [
              "<Figure size 432x288 with 1 Axes>"
            ]
          },
          "metadata": {
            "needs_background": "light"
          }
        }
      ]
    },
    {
      "cell_type": "code",
      "metadata": {
        "id": "Ml-flw-Qs2vt"
      },
      "source": [
        "# Categorising BMI\n",
        "# <18.5, 18.5-24.9, 25-29.9, 30-34.9, >35\n",
        "def get_BMI_Category(BMI):\n",
        "  if BMI < 18.5:\n",
        "    return '<18.5'\n",
        "  elif BMI <= 24.9:\n",
        "    return '18.5-24.9'\n",
        "  elif BMI <= 29.9:\n",
        "    return '25-29.9'\n",
        "  elif BMI <= 34.9:\n",
        "    return '30-34.9'\n",
        "  else:\n",
        "    return '>35'\n",
        "data['BMI_Category'] = data.apply(lambda row: get_BMI_Category(row['BMI']), axis =1)"
      ],
      "execution_count": 71,
      "outputs": []
    },
    {
      "cell_type": "code",
      "metadata": {
        "colab": {
          "base_uri": "https://localhost:8080/"
        },
        "id": "UGVSJ4WwlBqV",
        "outputId": "2d37dc37-5159-4788-dcc9-4b9869831cff"
      },
      "source": [
        "# Outliers?\n",
        "data[data['BMI']>40]['Event'].unique()\n",
        "# Mostly Heavyweight events"
      ],
      "execution_count": 72,
      "outputs": [
        {
          "output_type": "execute_result",
          "data": {
            "text/plain": [
              "array([\"Weightlifting Women's Super-Heavyweight\",\n",
              "       \"Weightlifting Men's Super-Heavyweight\",\n",
              "       \"Weightlifting Men's Heavyweight\",\n",
              "       \"Wrestling Men's Super-Heavyweight, Greco-Roman\",\n",
              "       \"Wrestling Men's Super-Heavyweight, Freestyle\",\n",
              "       'Sailing Mixed Two Person Heavyweight Dinghy',\n",
              "       'Sailing Mixed Two Person Keelboat', \"Judo Men's Heavyweight\",\n",
              "       \"Archery Men's Individual\", \"Judo Women's Heavyweight\",\n",
              "       \"Athletics Men's Shot Put\", \"Athletics Women's Shot Put\",\n",
              "       \"Shooting Men's Skeet\", \"Judo Men's Half-Heavyweight\",\n",
              "       \"Weightlifting Men's Heavyweight I\",\n",
              "       \"Shooting Women's Air Pistol, 10 metres\", \"Shooting Men's Trap\",\n",
              "       \"Weightlifting Men's Heavyweight II\",\n",
              "       \"Athletics Women's Discus Throw\", \"Bobsleigh Men's Two\",\n",
              "       \"Bobsleigh Men's Four\", \"Judo Men's Half-Middleweight\",\n",
              "       \"Table Tennis Women's Singles\", \"Judo Men's Open Class\",\n",
              "       \"Boxing Men's Middleweight\", 'Shooting Mixed Trap',\n",
              "       \"Wrestling Men's Flyweight, Freestyle\",\n",
              "       \"Wrestling Men's Heavyweight, Greco-Roman\",\n",
              "       \"Wrestling Men's Bantamweight, Freestyle\",\n",
              "       \"Wrestling Men's Featherweight, Freestyle\",\n",
              "       'Sailing Mixed Three Person Keelboat',\n",
              "       \"Boxing Men's Super-Heavyweight\"], dtype=object)"
            ]
          },
          "metadata": {},
          "execution_count": 72
        }
      ]
    },
    {
      "cell_type": "code",
      "metadata": {
        "colab": {
          "base_uri": "https://localhost:8080/"
        },
        "id": "scP_GViOld7l",
        "outputId": "fd2e7601-d919-4428-f3f4-4c528aebcda7"
      },
      "source": [
        "data[data['BMI']<20]['Event'].unique()\n",
        "# Mostly Women's games, Lightweight events and endurance events"
      ],
      "execution_count": 73,
      "outputs": [
        {
          "output_type": "execute_result",
          "data": {
            "text/plain": [
              "array([\"Football Women's Football\", \"Taekwondo Men's Flyweight\",\n",
              "       \"Taekwondo Women's Flyweight\", \"Boxing Men's Flyweight\",\n",
              "       \"Boxing Men's Featherweight\", \"Athletics Women's Marathon\",\n",
              "       \"Boxing Men's Lightweight\", \"Alpine Skiing Men's Giant Slalom\",\n",
              "       \"Cycling Women's Road Race, Individual\",\n",
              "       \"Taekwondo Women's Featherweight\",\n",
              "       \"Athletics Women's 3,000 metres\",\n",
              "       \"Synchronized Swimming Women's Duet\",\n",
              "       \"Boxing Men's Light-Flyweight\",\n",
              "       \"Synchronized Swimming Women's Team\",\n",
              "       \"Athletics Men's 5,000 metres\", \"Athletics Men's 10,000 metres\",\n",
              "       \"Athletics Men's Marathon\",\n",
              "       \"Swimming Women's 100 metres Backstroke\",\n",
              "       \"Swimming Women's 200 metres Backstroke\",\n",
              "       \"Swimming Women's 4 x 100 metres Medley Relay\",\n",
              "       \"Athletics Men's 400 metres\", \"Swimming Men's 50 metres Freestyle\",\n",
              "       \"Cycling Men's Road Race, Individual\",\n",
              "       \"Athletics Women's Long Jump\",\n",
              "       \"Wrestling Men's Flyweight, Freestyle\",\n",
              "       \"Wrestling Men's Bantamweight, Freestyle\",\n",
              "       \"Wrestling Men's Featherweight, Freestyle\",\n",
              "       \"Athletics Women's 5,000 metres\",\n",
              "       \"Rhythmic Gymnastics Women's Group\",\n",
              "       \"Gymnastics Women's Individual All-Around\",\n",
              "       \"Gymnastics Women's Team All-Around\",\n",
              "       \"Gymnastics Women's Floor Exercise\",\n",
              "       \"Gymnastics Women's Horse Vault\", \"Gymnastics Women's Uneven Bars\",\n",
              "       \"Gymnastics Women's Balance Beam\",\n",
              "       \"Athletics Women's 10,000 metres\",\n",
              "       \"Athletics Women's 1,500 metres\",\n",
              "       \"Shooting Men's Running Target, 50 metres\",\n",
              "       \"Diving Women's Platform\", \"Athletics Women's Pole Vault\",\n",
              "       'Figure Skating Mixed Pairs',\n",
              "       \"Athletics Women's 4 x 400 metres Relay\",\n",
              "       \"Athletics Men's 800 metres\", \"Athletics Men's 1,500 metres\",\n",
              "       \"Wrestling Men's Bantamweight, Greco-Roman\",\n",
              "       \"Athletics Men's Triple Jump\", \"Boxing Men's Bantamweight\",\n",
              "       \"Athletics Women's 800 metres\",\n",
              "       \"Rhythmic Gymnastics Women's Individual\",\n",
              "       \"Athletics Women's 400 metres\", \"Figure Skating Women's Singles\",\n",
              "       \"Cycling Women's Mountainbike, Cross-Country\",\n",
              "       \"Triathlon Women's Olympic Distance\",\n",
              "       \"Athletics Men's 3,000 metres Steeplechase\",\n",
              "       \"Athletics Women's 400 metres Hurdles\",\n",
              "       \"Volleyball Women's Volleyball\", \"Athletics Women's 200 metres\",\n",
              "       \"Athletics Women's 4 x 100 metres Relay\",\n",
              "       \"Athletics Women's High Jump\", \"Athletics Men's Pole Vault\",\n",
              "       \"Swimming Women's 200 metres Butterfly\",\n",
              "       \"Swimming Women's 400 metres Individual Medley\",\n",
              "       \"Athletics Men's 20 kilometres Walk\",\n",
              "       \"Athletics Men's 50 kilometres Walk\", \"Boxing Women's Flyweight\",\n",
              "       \"Athletics Men's 100 metres\", \"Athletics Men's 200 metres\",\n",
              "       \"Athletics Men's 4 x 100 metres Relay\",\n",
              "       \"Wrestling Women's Featherweight, Freestyle\",\n",
              "       \"Swimming Women's 200 metres Freestyle\",\n",
              "       \"Swimming Women's 400 metres Freestyle\",\n",
              "       \"Swimming Women's 200 metres Individual Medley\",\n",
              "       \"Cross Country Skiing Women's 5 kilometres\",\n",
              "       \"Cross Country Skiing Women's 10 kilometres\",\n",
              "       \"Sailing Women's Two Person Dinghy\",\n",
              "       \"Wrestling Men's Featherweight, Greco-Roman\",\n",
              "       \"Swimming Men's 100 metres Freestyle\",\n",
              "       \"Basketball Women's Basketball\", \"Handball Women's Handball\",\n",
              "       \"Freestyle Skiing Women's Halfpipe\",\n",
              "       \"Athletics Women's Heptathlon\",\n",
              "       \"Synchronized Swimming Women's Solo\",\n",
              "       \"Athletics Women's 100 metres\", 'Figure Skating Mixed Ice Dancing',\n",
              "       \"Swimming Women's 50 metres Freestyle\",\n",
              "       \"Table Tennis Women's Doubles\", \"Table Tennis Women's Singles\",\n",
              "       \"Athletics Men's High Jump\", \"Hockey Men's Hockey\",\n",
              "       \"Hockey Women's Hockey\",\n",
              "       \"Cross Country Skiing Women's 30 kilometres\",\n",
              "       \"Cross Country Skiing Women's 15 km Skiathlon\",\n",
              "       \"Football Men's Football\",\n",
              "       \"Canoeing Women's Kayak Singles, Slalom\",\n",
              "       \"Athletics Men's 110 metres Hurdles\", \"Athletics Men's Long Jump\",\n",
              "       \"Athletics Men's Standing Long Jump\",\n",
              "       \"Swimming Women's 4 x 100 metres Freestyle Relay\",\n",
              "       \"Swimming Women's 100 metres Butterfly\",\n",
              "       \"Volleyball Men's Volleyball\", \"Taekwondo Men's Featherweight\",\n",
              "       \"Athletics Women's 3,000 metres Steeplechase\",\n",
              "       \"Athletics Men's Shot Put\", \"Athletics Men's Shot Put, Both Hands\",\n",
              "       \"Ski Jumping Men's Normal Hill, Individual\",\n",
              "       \"Ski Jumping Men's Large Hill, Individual\",\n",
              "       \"Ski Jumping Men's Large Hill, Team\", \"Rowing Men's Coxed Eights\",\n",
              "       \"Swimming Women's 4 x 200 metres Freestyle Relay\",\n",
              "       \"Bobsleigh Men's Four\", \"Athletics Women's 20 kilometres Walk\",\n",
              "       \"Athletics Men's 4 x 400 metres Relay\", \"Archery Men's Individual\",\n",
              "       \"Archery Men's Team\", \"Athletics Women's 100 metres Hurdles\",\n",
              "       \"Swimming Women's 100 metres Freestyle\",\n",
              "       \"Shooting Women's Air Rifle, 10 metres\",\n",
              "       \"Shooting Women's Small-Bore Rifle, Three Positions, 50 metres\",\n",
              "       \"Wrestling Men's Light-Flyweight, Freestyle\",\n",
              "       \"Cycling Men's 100 kilometres Team Time Trial\",\n",
              "       \"Swimming Men's 400 metres Freestyle\",\n",
              "       \"Swimming Men's 4 x 100 metres Freestyle Relay\",\n",
              "       \"Swimming Men's 4 x 200 metres Freestyle Relay\",\n",
              "       \"Athletics Men's 400 metres Hurdles\",\n",
              "       \"Modern Pentathlon Men's Individual\",\n",
              "       \"Modern Pentathlon Men's Team\", \"Fencing Men's epee, Individual\",\n",
              "       \"Fencing Men's epee, Team\",\n",
              "       'Equestrianism Mixed Jumping, Individual',\n",
              "       'Equestrianism Mixed Jumping, Team',\n",
              "       \"Swimming Men's 100 metres Breaststroke\",\n",
              "       \"Fencing Men's Foil, Individual\", \"Archery Women's Individual\",\n",
              "       \"Fencing Women's Foil, Individual\", \"Fencing Women's Foil, Team\",\n",
              "       \"Athletics Men's Decathlon\",\n",
              "       \"Swimming Men's 200 metres Breaststroke\",\n",
              "       \"Swimming Men's 4 x 100 metres Medley Relay\",\n",
              "       \"Swimming Men's 200 metres Individual Medley\",\n",
              "       \"Swimming Men's 400 metres Individual Medley\",\n",
              "       \"Biathlon Women's 7.5 kilometres Sprint\",\n",
              "       \"Biathlon Women's 15 kilometres\",\n",
              "       \"Biathlon Women's 4 x 6 kilometres Relay\",\n",
              "       \"Diving Women's Springboard\", \"Badminton Women's Singles\",\n",
              "       \"Badminton Women's Doubles\",\n",
              "       \"Diving Women's Synchronized Springboard\",\n",
              "       \"Diving Women's Synchronized Platform\",\n",
              "       \"Boxing Men's Light-Welterweight\", \"Boxing Men's Welterweight\",\n",
              "       \"Sailing Women's One Person Dinghy\",\n",
              "       \"Ice Hockey Women's Ice Hockey\",\n",
              "       'Equestrianism Mixed Three-Day Event, Team',\n",
              "       'Equestrianism Mixed Three-Day Event, Individual',\n",
              "       \"Judo Women's Extra-Lightweight\", \"Tennis Men's Singles\",\n",
              "       'Sailing Mixed Windsurfer', \"Sailing Men's Windsurfer\",\n",
              "       \"Wrestling Men's Light-Flyweight, Greco-Roman\",\n",
              "       \"Short Track Speed Skating Women's 3,000 metres Relay\",\n",
              "       \"Freestyle Skiing Women's Moguls\",\n",
              "       \"Cross Country Skiing Men's 15 kilometres\",\n",
              "       \"Cross Country Skiing Men's 4 x 10 kilometres Relay\",\n",
              "       \"Rowing Women's Lightweight Double Sculls\",\n",
              "       \"Rowing Men's Coxed Fours\", \"Archery Women's Team\",\n",
              "       \"Snowboarding Women's Halfpipe\", \"Rowing Men's Coxed Pairs\",\n",
              "       \"Cross Country Skiing Men's 30 kilometres\",\n",
              "       \"Swimming Women's 800 metres Freestyle\", \"Luge Women's Singles\",\n",
              "       \"Rowing Women's Coxed Fours\", \"Speed Skating Women's 500 metres\",\n",
              "       \"Swimming Men's 200 metres Backstroke\",\n",
              "       \"Fencing Women's epee, Individual\", \"Fencing Women's epee, Team\",\n",
              "       \"Figure Skating Men's Singles\",\n",
              "       \"Athletics Women's 10 kilometres Walk\",\n",
              "       \"Athletics Men's Cross-Country, Individual\",\n",
              "       \"Athletics Men's Cross-Country, Team\",\n",
              "       \"Rowing Women's Coxed Eights\", \"Athletics Women's Javelin Throw\",\n",
              "       \"Cycling Men's Individual Time Trial\",\n",
              "       \"Cross Country Skiing Women's 4 x 5 kilometres Relay\",\n",
              "       \"Cross Country Skiing Women's 20 kilometres\",\n",
              "       \"Diving Men's Springboard\",\n",
              "       \"Biathlon Women's 4 x 7.5 kilometres Relay\",\n",
              "       \"Biathlon Women's 10 kilometres Pursuit\",\n",
              "       \"Basketball Men's Basketball\", \"Shooting Men's Trap\",\n",
              "       \"Shooting Men's Free Rifle, Three Positions, 300 metres\",\n",
              "       'Shooting Mixed Small-Bore Rifle, Three Positions, 50 metres',\n",
              "       \"Water Polo Women's Water Polo\",\n",
              "       \"Athletics Women's 80 metres Hurdles\",\n",
              "       \"Athletics Women's Pentathlon\",\n",
              "       \"Wrestling Women's Lightweight, Freestyle\",\n",
              "       \"Snowboarding Women's Boardercross\",\n",
              "       \"Shooting Women's Air Pistol, 10 metres\",\n",
              "       \"Shooting Women's Sporting Pistol, 25 metres\",\n",
              "       \"Cycling Women's Individual Time Trial\",\n",
              "       \"Swimming Women's 100 metres Breaststroke\",\n",
              "       \"Swimming Women's 200 metres Breaststroke\",\n",
              "       \"Swimming Women's 10 kilometres Open Water\",\n",
              "       \"Alpine Skiing Women's Giant Slalom\",\n",
              "       \"Alpine Skiing Women's Slalom\",\n",
              "       \"Cycling Women's Individual Pursuit, 3,000 metres\",\n",
              "       \"Cycling Women's Points Race\", \"Cycling Women's Team Pursuit\",\n",
              "       \"Nordic Combined Men's Team\", \"Nordic Combined Men's Individual\",\n",
              "       \"Nordic Combined Men's Sprint\", \"Fencing Men's Foil, Team\",\n",
              "       \"Gymnastics Men's Individual All-Around\",\n",
              "       \"Gymnastics Men's Team All-Around\",\n",
              "       \"Gymnastics Men's Floor Exercise\", \"Gymnastics Men's Horse Vault\",\n",
              "       \"Gymnastics Men's Parallel Bars\",\n",
              "       \"Gymnastics Men's Horizontal Bar\", \"Gymnastics Men's Rings\",\n",
              "       \"Gymnastics Men's Pommelled Horse\",\n",
              "       \"Cross Country Skiing Men's 10 kilometres\",\n",
              "       \"Cross Country Skiing Men's 50 kilometres\",\n",
              "       \"Cross Country Skiing Men's 10/15 kilometres Pursuit\",\n",
              "       'Figure Skating Mixed Team',\n",
              "       \"Modern Pentathlon Women's Individual\",\n",
              "       \"Swimming Men's 200 metres Freestyle\", \"Golf Women's Individual\",\n",
              "       'Shooting Mixed Skeet', \"Athletics Women's Triple Jump\",\n",
              "       'Sailing Mixed Two Person Keelboat',\n",
              "       \"Boxing Men's Light-Middleweight\", \"Diving Men's Platform\",\n",
              "       \"Cross Country Skiing Women's 3 x 5 kilometres Relay\",\n",
              "       \"Ski Jumping Women's Normal Hill, Individual\",\n",
              "       \"Tennis Women's Singles\", \"Tennis Women's Doubles\",\n",
              "       'Tennis Mixed Doubles', \"Table Tennis Men's Singles\",\n",
              "       \"Table Tennis Men's Doubles\", \"Cycling Men's Sprint\",\n",
              "       \"Fencing Women's Sabre, Individual\",\n",
              "       \"Taekwondo Men's Welterweight\", \"Triathlon Men's Olympic Distance\",\n",
              "       \"Judo Women's Half-Lightweight\",\n",
              "       \"Biathlon Women's 12.5 kilometres Mass Start\",\n",
              "       \"Cross Country Skiing Women's Sprint\",\n",
              "       \"Cross Country Skiing Women's 15 kilometres\",\n",
              "       \"Cross Country Skiing Women's 5/5 kilometres Pursuit\",\n",
              "       \"Cross Country Skiing Women's Team Sprint\",\n",
              "       \"Athletics Men's Discus Throw\", \"Bobsleigh Men's Two\",\n",
              "       'Equestrianism Mixed Dressage, Individual',\n",
              "       'Equestrianism Mixed Dressage, Team',\n",
              "       \"Alpine Skiing Women's Downhill\",\n",
              "       \"Short Track Speed Skating Women's 500 metres\",\n",
              "       \"Short Track Speed Skating Women's 1,000 metres\",\n",
              "       \"Canoeing Women's Kayak Doubles, 500 metres\",\n",
              "       \"Canoeing Women's Kayak Fours, 500 metres\",\n",
              "       \"Shooting Women's Skeet\", \"Swimming Men's 1,500 metres Freestyle\",\n",
              "       \"Swimming Men's 100 metres Backstroke\",\n",
              "       \"Cross Country Skiing Women's 5/10 kilometres Pursuit\",\n",
              "       \"Judo Men's Half-Lightweight\",\n",
              "       \"Speed Skating Women's 1,500 metres\",\n",
              "       \"Speed Skating Women's 3,000 metres\",\n",
              "       \"Cycling Men's Mountainbike, Cross-Country\",\n",
              "       \"Beach Volleyball Women's Beach Volleyball\",\n",
              "       \"Swimming Men's 100 metres Butterfly\",\n",
              "       \"Swimming Men's 200 metres Butterfly\",\n",
              "       \"Cycling Men's Individual Pursuit, 4,000 metres\",\n",
              "       \"Snowboarding Women's Giant Slalom\",\n",
              "       \"Freestyle Skiing Men's Moguls\",\n",
              "       \"Biathlon Women's 3 x 7.5 kilometres Relay\",\n",
              "       \"Rowing Women's Single Sculls\",\n",
              "       \"Short Track Speed Skating Women's 1,500 metres\",\n",
              "       \"Rowing Men's Quadruple Sculls\",\n",
              "       \"Wrestling Women's Flyweight, Freestyle\",\n",
              "       'Sailing Mixed Two Person Dinghy',\n",
              "       \"Athletics Men's 3,000 metres, Team\",\n",
              "       \"Rowing Women's Coxed Quadruple Sculls\",\n",
              "       \"Freestyle Skiing Women's Slopestyle\", 'Sailing Mixed Multihull',\n",
              "       \"Alpine Skiing Men's Slalom\", \"Alpine Skiing Men's Super G\",\n",
              "       \"Trampolining Women's Individual\", \"Rowing Men's Coxless Pairs\",\n",
              "       \"Athletics Men's 5 mile\", \"Athletics Men's 1,500 metres Walk\",\n",
              "       \"Athletics Men's 3,200 metres Steeplechase\",\n",
              "       \"Athletics Men's 3 mile, Team\", \"Sailing Women's Windsurfer\",\n",
              "       \"Judo Women's Lightweight\",\n",
              "       \"Wrestling Men's Flyweight, Greco-Roman\",\n",
              "       \"Speed Skating Women's 1,000 metres\",\n",
              "       \"Speed Skating Women's Team Pursuit (6 laps)\",\n",
              "       \"Freestyle Skiing Men's Aerials\",\n",
              "       \"Freestyle Skiing Women's Aerials\",\n",
              "       \"Sailing Men's Two Person Dinghy\",\n",
              "       \"Cycling Men's Team Pursuit, 4,000 metres\",\n",
              "       \"Cycling Men's Tandem Sprint, 2,000 metres\",\n",
              "       \"Cycling Men's 1,000 metres Time Trial\",\n",
              "       \"Shooting Men's Air Rifle, 10 metres\",\n",
              "       \"Shooting Men's Small-Bore Rifle, Three Positions, 50 metres\",\n",
              "       \"Cycling Women's Omnium\",\n",
              "       \"Equestrianism Men's Three-Day Event, Individual\",\n",
              "       \"Equestrianism Men's Three-Day Event, Team\",\n",
              "       \"Snowboarding Women's Slopestyle\",\n",
              "       \"Weightlifting Men's Bantamweight\",\n",
              "       \"Diving Men's Synchronized Platform\",\n",
              "       \"Diving Men's Synchronized Springboard\", 'Sailing Mixed 6 metres',\n",
              "       \"Biathlon Men's 10 kilometres Sprint\",\n",
              "       \"Biathlon Men's 4 x 7.5 kilometres Relay\",\n",
              "       \"Biathlon Men's 20 kilometres\",\n",
              "       \"Weightlifting Men's Featherweight\", \"Softball Women's Softball\",\n",
              "       \"Weightlifting Men's Flyweight\", \"Table Tennis Women's Team\",\n",
              "       \"Cycling Men's Omnium\",\n",
              "       'Shooting Mixed Small-Bore Rifle, Prone, 50 metres',\n",
              "       \"Handball Men's Handball\",\n",
              "       \"Gymnastics Women's Team Portable Apparatus\",\n",
              "       \"Nordic Combined Men's Normal Hill / 10 km, Individual\",\n",
              "       \"Nordic Combined Men's Large Hill / 10 km, Individual\",\n",
              "       \"Rowing Women's Coxless Pairs\", \"Judo Women's Half-Middleweight\",\n",
              "       \"Rowing Men's Lightweight Coxless Fours\",\n",
              "       \"Wrestling Men's Lightweight, Greco-Roman\",\n",
              "       \"Skeleton Women's Skeleton\", \"Fencing Men's Sabre, Team\",\n",
              "       \"Fencing Men's Sabre, Individual\", \"Water Polo Men's Water Polo\",\n",
              "       \"Alpine Skiing Women's Combined\",\n",
              "       \"Canoeing Men's Kayak Singles, Slalom\",\n",
              "       'Biathlon Mixed 2 x 6 kilometres and 2 x 7.5 kilometres Relay',\n",
              "       \"Speed Skating Women's 5,000 metres\",\n",
              "       \"Shooting Men's Free Pistol, 50 metres\",\n",
              "       \"Judo Men's Extra-Lightweight\", 'Badminton Mixed Doubles',\n",
              "       \"Sailing Women's Three Person Keelboat\",\n",
              "       \"Boxing Women's Lightweight\", \"Trampolining Men's Individual\",\n",
              "       \"Weightlifting Women's Flyweight\", \"Shooting Women's Double Trap\",\n",
              "       \"Equestrianism Men's Jumping, Individual\",\n",
              "       \"Fencing Women's Sabre, Team\", \"Table Tennis Men's Team\",\n",
              "       \"Weightlifting Women's Lightweight\", \"Badminton Men's Singles\",\n",
              "       \"Athletics Men's 3,000 metres Walk\",\n",
              "       \"Snowboarding Women's Parallel Giant Slalom\",\n",
              "       \"Rowing Men's Coxed Fours, Outriggers\", \"Baseball Men's Baseball\",\n",
              "       \"Bobsleigh Men's Four/Five\", \"Ice Hockey Men's Ice Hockey\",\n",
              "       \"Athletics Men's 10 kilometres Walk\",\n",
              "       'Sailing Mixed Three Person Keelboat', 'Shooting Mixed Trap',\n",
              "       \"Shooting Women's Trap\", \"Rowing Men's Double Sculls\",\n",
              "       \"Athletics Women's Discus Throw\", 'Sailing Mixed Skiff',\n",
              "       \"Shooting Men's Running Target, 10 metres\",\n",
              "       \"Cycling Men's Points Race\",\n",
              "       \"Rowing Men's Lightweight Double Sculls\",\n",
              "       \"Cycling Men's Road Race, Team\", \"Alpine Skiing Women's Super G\",\n",
              "       'Shooting Mixed Free Rifle, Three Positions, 300 metres',\n",
              "       \"Cross Country Skiing Men's 18 kilometres\",\n",
              "       \"Rowing Women's Double Sculls\", \"Rowing Women's Quadruple Sculls\",\n",
              "       \"Shooting Men's Small-Bore Rifle, Prone, 50 metres\",\n",
              "       \"Sailing Women's Skiff\", \"Athletics Men's 3,500 metres Walk\",\n",
              "       \"Athletics Men's 10 mile Walk\",\n",
              "       \"Freestyle Skiing Women's Ski Cross\",\n",
              "       \"Canoeing Men's Canadian Doubles, Slalom\",\n",
              "       \"Boxing Men's Middleweight\", \"Cross Country Skiing Men's Sprint\",\n",
              "       \"Cross Country Skiing Men's 10/10 kilometres Pursuit\",\n",
              "       \"Canoeing Men's Kayak Doubles, 1,000 metres\",\n",
              "       \"Curling Women's Curling\", \"Speed Skating Men's 500 metres\",\n",
              "       \"Canoeing Women's Kayak Singles, 500 metres\",\n",
              "       \"Cycling Men's Team Sprint\", \"Snowboarding Men's Boardercross\",\n",
              "       \"Rowing Men's Coxless Fours\", \"Alpine Skiing Men's Downhill\",\n",
              "       \"Snowboarding Men's Halfpipe\", \"Bobsleigh Women's Two\",\n",
              "       \"Beach Volleyball Men's Beach Volleyball\",\n",
              "       \"Speed Skating Men's 1,000 metres\",\n",
              "       \"Speed Skating Men's 1,500 metres\",\n",
              "       \"Speed Skating Men's 5,000 metres\",\n",
              "       \"Speed Skating Men's 10,000 metres\",\n",
              "       'Sailing Mixed Two Person Heavyweight Dinghy',\n",
              "       \"Canoeing Men's Canadian Singles, Slalom\",\n",
              "       \"Short Track Speed Skating Men's 500 metres\",\n",
              "       \"Short Track Speed Skating Men's 1,000 metres\",\n",
              "       \"Short Track Speed Skating Men's 1,500 metres\",\n",
              "       \"Taekwondo Women's Heavyweight\",\n",
              "       'Shooting Mixed Rapid-Fire Pistol, 25 metres',\n",
              "       \"Short Track Speed Skating Men's 5,000 metres Relay\",\n",
              "       \"Canoeing Men's Kayak Singles, 1,000 metres\",\n",
              "       \"Rowing Women's Coxless Fours\",\n",
              "       \"Freestyle Skiing Men's Slopestyle\",\n",
              "       \"Biathlon Men's 12.5 kilometres Pursuit\",\n",
              "       \"Canoeing Women's Kayak Singles, 200 metres\",\n",
              "       \"Snowboarding Women's Parallel Slalom\", \"Badminton Men's Doubles\",\n",
              "       \"Canoeing Men's Canadian Doubles, 1,000 metres\",\n",
              "       \"Canoeing Men's Canadian Doubles, 10,000 metres\",\n",
              "       \"Shooting Men's Air Pistol, 10 metres\",\n",
              "       'Shooting Mixed Free Pistol, 50 metres',\n",
              "       'Sailing Mixed 5.5 metres', \"Luge Men's Singles\",\n",
              "       \"Wrestling Men's Lightweight, Freestyle\",\n",
              "       \"Taekwondo Women's Welterweight\",\n",
              "       \"Weightlifting Women's Featherweight\",\n",
              "       \"Canoeing Men's Kayak Fours, 1,000 metres\",\n",
              "       \"Weightlifting Men's Lightweight\",\n",
              "       \"Canoeing Men's Canadian Doubles, 500 metres\",\n",
              "       \"Swimming Men's 10 kilometres Open Water\",\n",
              "       \"Athletics Men's 2,500 metres Steeplechase\",\n",
              "       \"Athletics Men's 2,590 metres Steeplechase\",\n",
              "       \"Athletics Men's 4 mile, Team\",\n",
              "       \"Shooting Men's Rapid-Fire Pistol, 25 metres\",\n",
              "       \"Cross Country Skiing Men's 30 km Skiathlon\",\n",
              "       'Sailing Mixed One Person Dinghy', \"Rowing Men's Single Sculls\",\n",
              "       \"Athletics Men's Hammer Throw\",\n",
              "       \"Biathlon Men's 15 kilometres Mass Start\",\n",
              "       \"Cycling Women's Sprint\", \"Cycling Women's Keirin\",\n",
              "       \"Cycling Women's Team Sprint\",\n",
              "       \"Cross Country Skiing Men's Team Sprint\",\n",
              "       \"Athletics Men's 60 metres\", \"Athletics Men's 200 metres Hurdles\",\n",
              "       \"Taekwondo Men's Heavyweight\", \"Tennis Men's Doubles\",\n",
              "       \"Snowboarding Men's Parallel Giant Slalom\",\n",
              "       \"Freestyle Skiing Men's Halfpipe\", \"Athletics Men's Javelin Throw\",\n",
              "       \"Curling Men's Curling\", \"Wrestling Men's Welterweight, Freestyle\"],\n",
              "      dtype=object)"
            ]
          },
          "metadata": {},
          "execution_count": 73
        }
      ]
    },
    {
      "cell_type": "code",
      "metadata": {
        "id": "tUWdOALMlliG"
      },
      "source": [
        "# Cannot ignore outliers as they could represent some special physical characteristics"
      ],
      "execution_count": 74,
      "outputs": []
    },
    {
      "cell_type": "code",
      "metadata": {
        "id": "2FxVEzRTo6Ov"
      },
      "source": [
        "# Checking Range of BMI in events\n",
        "bmi_range = data.groupby(['Event']).agg(Min_BMI=('BMI','min'), Max_BMI= ('BMI','max'))"
      ],
      "execution_count": 75,
      "outputs": []
    },
    {
      "cell_type": "code",
      "metadata": {
        "id": "zzSBJT0GqlPS"
      },
      "source": [
        "bmi_range['Range']  = bmi_range['Max_BMI'] - bmi_range['Min_BMI']"
      ],
      "execution_count": 76,
      "outputs": []
    },
    {
      "cell_type": "code",
      "metadata": {
        "colab": {
          "base_uri": "https://localhost:8080/",
          "height": 282
        },
        "id": "i8sGE7HCrhuk",
        "outputId": "68209c62-b08e-4fd6-e698-9746d708e128"
      },
      "source": [
        "bmi_range['Range'].hist()"
      ],
      "execution_count": 77,
      "outputs": [
        {
          "output_type": "execute_result",
          "data": {
            "text/plain": [
              "<matplotlib.axes._subplots.AxesSubplot at 0x7f1ab9ff1ed0>"
            ]
          },
          "metadata": {},
          "execution_count": 77
        },
        {
          "output_type": "display_data",
          "data": {
            "image/png": "[encoded data removed]",
            "text/plain": [
              "<Figure size 432x288 with 1 Axes>"
            ]
          },
          "metadata": {
            "needs_background": "light"
          }
        }
      ]
    },
    {
      "cell_type": "code",
      "metadata": {
        "colab": {
          "base_uri": "https://localhost:8080/",
          "height": 112
        },
        "id": "TTHGc5spqlSX",
        "outputId": "659f53d7-a79f-4f91-818a-20216e0c7a38"
      },
      "source": [
        "bmi_range[bmi_range['Range']>35]"
      ],
      "execution_count": 78,
      "outputs": [
        {
          "output_type": "execute_result",
          "data": {
            "text/html": [
              "<div>\n",
              "<style scoped>\n",
              "    .dataframe tbody tr th:only-of-type {\n",
              "        vertical-align: middle;\n",
              "    }\n",
              "\n",
              "    .dataframe tbody tr th {\n",
              "        vertical-align: top;\n",
              "    }\n",
              "\n",
              "    .dataframe thead th {\n",
              "        text-align: right;\n",
              "    }\n",
              "</style>\n",
              "<table border=\"1\" class=\"dataframe\">\n",
              "  <thead>\n",
              "    <tr style=\"text-align: right;\">\n",
              "      <th></th>\n",
              "      <th>Min_BMI</th>\n",
              "      <th>Max_BMI</th>\n",
              "      <th>Range</th>\n",
              "    </tr>\n",
              "    <tr>\n",
              "      <th>Event</th>\n",
              "      <th></th>\n",
              "      <th></th>\n",
              "      <th></th>\n",
              "    </tr>\n",
              "  </thead>\n",
              "  <tbody>\n",
              "    <tr>\n",
              "      <th>Judo Men's Heavyweight</th>\n",
              "      <td>22.9</td>\n",
              "      <td>63.9</td>\n",
              "      <td>41.0</td>\n",
              "    </tr>\n",
              "  </tbody>\n",
              "</table>\n",
              "</div>"
            ],
            "text/plain": [
              "                        Min_BMI  Max_BMI  Range\n",
              "Event                                          \n",
              "Judo Men's Heavyweight     22.9     63.9   41.0"
            ]
          },
          "metadata": {},
          "execution_count": 78
        }
      ]
    },
    {
      "cell_type": "code",
      "metadata": {
        "id": "6IM09pfeqlYC"
      },
      "source": [
        "# The range has varied significantly in some sports\n",
        "# This could be attributed to changes in the physicalities of the atheletes over the years\n",
        "#      especially in heavyweight events\n",
        "# This could mean heavy athletes of different heights \n",
        "# Cannot ignore them as outliers as they could contain useful information"
      ],
      "execution_count": 79,
      "outputs": []
    },
    {
      "cell_type": "code",
      "metadata": {
        "id": "xjYVUgsYr9dc"
      },
      "source": [
        "# We can ignore only the missing values at this point for the BMI based analysis"
      ],
      "execution_count": 80,
      "outputs": []
    },
    {
      "cell_type": "code",
      "metadata": {
        "id": "3gUgTpkoyCW7"
      },
      "source": [
        "data.head()\n",
        "data.to_csv('finalData.csv')"
      ],
      "execution_count": 81,
      "outputs": []
    },
    {
      "cell_type": "code",
      "metadata": {
        "colab": {
          "base_uri": "https://localhost:8080/",
          "height": 499
        },
        "id": "RzV_3fBIsIGd",
        "outputId": "3c74062f-c5cf-45bd-9f49-bd6ed8040264"
      },
      "source": [
        "# Age groups and medals\n",
        "from statsmodels.graphics.mosaicplot import mosaic\n",
        "def get_color(key):\n",
        "  if '<20' in key:\n",
        "    return 'orange'\n",
        "  elif '20-29' in key:\n",
        "    return 'yellow'\n",
        "  elif '30-39' in key:\n",
        "    return 'green'\n",
        "  else:\n",
        "    return 'red'\n",
        "props = lambda key: {'color': get_color(key)}\n",
        "datac = data.dropna(axis=0, subset = ['Age'])\n",
        "data_copy = datac[datac['Medal']=='Gold']\n",
        "t = mosaic(data_copy, ['Medal','Age_Category'],title='Age Category vs Gold Medal Status',properties=props)\n",
        "t[0].set_size_inches(6, 8)"
      ],
      "execution_count": 82,
      "outputs": [
        {
          "output_type": "display_data",
          "data": {
            "image/png": "[encoded data removed]",
            "text/plain": [
              "<Figure size 432x576 with 3 Axes>"
            ]
          },
          "metadata": {
            "needs_background": "light"
          }
        }
      ]
    },
    {
      "cell_type": "code",
      "metadata": {
        "id": "LYF_WPbl-OAd"
      },
      "source": [
        ""
      ],
      "execution_count": 82,
      "outputs": []
    },
    {
      "cell_type": "code",
      "metadata": {
        "colab": {
          "base_uri": "https://localhost:8080/",
          "height": 499
        },
        "id": "kpQn2Xn-5L89",
        "outputId": "f2219787-bdd8-453c-a419-48f3721c7043"
      },
      "source": [
        "data_copy = datac[datac['Medal']=='Silver']\n",
        "t = mosaic(data_copy, ['Medal','Age_Category'],title='Age Category vs Silver Medal Status',properties=props)\n",
        "t[0].set_size_inches(6, 8)"
      ],
      "execution_count": 83,
      "outputs": [
        {
          "output_type": "display_data",
          "data": {
            "image/png": "[encoded data removed]",
            "text/plain": [
              "<Figure size 432x576 with 3 Axes>"
            ]
          },
          "metadata": {
            "needs_background": "light"
          }
        }
      ]
    },
    {
      "cell_type": "code",
      "metadata": {
        "colab": {
          "base_uri": "https://localhost:8080/",
          "height": 499
        },
        "id": "e_G2UAIGwghO",
        "outputId": "3ef4e0b7-6b97-43d2-d75c-23a1a03f5c1d"
      },
      "source": [
        "data_copy = datac[datac['Medal']=='Bronze']\n",
        "t = mosaic(data_copy, ['Medal','Age_Category'],title='Age Category vs Bronze Medal Status',properties=props)\n",
        "t[0].set_size_inches(6, 8)"
      ],
      "execution_count": 84,
      "outputs": [
        {
          "output_type": "display_data",
          "data": {
            "image/png": "[encoded data removed]",
            "text/plain": [
              "<Figure size 432x576 with 3 Axes>"
            ]
          },
          "metadata": {
            "needs_background": "light"
          }
        }
      ]
    },
    {
      "cell_type": "markdown",
      "metadata": {
        "id": "dkjaZKg64LC6"
      },
      "source": [
        ""
      ]
    },
    {
      "cell_type": "code",
      "metadata": {
        "colab": {
          "base_uri": "https://localhost:8080/",
          "height": 238
        },
        "id": "kYJDRza0wgkm",
        "outputId": "bb4747e1-18f0-4767-c366-7fd0593b325a"
      },
      "source": [
        "ct = pd.crosstab(datac.Medal,datac.Age_Category,margins=True)\n",
        "ct"
      ],
      "execution_count": 85,
      "outputs": [
        {
          "output_type": "execute_result",
          "data": {
            "text/html": [
              "<div>\n",
              "<style scoped>\n",
              "    .dataframe tbody tr th:only-of-type {\n",
              "        vertical-align: middle;\n",
              "    }\n",
              "\n",
              "    .dataframe tbody tr th {\n",
              "        vertical-align: top;\n",
              "    }\n",
              "\n",
              "    .dataframe thead th {\n",
              "        text-align: right;\n",
              "    }\n",
              "</style>\n",
              "<table border=\"1\" class=\"dataframe\">\n",
              "  <thead>\n",
              "    <tr style=\"text-align: right;\">\n",
              "      <th>Age_Category</th>\n",
              "      <th>20-29</th>\n",
              "      <th>30-39</th>\n",
              "      <th>&lt;20</th>\n",
              "      <th>&gt;=40</th>\n",
              "      <th>All</th>\n",
              "    </tr>\n",
              "    <tr>\n",
              "      <th>Medal</th>\n",
              "      <th></th>\n",
              "      <th></th>\n",
              "      <th></th>\n",
              "      <th></th>\n",
              "      <th></th>\n",
              "    </tr>\n",
              "  </thead>\n",
              "  <tbody>\n",
              "    <tr>\n",
              "      <th>Bronze</th>\n",
              "      <td>9470</td>\n",
              "      <td>2279</td>\n",
              "      <td>1116</td>\n",
              "      <td>403</td>\n",
              "      <td>13268</td>\n",
              "    </tr>\n",
              "    <tr>\n",
              "      <th>Gold</th>\n",
              "      <td>9375</td>\n",
              "      <td>2358</td>\n",
              "      <td>1167</td>\n",
              "      <td>431</td>\n",
              "      <td>13331</td>\n",
              "    </tr>\n",
              "    <tr>\n",
              "      <th>None</th>\n",
              "      <td>156449</td>\n",
              "      <td>37563</td>\n",
              "      <td>29092</td>\n",
              "      <td>8176</td>\n",
              "      <td>231280</td>\n",
              "    </tr>\n",
              "    <tr>\n",
              "      <th>Silver</th>\n",
              "      <td>9156</td>\n",
              "      <td>2361</td>\n",
              "      <td>1139</td>\n",
              "      <td>432</td>\n",
              "      <td>13088</td>\n",
              "    </tr>\n",
              "    <tr>\n",
              "      <th>All</th>\n",
              "      <td>184450</td>\n",
              "      <td>44561</td>\n",
              "      <td>32514</td>\n",
              "      <td>9442</td>\n",
              "      <td>270967</td>\n",
              "    </tr>\n",
              "  </tbody>\n",
              "</table>\n",
              "</div>"
            ],
            "text/plain": [
              "Age_Category   20-29  30-39    <20  >=40     All\n",
              "Medal                                           \n",
              "Bronze          9470   2279   1116   403   13268\n",
              "Gold            9375   2358   1167   431   13331\n",
              "None          156449  37563  29092  8176  231280\n",
              "Silver          9156   2361   1139   432   13088\n",
              "All           184450  44561  32514  9442  270967"
            ]
          },
          "metadata": {},
          "execution_count": 85
        }
      ]
    },
    {
      "cell_type": "code",
      "metadata": {
        "id": "p0qLOk-_8Yst"
      },
      "source": [
        "detailCt = ct.copy()\n",
        "percent_20_29 = np.round(detailCt['20-29']/detailCt.All * 100,decimals=2)\n",
        "percent_30_39 = np.round(detailCt['30-39']/detailCt.All * 100,decimals=2)\n",
        "percent_20 = np.round(detailCt['<20']/detailCt.All * 100,decimals=2)\n",
        "percent_40 = np.round(detailCt['>=40']/detailCt.All * 100,decimals=2)\n",
        "totalPercent = np.round(detailCt.All/detailCt.All * 100,decimals=2)\n",
        "\n",
        "detailCt['20-29'] = ct['20-29'].astype('str') + \" (\" + percent_20_29.astype('str') + \"%)\"\n",
        "detailCt['30-39'] = ct['30-39'].astype('str') + \" (\" + percent_30_39.astype('str') + \"%)\"\n",
        "detailCt['<20'] = ct['<20'].astype('str') + \" (\" + percent_20.astype('str') + \"%)\"\n",
        "detailCt['>=40'] = ct['>=40'].astype('str') + \" (\" + percent_40.astype('str') + \"%)\"\n",
        "\n",
        "detailCt.All = ct.All.astype('str') + \" (\" + totalPercent.astype('str') + \"%)\""
      ],
      "execution_count": 86,
      "outputs": []
    },
    {
      "cell_type": "code",
      "metadata": {
        "colab": {
          "base_uri": "https://localhost:8080/"
        },
        "id": "caOjAeHo86gt",
        "outputId": "332a5cc0-4c54-434b-8bf1-9939ab4abaa9"
      },
      "source": [
        "percent_20_29 + percent_30_39 + percent_20 + percent_40"
      ],
      "execution_count": 87,
      "outputs": [
        {
          "output_type": "execute_result",
          "data": {
            "text/plain": [
              "Medal\n",
              "Bronze    100.00\n",
              "Gold       99.99\n",
              "None      100.00\n",
              "Silver    100.00\n",
              "All       100.00\n",
              "dtype: float64"
            ]
          },
          "metadata": {},
          "execution_count": 87
        }
      ]
    },
    {
      "cell_type": "code",
      "metadata": {
        "colab": {
          "base_uri": "https://localhost:8080/"
        },
        "id": "VVshhnqX9kGl",
        "outputId": "97756766-e378-4dd2-a236-7a1a1e354d57"
      },
      "source": [
        "expected_20_29 = np.round(ct.All * ct.loc['All','20-29']/ct.loc['All','All'], decimals=3) \n",
        "expected_30_39 = np.round(ct.All * ct.loc['All','30-39']/ct.loc['All','All'], decimals=3) \n",
        "expected_20 = np.round(ct.All * ct.loc['All','<20']/ct.loc['All','All'], decimals=3) \n",
        "expected_40 = np.round(ct.All * ct.loc['All','>=40']/ct.loc['All','All'], decimals=3) \n",
        "expected_40\n"
      ],
      "execution_count": 88,
      "outputs": [
        {
          "output_type": "execute_result",
          "data": {
            "text/plain": [
              "Medal\n",
              "Bronze     462.331\n",
              "Gold       464.526\n",
              "None      8059.084\n",
              "Silver     456.059\n",
              "All       9442.000\n",
              "Name: All, dtype: float64"
            ]
          },
          "metadata": {},
          "execution_count": 88
        }
      ]
    },
    {
      "cell_type": "code",
      "metadata": {
        "id": "LQ6syTviwgm-"
      },
      "source": [
        "ctExpected = ct.copy()\n",
        "\n",
        "ctExpected['20-29'] = expected_20_29\n",
        "ctExpected['30-39'] = expected_30_39\n",
        "ctExpected['<20'] = expected_20\n",
        "ctExpected['>=40'] = expected_40\n",
        "\n",
        "ctExpected['All'] = 0\n",
        "ctExpected.loc['All'] = 0\n",
        "ctExpected['All'] = ctExpected.sum(axis=1)\n",
        "ctExpected.loc['All'] = ctExpected.sum(axis=0)\n",
        "\n",
        "CtPercent_20_29 = np.round(ctExpected['20-29']/ctExpected.All * 100,decimals=2)\n",
        "CtPercent_30_39 = np.round(ctExpected['30-39']/ctExpected.All * 100,decimals=2)\n",
        "CtPercent_20 = np.round(ctExpected['<20']/ctExpected.All * 100,decimals=2)\n",
        "CtPercent_40 = np.round(ctExpected['>=40']/ctExpected.All * 100,decimals=2)\n",
        "\n",
        "totalPercent = np.round(ctExpected.All/ctExpected.All * 100,decimals=2)\n",
        "\n",
        "detailExp = ctExpected.copy()\n",
        "\n",
        "detailExp['20-29'] = np.round(ctExpected['20-29'],3).astype('str') + \" (\" + CtPercent_20_29.astype('str') + \"%)\"\n",
        "detailExp['30-39'] = np.round(ctExpected['30-39'],3).astype('str') + \" (\" + CtPercent_30_39.astype('str') + \"%)\"\n",
        "detailExp['<20'] = np.round(ctExpected['<20'],3).astype('str') + \" (\" + CtPercent_20.astype('str') + \"%)\"\n",
        "detailExp['>=40'] = np.round(ctExpected['>=40'],3).astype('str') + \" (\" + CtPercent_40.astype('str') + \"%)\"\n",
        "\n",
        "detailExp.All = np.round(ctExpected.All,0).astype('str') + \" (\" + totalPercent.astype('str') + \"%)\""
      ],
      "execution_count": 89,
      "outputs": []
    },
    {
      "cell_type": "code",
      "metadata": {
        "colab": {
          "base_uri": "https://localhost:8080/",
          "height": 238
        },
        "id": "LZKOxy3zwgp7",
        "outputId": "1d8d724c-678f-49ba-ee78-caecd4617a1b"
      },
      "source": [
        "detailExp"
      ],
      "execution_count": 90,
      "outputs": [
        {
          "output_type": "execute_result",
          "data": {
            "text/html": [
              "<div>\n",
              "<style scoped>\n",
              "    .dataframe tbody tr th:only-of-type {\n",
              "        vertical-align: middle;\n",
              "    }\n",
              "\n",
              "    .dataframe tbody tr th {\n",
              "        vertical-align: top;\n",
              "    }\n",
              "\n",
              "    .dataframe thead th {\n",
              "        text-align: right;\n",
              "    }\n",
              "</style>\n",
              "<table border=\"1\" class=\"dataframe\">\n",
              "  <thead>\n",
              "    <tr style=\"text-align: right;\">\n",
              "      <th>Age_Category</th>\n",
              "      <th>20-29</th>\n",
              "      <th>30-39</th>\n",
              "      <th>&lt;20</th>\n",
              "      <th>&gt;=40</th>\n",
              "      <th>All</th>\n",
              "    </tr>\n",
              "    <tr>\n",
              "      <th>Medal</th>\n",
              "      <th></th>\n",
              "      <th></th>\n",
              "      <th></th>\n",
              "      <th></th>\n",
              "      <th></th>\n",
              "    </tr>\n",
              "  </thead>\n",
              "  <tbody>\n",
              "    <tr>\n",
              "      <th>Bronze</th>\n",
              "      <td>9031.663 (68.07%)</td>\n",
              "      <td>2181.946 (16.45%)</td>\n",
              "      <td>1592.06 (12.0%)</td>\n",
              "      <td>462.331 (3.48%)</td>\n",
              "      <td>13268.0 (100.0%)</td>\n",
              "    </tr>\n",
              "    <tr>\n",
              "      <th>Gold</th>\n",
              "      <td>9074.548 (68.07%)</td>\n",
              "      <td>2192.306 (16.45%)</td>\n",
              "      <td>1599.62 (12.0%)</td>\n",
              "      <td>464.526 (3.48%)</td>\n",
              "      <td>13331.0 (100.0%)</td>\n",
              "    </tr>\n",
              "    <tr>\n",
              "      <th>None</th>\n",
              "      <td>157434.654 (68.07%)</td>\n",
              "      <td>38034.403 (16.45%)</td>\n",
              "      <td>27751.859 (12.0%)</td>\n",
              "      <td>8059.084 (3.48%)</td>\n",
              "      <td>231280.0 (100.0%)</td>\n",
              "    </tr>\n",
              "    <tr>\n",
              "      <th>Silver</th>\n",
              "      <td>8909.135 (68.07%)</td>\n",
              "      <td>2152.345 (16.45%)</td>\n",
              "      <td>1570.461 (12.0%)</td>\n",
              "      <td>456.059 (3.48%)</td>\n",
              "      <td>13088.0 (100.0%)</td>\n",
              "    </tr>\n",
              "    <tr>\n",
              "      <th>All</th>\n",
              "      <td>184450.0 (68.07%)</td>\n",
              "      <td>44561.0 (16.45%)</td>\n",
              "      <td>32514.0 (12.0%)</td>\n",
              "      <td>9442.0 (3.48%)</td>\n",
              "      <td>270967.0 (100.0%)</td>\n",
              "    </tr>\n",
              "  </tbody>\n",
              "</table>\n",
              "</div>"
            ],
            "text/plain": [
              "Age_Category                20-29  ...                All\n",
              "Medal                              ...                   \n",
              "Bronze          9031.663 (68.07%)  ...   13268.0 (100.0%)\n",
              "Gold            9074.548 (68.07%)  ...   13331.0 (100.0%)\n",
              "None          157434.654 (68.07%)  ...  231280.0 (100.0%)\n",
              "Silver          8909.135 (68.07%)  ...   13088.0 (100.0%)\n",
              "All             184450.0 (68.07%)  ...  270967.0 (100.0%)\n",
              "\n",
              "[5 rows x 5 columns]"
            ]
          },
          "metadata": {},
          "execution_count": 90
        }
      ]
    },
    {
      "cell_type": "code",
      "metadata": {
        "colab": {
          "base_uri": "https://localhost:8080/",
          "height": 238
        },
        "id": "AGy1NXUjwgt5",
        "outputId": "fcea497a-0357-4ea3-da71-311ac84c21da"
      },
      "source": [
        "detailCt"
      ],
      "execution_count": 91,
      "outputs": [
        {
          "output_type": "execute_result",
          "data": {
            "text/html": [
              "<div>\n",
              "<style scoped>\n",
              "    .dataframe tbody tr th:only-of-type {\n",
              "        vertical-align: middle;\n",
              "    }\n",
              "\n",
              "    .dataframe tbody tr th {\n",
              "        vertical-align: top;\n",
              "    }\n",
              "\n",
              "    .dataframe thead th {\n",
              "        text-align: right;\n",
              "    }\n",
              "</style>\n",
              "<table border=\"1\" class=\"dataframe\">\n",
              "  <thead>\n",
              "    <tr style=\"text-align: right;\">\n",
              "      <th>Age_Category</th>\n",
              "      <th>20-29</th>\n",
              "      <th>30-39</th>\n",
              "      <th>&lt;20</th>\n",
              "      <th>&gt;=40</th>\n",
              "      <th>All</th>\n",
              "    </tr>\n",
              "    <tr>\n",
              "      <th>Medal</th>\n",
              "      <th></th>\n",
              "      <th></th>\n",
              "      <th></th>\n",
              "      <th></th>\n",
              "      <th></th>\n",
              "    </tr>\n",
              "  </thead>\n",
              "  <tbody>\n",
              "    <tr>\n",
              "      <th>Bronze</th>\n",
              "      <td>9470 (71.37%)</td>\n",
              "      <td>2279 (17.18%)</td>\n",
              "      <td>1116 (8.41%)</td>\n",
              "      <td>403 (3.04%)</td>\n",
              "      <td>13268 (100.0%)</td>\n",
              "    </tr>\n",
              "    <tr>\n",
              "      <th>Gold</th>\n",
              "      <td>9375 (70.32%)</td>\n",
              "      <td>2358 (17.69%)</td>\n",
              "      <td>1167 (8.75%)</td>\n",
              "      <td>431 (3.23%)</td>\n",
              "      <td>13331 (100.0%)</td>\n",
              "    </tr>\n",
              "    <tr>\n",
              "      <th>None</th>\n",
              "      <td>156449 (67.64%)</td>\n",
              "      <td>37563 (16.24%)</td>\n",
              "      <td>29092 (12.58%)</td>\n",
              "      <td>8176 (3.54%)</td>\n",
              "      <td>231280 (100.0%)</td>\n",
              "    </tr>\n",
              "    <tr>\n",
              "      <th>Silver</th>\n",
              "      <td>9156 (69.96%)</td>\n",
              "      <td>2361 (18.04%)</td>\n",
              "      <td>1139 (8.7%)</td>\n",
              "      <td>432 (3.3%)</td>\n",
              "      <td>13088 (100.0%)</td>\n",
              "    </tr>\n",
              "    <tr>\n",
              "      <th>All</th>\n",
              "      <td>184450 (68.07%)</td>\n",
              "      <td>44561 (16.45%)</td>\n",
              "      <td>32514 (12.0%)</td>\n",
              "      <td>9442 (3.48%)</td>\n",
              "      <td>270967 (100.0%)</td>\n",
              "    </tr>\n",
              "  </tbody>\n",
              "</table>\n",
              "</div>"
            ],
            "text/plain": [
              "Age_Category            20-29           30-39  ...          >=40              All\n",
              "Medal                                          ...                               \n",
              "Bronze          9470 (71.37%)   2279 (17.18%)  ...   403 (3.04%)   13268 (100.0%)\n",
              "Gold            9375 (70.32%)   2358 (17.69%)  ...   431 (3.23%)   13331 (100.0%)\n",
              "None          156449 (67.64%)  37563 (16.24%)  ...  8176 (3.54%)  231280 (100.0%)\n",
              "Silver          9156 (69.96%)   2361 (18.04%)  ...    432 (3.3%)   13088 (100.0%)\n",
              "All           184450 (68.07%)  44561 (16.45%)  ...  9442 (3.48%)  270967 (100.0%)\n",
              "\n",
              "[5 rows x 5 columns]"
            ]
          },
          "metadata": {},
          "execution_count": 91
        }
      ]
    },
    {
      "cell_type": "code",
      "metadata": {
        "colab": {
          "base_uri": "https://localhost:8080/",
          "height": 238
        },
        "id": "iMNYIK_Owgv7",
        "outputId": "5b662605-a471-45ad-e570-c20f7b13cab4"
      },
      "source": [
        "# When it comes to winning medals,\n",
        "# 20-29 have won more than expected\n",
        "# All other age groups have won less than expected\n",
        "\n",
        "# From the mosaic plots,\n",
        "# In all medal types, particpants in ages 20-29 have won the most medals\n",
        "# Descending order of more medal wins : 20-29 ,30-39, <20, >=40\n",
        "# From the crosstab, we notice that the age categories with more medals also have more number of participants\n",
        "\n",
        "# Check ratio of medals in each age category\n",
        "datac = data.dropna(axis=0, subset = ['Age'])\n",
        "detailCt = pd.crosstab(datac.Age_Category,datac.Medal,margins=True)\n",
        "percent_gold = np.round(detailCt['Gold']/detailCt.All * 100,decimals=2)\n",
        "percent_silver = np.round(detailCt['Silver']/detailCt.All * 100,decimals=2)\n",
        "percent_bronze = np.round(detailCt['Bronze']/detailCt.All * 100,decimals=2)\n",
        "percent_none = np.round(detailCt['None']/detailCt.All * 100,decimals=2)\n",
        "totalPercent = np.round(detailCt.All/detailCt.All * 100,decimals=2)\n",
        "\n",
        "detailCt['Gold'] = detailCt['Gold'].astype('str') + \" (\" + percent_gold.astype('str') + \"%)\"\n",
        "detailCt['Silver'] = detailCt['Silver'].astype('str') + \" (\" + percent_silver.astype('str') + \"%)\"\n",
        "detailCt['Bronze'] = detailCt['Bronze'].astype('str') + \" (\" + percent_bronze.astype('str') + \"%)\"\n",
        "detailCt['None'] = detailCt['None'].astype('str') + \" (\" + percent_none.astype('str') + \"%)\"\n",
        "\n",
        "detailCt.All = detailCt.All.astype('str') + \" (\" + totalPercent.astype('str') + \"%)\"\n",
        "detailCt"
      ],
      "execution_count": 120,
      "outputs": [
        {
          "output_type": "execute_result",
          "data": {
            "text/html": [
              "<div>\n",
              "<style scoped>\n",
              "    .dataframe tbody tr th:only-of-type {\n",
              "        vertical-align: middle;\n",
              "    }\n",
              "\n",
              "    .dataframe tbody tr th {\n",
              "        vertical-align: top;\n",
              "    }\n",
              "\n",
              "    .dataframe thead th {\n",
              "        text-align: right;\n",
              "    }\n",
              "</style>\n",
              "<table border=\"1\" class=\"dataframe\">\n",
              "  <thead>\n",
              "    <tr style=\"text-align: right;\">\n",
              "      <th>Medal</th>\n",
              "      <th>Bronze</th>\n",
              "      <th>Gold</th>\n",
              "      <th>None</th>\n",
              "      <th>Silver</th>\n",
              "      <th>All</th>\n",
              "    </tr>\n",
              "    <tr>\n",
              "      <th>Age_Category</th>\n",
              "      <th></th>\n",
              "      <th></th>\n",
              "      <th></th>\n",
              "      <th></th>\n",
              "      <th></th>\n",
              "    </tr>\n",
              "  </thead>\n",
              "  <tbody>\n",
              "    <tr>\n",
              "      <th>20-29</th>\n",
              "      <td>9470 (5.13%)</td>\n",
              "      <td>9375 (5.08%)</td>\n",
              "      <td>156449 (84.82%)</td>\n",
              "      <td>9156 (4.96%)</td>\n",
              "      <td>184450 (100.0%)</td>\n",
              "    </tr>\n",
              "    <tr>\n",
              "      <th>30-39</th>\n",
              "      <td>2279 (5.11%)</td>\n",
              "      <td>2358 (5.29%)</td>\n",
              "      <td>37563 (84.3%)</td>\n",
              "      <td>2361 (5.3%)</td>\n",
              "      <td>44561 (100.0%)</td>\n",
              "    </tr>\n",
              "    <tr>\n",
              "      <th>&lt;20</th>\n",
              "      <td>1116 (3.43%)</td>\n",
              "      <td>1167 (3.59%)</td>\n",
              "      <td>29092 (89.48%)</td>\n",
              "      <td>1139 (3.5%)</td>\n",
              "      <td>32514 (100.0%)</td>\n",
              "    </tr>\n",
              "    <tr>\n",
              "      <th>&gt;=40</th>\n",
              "      <td>403 (4.27%)</td>\n",
              "      <td>431 (4.56%)</td>\n",
              "      <td>8176 (86.59%)</td>\n",
              "      <td>432 (4.58%)</td>\n",
              "      <td>9442 (100.0%)</td>\n",
              "    </tr>\n",
              "    <tr>\n",
              "      <th>All</th>\n",
              "      <td>13268 (4.9%)</td>\n",
              "      <td>13331 (4.92%)</td>\n",
              "      <td>231280 (85.35%)</td>\n",
              "      <td>13088 (4.83%)</td>\n",
              "      <td>270967 (100.0%)</td>\n",
              "    </tr>\n",
              "  </tbody>\n",
              "</table>\n",
              "</div>"
            ],
            "text/plain": [
              "Medal               Bronze           Gold  ...         Silver              All\n",
              "Age_Category                               ...                                \n",
              "20-29         9470 (5.13%)   9375 (5.08%)  ...   9156 (4.96%)  184450 (100.0%)\n",
              "30-39         2279 (5.11%)   2358 (5.29%)  ...    2361 (5.3%)   44561 (100.0%)\n",
              "<20           1116 (3.43%)   1167 (3.59%)  ...    1139 (3.5%)   32514 (100.0%)\n",
              ">=40           403 (4.27%)    431 (4.56%)  ...    432 (4.58%)    9442 (100.0%)\n",
              "All           13268 (4.9%)  13331 (4.92%)  ...  13088 (4.83%)  270967 (100.0%)\n",
              "\n",
              "[5 rows x 5 columns]"
            ]
          },
          "metadata": {},
          "execution_count": 120
        }
      ]
    },
    {
      "cell_type": "code",
      "metadata": {
        "id": "nUSXf0qnwg4g"
      },
      "source": [
        "# From this, we see that in all age categories, ~85% of the athletes didn't win any medals\n",
        "# So people of the 20-19 age group winning more medals is not special and is because they have a high participant\n",
        "#    count. If you are a Olympian in the 20-29 age category, your chances of not winning a medal are also near 85% "
      ],
      "execution_count": 93,
      "outputs": []
    },
    {
      "cell_type": "code",
      "source": [
        "\n",
        "# Check ratio of medals in each bmi category\n",
        "datac = data.dropna(axis=0, subset = ['BMI'])\n",
        "detailCt = pd.crosstab(datac.BMI_Category,datac.Medal,margins=True)\n",
        "percent_gold = np.round(detailCt['Gold']/detailCt.All * 100,decimals=2)\n",
        "percent_silver = np.round(detailCt['Silver']/detailCt.All * 100,decimals=2)\n",
        "percent_bronze = np.round(detailCt['Bronze']/detailCt.All * 100,decimals=2)\n",
        "percent_none = np.round(detailCt['None']/detailCt.All * 100,decimals=2)\n",
        "totalPercent = np.round(detailCt.All/detailCt.All * 100,decimals=2)\n",
        "\n",
        "detailCt['Gold'] = detailCt['Gold'].astype('str') + \" (\" + percent_gold.astype('str') + \"%)\"\n",
        "detailCt['Silver'] = detailCt['Silver'].astype('str') + \" (\" + percent_silver.astype('str') + \"%)\"\n",
        "detailCt['Bronze'] = detailCt['Bronze'].astype('str') + \" (\" + percent_bronze.astype('str') + \"%)\"\n",
        "detailCt['None'] = detailCt['None'].astype('str') + \" (\" + percent_none.astype('str') + \"%)\"\n",
        "\n",
        "detailCt.All = detailCt.All.astype('str') + \" (\" + totalPercent.astype('str') + \"%)\"\n",
        "detailCt"
      ],
      "metadata": {
        "colab": {
          "base_uri": "https://localhost:8080/",
          "height": 269
        },
        "id": "p0d4-mPV3UZu",
        "outputId": "61006e19-b520-44bf-c44b-d8d7c769c40a"
      },
      "execution_count": 122,
      "outputs": [
        {
          "output_type": "execute_result",
          "data": {
            "text/html": [
              "<div>\n",
              "<style scoped>\n",
              "    .dataframe tbody tr th:only-of-type {\n",
              "        vertical-align: middle;\n",
              "    }\n",
              "\n",
              "    .dataframe tbody tr th {\n",
              "        vertical-align: top;\n",
              "    }\n",
              "\n",
              "    .dataframe thead th {\n",
              "        text-align: right;\n",
              "    }\n",
              "</style>\n",
              "<table border=\"1\" class=\"dataframe\">\n",
              "  <thead>\n",
              "    <tr style=\"text-align: right;\">\n",
              "      <th>Medal</th>\n",
              "      <th>Bronze</th>\n",
              "      <th>Gold</th>\n",
              "      <th>None</th>\n",
              "      <th>Silver</th>\n",
              "      <th>All</th>\n",
              "    </tr>\n",
              "    <tr>\n",
              "      <th>BMI_Category</th>\n",
              "      <th></th>\n",
              "      <th></th>\n",
              "      <th></th>\n",
              "      <th></th>\n",
              "      <th></th>\n",
              "    </tr>\n",
              "  </thead>\n",
              "  <tbody>\n",
              "    <tr>\n",
              "      <th>18.5-24.9</th>\n",
              "      <td>9330 (4.55%)</td>\n",
              "      <td>9102 (4.44%)</td>\n",
              "      <td>177610 (86.61%)</td>\n",
              "      <td>9022 (4.4%)</td>\n",
              "      <td>205064 (100.0%)</td>\n",
              "    </tr>\n",
              "    <tr>\n",
              "      <th>25-29.9</th>\n",
              "      <td>2288 (5.94%)</td>\n",
              "      <td>2323 (6.03%)</td>\n",
              "      <td>31647 (82.16%)</td>\n",
              "      <td>2261 (5.87%)</td>\n",
              "      <td>38519 (100.0%)</td>\n",
              "    </tr>\n",
              "    <tr>\n",
              "      <th>30-34.9</th>\n",
              "      <td>216 (4.8%)</td>\n",
              "      <td>243 (5.4%)</td>\n",
              "      <td>3812 (84.79%)</td>\n",
              "      <td>225 (5.0%)</td>\n",
              "      <td>4496 (100.0%)</td>\n",
              "    </tr>\n",
              "    <tr>\n",
              "      <th>&lt;18.5</th>\n",
              "      <td>323 (3.87%)</td>\n",
              "      <td>344 (4.12%)</td>\n",
              "      <td>7360 (88.21%)</td>\n",
              "      <td>317 (3.8%)</td>\n",
              "      <td>8344 (100.0%)</td>\n",
              "    </tr>\n",
              "    <tr>\n",
              "      <th>&gt;35</th>\n",
              "      <td>75 (6.13%)</td>\n",
              "      <td>54 (4.42%)</td>\n",
              "      <td>1029 (84.14%)</td>\n",
              "      <td>65 (5.31%)</td>\n",
              "      <td>1223 (100.0%)</td>\n",
              "    </tr>\n",
              "    <tr>\n",
              "      <th>All</th>\n",
              "      <td>12232 (4.75%)</td>\n",
              "      <td>12066 (4.68%)</td>\n",
              "      <td>221458 (85.95%)</td>\n",
              "      <td>11890 (4.61%)</td>\n",
              "      <td>257646 (100.0%)</td>\n",
              "    </tr>\n",
              "  </tbody>\n",
              "</table>\n",
              "</div>"
            ],
            "text/plain": [
              "Medal                Bronze           Gold  ...         Silver              All\n",
              "BMI_Category                                ...                                \n",
              "18.5-24.9      9330 (4.55%)   9102 (4.44%)  ...    9022 (4.4%)  205064 (100.0%)\n",
              "25-29.9        2288 (5.94%)   2323 (6.03%)  ...   2261 (5.87%)   38519 (100.0%)\n",
              "30-34.9          216 (4.8%)     243 (5.4%)  ...     225 (5.0%)    4496 (100.0%)\n",
              "<18.5           323 (3.87%)    344 (4.12%)  ...     317 (3.8%)    8344 (100.0%)\n",
              ">35              75 (6.13%)     54 (4.42%)  ...     65 (5.31%)    1223 (100.0%)\n",
              "All           12232 (4.75%)  12066 (4.68%)  ...  11890 (4.61%)  257646 (100.0%)\n",
              "\n",
              "[6 rows x 5 columns]"
            ]
          },
          "metadata": {},
          "execution_count": 122
        }
      ]
    },
    {
      "cell_type": "code",
      "source": [
        "datac = data[data['Event'].str.contains('Mixed')]\n",
        "detailCt = pd.crosstab(datac.Sex,datac.Medal,margins=True)\n",
        "percent_gold = np.round(detailCt['Gold']/detailCt.All * 100,decimals=2)\n",
        "percent_silver = np.round(detailCt['Silver']/detailCt.All * 100,decimals=2)\n",
        "percent_bronze = np.round(detailCt['Bronze']/detailCt.All * 100,decimals=2)\n",
        "percent_none = np.round(detailCt['None']/detailCt.All * 100,decimals=2)\n",
        "totalPercent = np.round(detailCt.All/detailCt.All * 100,decimals=2)\n",
        "\n",
        "detailCt['Gold'] = detailCt['Gold'].astype('str') + \" (\" + percent_gold.astype('str') + \"%)\"\n",
        "detailCt['Silver'] = detailCt['Silver'].astype('str') + \" (\" + percent_silver.astype('str') + \"%)\"\n",
        "detailCt['Bronze'] = detailCt['Bronze'].astype('str') + \" (\" + percent_bronze.astype('str') + \"%)\"\n",
        "detailCt['None'] = detailCt['None'].astype('str') + \" (\" + percent_none.astype('str') + \"%)\"\n",
        "\n",
        "detailCt.All = detailCt.All.astype('str') + \" (\" + totalPercent.astype('str') + \"%)\"\n",
        "detailCt"
      ],
      "metadata": {
        "colab": {
          "base_uri": "https://localhost:8080/",
          "height": 175
        },
        "id": "R3vF_EuS30Ug",
        "outputId": "f0a9415a-bfd6-4715-d61c-9c512b167656"
      },
      "execution_count": 123,
      "outputs": [
        {
          "output_type": "execute_result",
          "data": {
            "text/html": [
              "<div>\n",
              "<style scoped>\n",
              "    .dataframe tbody tr th:only-of-type {\n",
              "        vertical-align: middle;\n",
              "    }\n",
              "\n",
              "    .dataframe tbody tr th {\n",
              "        vertical-align: top;\n",
              "    }\n",
              "\n",
              "    .dataframe thead th {\n",
              "        text-align: right;\n",
              "    }\n",
              "</style>\n",
              "<table border=\"1\" class=\"dataframe\">\n",
              "  <thead>\n",
              "    <tr style=\"text-align: right;\">\n",
              "      <th>Medal</th>\n",
              "      <th>Bronze</th>\n",
              "      <th>Gold</th>\n",
              "      <th>None</th>\n",
              "      <th>Silver</th>\n",
              "      <th>All</th>\n",
              "    </tr>\n",
              "    <tr>\n",
              "      <th>Sex</th>\n",
              "      <th></th>\n",
              "      <th></th>\n",
              "      <th></th>\n",
              "      <th></th>\n",
              "      <th></th>\n",
              "    </tr>\n",
              "  </thead>\n",
              "  <tbody>\n",
              "    <tr>\n",
              "      <th>F</th>\n",
              "      <td>129 (4.95%)</td>\n",
              "      <td>122 (4.68%)</td>\n",
              "      <td>2203 (84.54%)</td>\n",
              "      <td>152 (5.83%)</td>\n",
              "      <td>2606 (100.0%)</td>\n",
              "    </tr>\n",
              "    <tr>\n",
              "      <th>M</th>\n",
              "      <td>610 (4.26%)</td>\n",
              "      <td>739 (5.16%)</td>\n",
              "      <td>12348 (86.14%)</td>\n",
              "      <td>637 (4.44%)</td>\n",
              "      <td>14334 (100.0%)</td>\n",
              "    </tr>\n",
              "    <tr>\n",
              "      <th>All</th>\n",
              "      <td>739 (4.36%)</td>\n",
              "      <td>861 (5.08%)</td>\n",
              "      <td>14551 (85.9%)</td>\n",
              "      <td>789 (4.66%)</td>\n",
              "      <td>16940 (100.0%)</td>\n",
              "    </tr>\n",
              "  </tbody>\n",
              "</table>\n",
              "</div>"
            ],
            "text/plain": [
              "Medal       Bronze         Gold            None       Silver             All\n",
              "Sex                                                                         \n",
              "F      129 (4.95%)  122 (4.68%)   2203 (84.54%)  152 (5.83%)   2606 (100.0%)\n",
              "M      610 (4.26%)  739 (5.16%)  12348 (86.14%)  637 (4.44%)  14334 (100.0%)\n",
              "All    739 (4.36%)  861 (5.08%)   14551 (85.9%)  789 (4.66%)  16940 (100.0%)"
            ]
          },
          "metadata": {},
          "execution_count": 123
        }
      ]
    },
    {
      "cell_type": "code",
      "metadata": {
        "id": "o4Wr-01PPQqN"
      },
      "source": [
        "# GENDER\n",
        "# Selecting only mixed gender events to see if women performance\n",
        "datac = data[data['Event'].str.contains('Mixed')]\n",
        "\n",
        "# Observed\n",
        "ct = pd.crosstab(datac.Medal,datac.Sex,margins=True)\n",
        "detailCt = ct.copy()\n",
        "percent_m = np.round(detailCt['M']/detailCt.All * 100,decimals=2)\n",
        "percent_f = np.round(detailCt['F']/detailCt.All * 100,decimals=2)\n",
        "\n",
        "totalPercent = np.round(detailCt.All/detailCt.All * 100,decimals=2)\n",
        "\n",
        "detailCt['M'] = detailCt['M'].astype('str') + \" (\" + percent_m.astype('str') + \"%)\"\n",
        "detailCt['F'] = detailCt['F'].astype('str') + \" (\" + percent_f.astype('str') + \"%)\"\n",
        "\n",
        "\n",
        "detailCt.All = detailCt.All.astype('str') + \" (\" + totalPercent.astype('str') + \"%)\"\n",
        "\n",
        "# Expected\n",
        "expected_m = np.round(ct.All * ct.loc['All','M']/ct.loc['All','All'], decimals=3) \n",
        "expected_f = np.round(ct.All * ct.loc['All','F']/ct.loc['All','All'], decimals=3) \n",
        "\n",
        "ctExpected = ct.copy()\n",
        "ctExpected['M'] = expected_m\n",
        "ctExpected['F'] = expected_f\n",
        "\n",
        "\n",
        "ctExpected['All'] = 0\n",
        "ctExpected.loc['All'] = 0\n",
        "ctExpected['All'] = ctExpected.sum(axis=1)\n",
        "ctExpected.loc['All'] = ctExpected.sum(axis=0)\n",
        "\n",
        "CtPercent_m = np.round(ctExpected['M']/ctExpected.All * 100,decimals=2)\n",
        "CtPercent_f = np.round(ctExpected['F']/ctExpected.All * 100,decimals=2)\n",
        "\n",
        "\n",
        "totalPercent = np.round(ctExpected.All/ctExpected.All * 100,decimals=2)\n",
        "\n",
        "detailExp = ctExpected.copy()\n",
        "\n",
        "detailExp['M'] = np.round(ctExpected['M'],3).astype('str') + \" (\" + CtPercent_m.astype('str') + \"%)\"\n",
        "detailExp['F'] = np.round(ctExpected['F'],3).astype('str') + \" (\" + CtPercent_f.astype('str') + \"%)\"\n",
        "\n",
        "\n",
        "detailExp.All = np.round(ctExpected.All,0).astype('str') + \" (\" + totalPercent.astype('str') + \"%)\""
      ],
      "execution_count": 94,
      "outputs": []
    },
    {
      "cell_type": "code",
      "metadata": {
        "colab": {
          "base_uri": "https://localhost:8080/",
          "height": 238
        },
        "id": "7i3dCjFNwg9v",
        "outputId": "d80189d1-0fd8-42b5-92d7-e03a01113419"
      },
      "source": [
        "detailExp"
      ],
      "execution_count": 95,
      "outputs": [
        {
          "output_type": "execute_result",
          "data": {
            "text/html": [
              "<div>\n",
              "<style scoped>\n",
              "    .dataframe tbody tr th:only-of-type {\n",
              "        vertical-align: middle;\n",
              "    }\n",
              "\n",
              "    .dataframe tbody tr th {\n",
              "        vertical-align: top;\n",
              "    }\n",
              "\n",
              "    .dataframe thead th {\n",
              "        text-align: right;\n",
              "    }\n",
              "</style>\n",
              "<table border=\"1\" class=\"dataframe\">\n",
              "  <thead>\n",
              "    <tr style=\"text-align: right;\">\n",
              "      <th>Sex</th>\n",
              "      <th>F</th>\n",
              "      <th>M</th>\n",
              "      <th>All</th>\n",
              "    </tr>\n",
              "    <tr>\n",
              "      <th>Medal</th>\n",
              "      <th></th>\n",
              "      <th></th>\n",
              "      <th></th>\n",
              "    </tr>\n",
              "  </thead>\n",
              "  <tbody>\n",
              "    <tr>\n",
              "      <th>Bronze</th>\n",
              "      <td>113.686 (15.38%)</td>\n",
              "      <td>625.314 (84.62%)</td>\n",
              "      <td>739.0 (100.0%)</td>\n",
              "    </tr>\n",
              "    <tr>\n",
              "      <th>Gold</th>\n",
              "      <td>132.454 (15.38%)</td>\n",
              "      <td>728.546 (84.62%)</td>\n",
              "      <td>861.0 (100.0%)</td>\n",
              "    </tr>\n",
              "    <tr>\n",
              "      <th>None</th>\n",
              "      <td>2238.483 (15.38%)</td>\n",
              "      <td>12312.517 (84.62%)</td>\n",
              "      <td>14551.0 (100.0%)</td>\n",
              "    </tr>\n",
              "    <tr>\n",
              "      <th>Silver</th>\n",
              "      <td>121.377 (15.38%)</td>\n",
              "      <td>667.623 (84.62%)</td>\n",
              "      <td>789.0 (100.0%)</td>\n",
              "    </tr>\n",
              "    <tr>\n",
              "      <th>All</th>\n",
              "      <td>2606.0 (15.38%)</td>\n",
              "      <td>14334.0 (84.62%)</td>\n",
              "      <td>16940.0 (100.0%)</td>\n",
              "    </tr>\n",
              "  </tbody>\n",
              "</table>\n",
              "</div>"
            ],
            "text/plain": [
              "Sex                     F                   M               All\n",
              "Medal                                                          \n",
              "Bronze   113.686 (15.38%)    625.314 (84.62%)    739.0 (100.0%)\n",
              "Gold     132.454 (15.38%)    728.546 (84.62%)    861.0 (100.0%)\n",
              "None    2238.483 (15.38%)  12312.517 (84.62%)  14551.0 (100.0%)\n",
              "Silver   121.377 (15.38%)    667.623 (84.62%)    789.0 (100.0%)\n",
              "All       2606.0 (15.38%)    14334.0 (84.62%)  16940.0 (100.0%)"
            ]
          },
          "metadata": {},
          "execution_count": 95
        }
      ]
    },
    {
      "cell_type": "code",
      "metadata": {
        "colab": {
          "base_uri": "https://localhost:8080/",
          "height": 238
        },
        "id": "fYqP2GhROODC",
        "outputId": "12b05fd7-19e6-48e6-c45d-b3cf8c104a1e"
      },
      "source": [
        "detailCt"
      ],
      "execution_count": 96,
      "outputs": [
        {
          "output_type": "execute_result",
          "data": {
            "text/html": [
              "<div>\n",
              "<style scoped>\n",
              "    .dataframe tbody tr th:only-of-type {\n",
              "        vertical-align: middle;\n",
              "    }\n",
              "\n",
              "    .dataframe tbody tr th {\n",
              "        vertical-align: top;\n",
              "    }\n",
              "\n",
              "    .dataframe thead th {\n",
              "        text-align: right;\n",
              "    }\n",
              "</style>\n",
              "<table border=\"1\" class=\"dataframe\">\n",
              "  <thead>\n",
              "    <tr style=\"text-align: right;\">\n",
              "      <th>Sex</th>\n",
              "      <th>F</th>\n",
              "      <th>M</th>\n",
              "      <th>All</th>\n",
              "    </tr>\n",
              "    <tr>\n",
              "      <th>Medal</th>\n",
              "      <th></th>\n",
              "      <th></th>\n",
              "      <th></th>\n",
              "    </tr>\n",
              "  </thead>\n",
              "  <tbody>\n",
              "    <tr>\n",
              "      <th>Bronze</th>\n",
              "      <td>129 (17.46%)</td>\n",
              "      <td>610 (82.54%)</td>\n",
              "      <td>739 (100.0%)</td>\n",
              "    </tr>\n",
              "    <tr>\n",
              "      <th>Gold</th>\n",
              "      <td>122 (14.17%)</td>\n",
              "      <td>739 (85.83%)</td>\n",
              "      <td>861 (100.0%)</td>\n",
              "    </tr>\n",
              "    <tr>\n",
              "      <th>None</th>\n",
              "      <td>2203 (15.14%)</td>\n",
              "      <td>12348 (84.86%)</td>\n",
              "      <td>14551 (100.0%)</td>\n",
              "    </tr>\n",
              "    <tr>\n",
              "      <th>Silver</th>\n",
              "      <td>152 (19.26%)</td>\n",
              "      <td>637 (80.74%)</td>\n",
              "      <td>789 (100.0%)</td>\n",
              "    </tr>\n",
              "    <tr>\n",
              "      <th>All</th>\n",
              "      <td>2606 (15.38%)</td>\n",
              "      <td>14334 (84.62%)</td>\n",
              "      <td>16940 (100.0%)</td>\n",
              "    </tr>\n",
              "  </tbody>\n",
              "</table>\n",
              "</div>"
            ],
            "text/plain": [
              "Sex                 F               M             All\n",
              "Medal                                                \n",
              "Bronze   129 (17.46%)    610 (82.54%)    739 (100.0%)\n",
              "Gold     122 (14.17%)    739 (85.83%)    861 (100.0%)\n",
              "None    2203 (15.14%)  12348 (84.86%)  14551 (100.0%)\n",
              "Silver   152 (19.26%)    637 (80.74%)    789 (100.0%)\n",
              "All     2606 (15.38%)  14334 (84.62%)  16940 (100.0%)"
            ]
          },
          "metadata": {},
          "execution_count": 96
        }
      ]
    },
    {
      "cell_type": "code",
      "metadata": {
        "id": "_8mVWZHKSDjr"
      },
      "source": [
        "# Except for Gold medals, clearly, female athletes have won medals more than expected from the overall stats\n",
        "# In mixed events, women performed better than expected"
      ],
      "execution_count": 97,
      "outputs": []
    },
    {
      "cell_type": "code",
      "metadata": {
        "id": "7N2SE6V2wg6n"
      },
      "source": [
        "# BMI\n",
        "# Observed\n",
        "datac = data.dropna(axis=0, subset = ['BMI'])\n",
        "ct = pd.crosstab(datac.Medal,datac.BMI_Category,margins=True)\n",
        "\n",
        "detailCt = ct.copy()\n",
        "percent_one = np.round(detailCt['18.5-24.9']/detailCt.All * 100,decimals=2)\n",
        "percent_two = np.round(detailCt['>35']/detailCt.All * 100,decimals=2)\n",
        "percent_three = np.round(detailCt['25-29.9']/detailCt.All * 100,decimals=2)\n",
        "percent_four = np.round(detailCt['30-34.9']/detailCt.All * 100,decimals=2)\n",
        "percent_five = np.round(detailCt['<18.5']/detailCt.All * 100,decimals=2)\n",
        "totalPercent = np.round(detailCt.All/detailCt.All * 100,decimals=2)\n",
        "\n",
        "detailCt['18.5-24.9'] = ct['18.5-24.9'].astype('str') + \" (\" + percent_one.astype('str') + \"%)\"\n",
        "detailCt['>35'] = ct['>35'].astype('str') + \" (\" + percent_two.astype('str') + \"%)\"\n",
        "detailCt['25-29.9'] = ct['25-29.9'].astype('str') + \" (\" + percent_three.astype('str') + \"%)\"\n",
        "detailCt['30-34.9'] = ct['30-34.9'].astype('str') + \" (\" + percent_four.astype('str') + \"%)\"\n",
        "detailCt['<18.5'] = ct['<18.5'].astype('str') + \" (\" + percent_five.astype('str') + \"%)\"\n",
        "\n",
        "detailCt.All = ct.All.astype('str') + \" (\" + totalPercent.astype('str') + \"%)\""
      ],
      "execution_count": 98,
      "outputs": []
    },
    {
      "cell_type": "code",
      "metadata": {
        "id": "cq5hbT2YeCFf"
      },
      "source": [
        "expected_one = np.round(ct.All * ct.loc['All','18.5-24.9']/ct.loc['All','All'], decimals=3) \n",
        "expected_two = np.round(ct.All * ct.loc['All','>35']/ct.loc['All','All'], decimals=3) \n",
        "expected_three = np.round(ct.All * ct.loc['All','25-29.9']/ct.loc['All','All'], decimals=3) \n",
        "expected_four = np.round(ct.All * ct.loc['All','30-34.9']/ct.loc['All','All'], decimals=3) \n",
        "expected_five = np.round(ct.All * ct.loc['All','<18.5']/ct.loc['All','All'], decimals=3) \n",
        "\n",
        "ctExpected = ct.copy()\n",
        "\n",
        "ctExpected['18.5-24.9'] = expected_one\n",
        "ctExpected['>35'] = expected_two\n",
        "ctExpected['25-29.9'] = expected_three\n",
        "ctExpected['30-34.9'] = expected_four\n",
        "ctExpected['<18.5'] = expected_five\n",
        "\n",
        "ctExpected['All'] = 0\n",
        "ctExpected.loc['All'] = 0\n",
        "ctExpected['All'] = ctExpected.sum(axis=1)\n",
        "ctExpected.loc['All'] = ctExpected.sum(axis=0)\n",
        "\n",
        "CtPercent_one = np.round(ctExpected['18.5-24.9']/ctExpected.All * 100,decimals=2)\n",
        "CtPercent_two = np.round(ctExpected['>35']/ctExpected.All * 100,decimals=2)\n",
        "CtPercent_three = np.round(ctExpected['25-29.9']/ctExpected.All * 100,decimals=2)\n",
        "CtPercent_four = np.round(ctExpected['30-34.9']/ctExpected.All * 100,decimals=2)\n",
        "CtPercent_five = np.round(ctExpected['<18.5']/ctExpected.All * 100,decimals=2)\n",
        "\n",
        "totalPercent = np.round(ctExpected.All/ctExpected.All * 100,decimals=2)\n",
        "\n",
        "detailExp = ctExpected.copy()\n",
        "\n",
        "detailExp['18.5-24.9'] = np.round(ctExpected['18.5-24.9'],3).astype('str') + \" (\" + CtPercent_one.astype('str') + \"%)\"\n",
        "detailExp['>35'] = np.round(ctExpected['>35'],3).astype('str') + \" (\" + CtPercent_two.astype('str') + \"%)\"\n",
        "detailExp['25-29.9'] = np.round(ctExpected['25-29.9'],3).astype('str') + \" (\" + CtPercent_three.astype('str') + \"%)\"\n",
        "detailExp['30-34.9'] = np.round(ctExpected['30-34.9'],3).astype('str') + \" (\" + CtPercent_four.astype('str') + \"%)\"\n",
        "detailExp['<18.5'] = np.round(ctExpected['<18.5'],3).astype('str') + \" (\" + CtPercent_five.astype('str') + \"%)\"\n",
        "\n",
        "detailExp.All = np.round(ctExpected.All,0).astype('str') + \" (\" + totalPercent.astype('str') + \"%)\"\n"
      ],
      "execution_count": 99,
      "outputs": []
    },
    {
      "cell_type": "code",
      "metadata": {
        "colab": {
          "base_uri": "https://localhost:8080/",
          "height": 238
        },
        "id": "Z1mXm7nBWnw7",
        "outputId": "5bdbaed1-7154-4ca2-e6a8-d5ce84f224c1"
      },
      "source": [
        "detailExp"
      ],
      "execution_count": 100,
      "outputs": [
        {
          "output_type": "execute_result",
          "data": {
            "text/html": [
              "<div>\n",
              "<style scoped>\n",
              "    .dataframe tbody tr th:only-of-type {\n",
              "        vertical-align: middle;\n",
              "    }\n",
              "\n",
              "    .dataframe tbody tr th {\n",
              "        vertical-align: top;\n",
              "    }\n",
              "\n",
              "    .dataframe thead th {\n",
              "        text-align: right;\n",
              "    }\n",
              "</style>\n",
              "<table border=\"1\" class=\"dataframe\">\n",
              "  <thead>\n",
              "    <tr style=\"text-align: right;\">\n",
              "      <th>BMI_Category</th>\n",
              "      <th>18.5-24.9</th>\n",
              "      <th>25-29.9</th>\n",
              "      <th>30-34.9</th>\n",
              "      <th>&lt;18.5</th>\n",
              "      <th>&gt;35</th>\n",
              "      <th>All</th>\n",
              "    </tr>\n",
              "    <tr>\n",
              "      <th>Medal</th>\n",
              "      <th></th>\n",
              "      <th></th>\n",
              "      <th></th>\n",
              "      <th></th>\n",
              "      <th></th>\n",
              "      <th></th>\n",
              "    </tr>\n",
              "  </thead>\n",
              "  <tbody>\n",
              "    <tr>\n",
              "      <th>Bronze</th>\n",
              "      <td>9735.617 (79.59%)</td>\n",
              "      <td>1828.728 (14.95%)</td>\n",
              "      <td>213.452 (1.75%)</td>\n",
              "      <td>396.14 (3.24%)</td>\n",
              "      <td>58.063 (0.47%)</td>\n",
              "      <td>12232.0 (100.0%)</td>\n",
              "    </tr>\n",
              "    <tr>\n",
              "      <th>Gold</th>\n",
              "      <td>9603.496 (79.59%)</td>\n",
              "      <td>1803.91 (14.95%)</td>\n",
              "      <td>210.555 (1.75%)</td>\n",
              "      <td>390.764 (3.24%)</td>\n",
              "      <td>57.275 (0.47%)</td>\n",
              "      <td>12066.0 (100.0%)</td>\n",
              "    </tr>\n",
              "    <tr>\n",
              "      <th>None</th>\n",
              "      <td>176261.472 (79.59%)</td>\n",
              "      <td>33108.764 (14.95%)</td>\n",
              "      <td>3864.509 (1.75%)</td>\n",
              "      <td>7172.033 (3.24%)</td>\n",
              "      <td>1051.222 (0.47%)</td>\n",
              "      <td>221458.0 (100.0%)</td>\n",
              "    </tr>\n",
              "    <tr>\n",
              "      <th>Silver</th>\n",
              "      <td>9463.415 (79.59%)</td>\n",
              "      <td>1777.598 (14.95%)</td>\n",
              "      <td>207.484 (1.75%)</td>\n",
              "      <td>385.064 (3.24%)</td>\n",
              "      <td>56.44 (0.47%)</td>\n",
              "      <td>11890.0 (100.0%)</td>\n",
              "    </tr>\n",
              "    <tr>\n",
              "      <th>All</th>\n",
              "      <td>205064.0 (79.59%)</td>\n",
              "      <td>38519.0 (14.95%)</td>\n",
              "      <td>4496.0 (1.75%)</td>\n",
              "      <td>8344.001 (3.24%)</td>\n",
              "      <td>1223.0 (0.47%)</td>\n",
              "      <td>257646.0 (100.0%)</td>\n",
              "    </tr>\n",
              "  </tbody>\n",
              "</table>\n",
              "</div>"
            ],
            "text/plain": [
              "BMI_Category            18.5-24.9  ...                All\n",
              "Medal                              ...                   \n",
              "Bronze          9735.617 (79.59%)  ...   12232.0 (100.0%)\n",
              "Gold            9603.496 (79.59%)  ...   12066.0 (100.0%)\n",
              "None          176261.472 (79.59%)  ...  221458.0 (100.0%)\n",
              "Silver          9463.415 (79.59%)  ...   11890.0 (100.0%)\n",
              "All             205064.0 (79.59%)  ...  257646.0 (100.0%)\n",
              "\n",
              "[5 rows x 6 columns]"
            ]
          },
          "metadata": {},
          "execution_count": 100
        }
      ]
    },
    {
      "cell_type": "code",
      "metadata": {
        "colab": {
          "base_uri": "https://localhost:8080/",
          "height": 238
        },
        "id": "1RdwwQMDkAAD",
        "outputId": "34398f71-cef0-4aa3-a0e3-76ef9cec0975"
      },
      "source": [
        "detailCt"
      ],
      "execution_count": 101,
      "outputs": [
        {
          "output_type": "execute_result",
          "data": {
            "text/html": [
              "<div>\n",
              "<style scoped>\n",
              "    .dataframe tbody tr th:only-of-type {\n",
              "        vertical-align: middle;\n",
              "    }\n",
              "\n",
              "    .dataframe tbody tr th {\n",
              "        vertical-align: top;\n",
              "    }\n",
              "\n",
              "    .dataframe thead th {\n",
              "        text-align: right;\n",
              "    }\n",
              "</style>\n",
              "<table border=\"1\" class=\"dataframe\">\n",
              "  <thead>\n",
              "    <tr style=\"text-align: right;\">\n",
              "      <th>BMI_Category</th>\n",
              "      <th>18.5-24.9</th>\n",
              "      <th>25-29.9</th>\n",
              "      <th>30-34.9</th>\n",
              "      <th>&lt;18.5</th>\n",
              "      <th>&gt;35</th>\n",
              "      <th>All</th>\n",
              "    </tr>\n",
              "    <tr>\n",
              "      <th>Medal</th>\n",
              "      <th></th>\n",
              "      <th></th>\n",
              "      <th></th>\n",
              "      <th></th>\n",
              "      <th></th>\n",
              "      <th></th>\n",
              "    </tr>\n",
              "  </thead>\n",
              "  <tbody>\n",
              "    <tr>\n",
              "      <th>Bronze</th>\n",
              "      <td>9330 (76.28%)</td>\n",
              "      <td>2288 (18.71%)</td>\n",
              "      <td>216 (1.77%)</td>\n",
              "      <td>323 (2.64%)</td>\n",
              "      <td>75 (0.61%)</td>\n",
              "      <td>12232 (100.0%)</td>\n",
              "    </tr>\n",
              "    <tr>\n",
              "      <th>Gold</th>\n",
              "      <td>9102 (75.44%)</td>\n",
              "      <td>2323 (19.25%)</td>\n",
              "      <td>243 (2.01%)</td>\n",
              "      <td>344 (2.85%)</td>\n",
              "      <td>54 (0.45%)</td>\n",
              "      <td>12066 (100.0%)</td>\n",
              "    </tr>\n",
              "    <tr>\n",
              "      <th>None</th>\n",
              "      <td>177610 (80.2%)</td>\n",
              "      <td>31647 (14.29%)</td>\n",
              "      <td>3812 (1.72%)</td>\n",
              "      <td>7360 (3.32%)</td>\n",
              "      <td>1029 (0.46%)</td>\n",
              "      <td>221458 (100.0%)</td>\n",
              "    </tr>\n",
              "    <tr>\n",
              "      <th>Silver</th>\n",
              "      <td>9022 (75.88%)</td>\n",
              "      <td>2261 (19.02%)</td>\n",
              "      <td>225 (1.89%)</td>\n",
              "      <td>317 (2.67%)</td>\n",
              "      <td>65 (0.55%)</td>\n",
              "      <td>11890 (100.0%)</td>\n",
              "    </tr>\n",
              "    <tr>\n",
              "      <th>All</th>\n",
              "      <td>205064 (79.59%)</td>\n",
              "      <td>38519 (14.95%)</td>\n",
              "      <td>4496 (1.75%)</td>\n",
              "      <td>8344 (3.24%)</td>\n",
              "      <td>1223 (0.47%)</td>\n",
              "      <td>257646 (100.0%)</td>\n",
              "    </tr>\n",
              "  </tbody>\n",
              "</table>\n",
              "</div>"
            ],
            "text/plain": [
              "BMI_Category        18.5-24.9         25-29.9  ...           >35              All\n",
              "Medal                                          ...                               \n",
              "Bronze          9330 (76.28%)   2288 (18.71%)  ...    75 (0.61%)   12232 (100.0%)\n",
              "Gold            9102 (75.44%)   2323 (19.25%)  ...    54 (0.45%)   12066 (100.0%)\n",
              "None           177610 (80.2%)  31647 (14.29%)  ...  1029 (0.46%)  221458 (100.0%)\n",
              "Silver          9022 (75.88%)   2261 (19.02%)  ...    65 (0.55%)   11890 (100.0%)\n",
              "All           205064 (79.59%)  38519 (14.95%)  ...  1223 (0.47%)  257646 (100.0%)\n",
              "\n",
              "[5 rows x 6 columns]"
            ]
          },
          "metadata": {},
          "execution_count": 101
        }
      ]
    },
    {
      "cell_type": "code",
      "metadata": {
        "id": "Dz6rHySMkKuF"
      },
      "source": [
        "# In almost all medal categories, the 18.5 - 24.9 BMI category which is usually considered as the ideal,\n",
        "#    won less medals than expected\n",
        "# But first, we can see that a vast majority of the participating atheletes fall in this range of ideal BMI"
      ],
      "execution_count": 102,
      "outputs": []
    },
    {
      "cell_type": "code",
      "metadata": {
        "colab": {
          "base_uri": "https://localhost:8080/"
        },
        "id": "NXagOeEtktye",
        "outputId": "29b2b97c-9780-45ed-db0c-cb2ad7913bd2"
      },
      "source": [
        "# Chi square test to test significance\n",
        "from scipy.stats import chi2_contingency\n",
        "datac = data.dropna(axis=0, subset = ['BMI'])\n",
        "# Setting medal column as medallist or non medallist status\n",
        "datac['Medal'] = datac['Medal'].apply(lambda x: 'No' if x=='None' else 'Yes')\n",
        "print('Chi test for BMI Category vs Medallist status')\n",
        "\n",
        "ct = pd.crosstab(datac.Medal,datac.BMI_Category,margins=True)\n",
        "chi2, p, dof, ex = chi2_contingency(ct)\n",
        "print('Overall: ')\n",
        "print(\"p-val = \", p)\n",
        "\n",
        "data_selected = datac[datac['Category']=='Athletic']\n",
        "ct = pd.crosstab(data_selected.Medal,data_selected.BMI_Category,margins=True)\n",
        "chi2, p, dof, ex = chi2_contingency(ct)\n",
        "print('Athletic sports category: ')\n",
        "print(\"p-val = \", p)\n",
        "\n",
        "data_selected = datac[datac['Category']=='Combative']\n",
        "ct = pd.crosstab(data_selected.Medal,data_selected.BMI_Category,margins=True)\n",
        "chi2, p, dof, ex = chi2_contingency(ct)\n",
        "print('Combative sports category: ')\n",
        "print(\"p-val = \", p)\n",
        "\n",
        "data_selected = datac[datac['Category']=='Ball based']\n",
        "ct = pd.crosstab(data_selected.Medal,data_selected.BMI_Category,margins=True)\n",
        "chi2, p, dof, ex = chi2_contingency(ct)\n",
        "print('Ball based sports category: ')\n",
        "print(\"p-val = \", p)\n",
        "\n",
        "data_selected = datac[datac['Category']=='Other']\n",
        "ct = pd.crosstab(data_selected.Medal,data_selected.BMI_Category,margins=True)\n",
        "chi2, p, dof, ex = chi2_contingency(ct)\n",
        "print('Other sports category: ')\n",
        "print(\"p-val = \", p)\n",
        "\n"
      ],
      "execution_count": 117,
      "outputs": [
        {
          "output_type": "stream",
          "name": "stderr",
          "text": [
            "/usr/local/lib/python3.7/dist-packages/ipykernel_launcher.py:5: SettingWithCopyWarning: \n",
            "A value is trying to be set on a copy of a slice from a DataFrame.\n",
            "Try using .loc[row_indexer,col_indexer] = value instead\n",
            "\n",
            "See the caveats in the documentation: https://pandas.pydata.org/pandas-docs/stable/user_guide/indexing.html#returning-a-view-versus-a-copy\n",
            "  \"\"\"\n"
          ]
        },
        {
          "output_type": "stream",
          "name": "stdout",
          "text": [
            "Chi test for BMI Category vs Medallist status\n",
            "Overall: \n",
            "p-val =  1.9636111801537638e-117\n",
            "Athletic sports category: \n",
            "p-val =  8.771155033477955e-63\n",
            "Combative sports category: \n",
            "p-val =  0.04758128226905475\n",
            "Ball based sports category: \n",
            "p-val =  6.940574306111892e-31\n",
            "Other sports category: \n",
            "p-val =  0.006543055332800753\n"
          ]
        }
      ]
    },
    {
      "cell_type": "markdown",
      "metadata": {
        "id": "4FvfLsXbuH7T"
      },
      "source": [
        "p-value < 0.5. Reject H0 in all cases. <br>\n",
        "Relationship present between BMI category and the medallist status"
      ]
    },
    {
      "cell_type": "code",
      "metadata": {
        "colab": {
          "base_uri": "https://localhost:8080/"
        },
        "id": "YhBx7flGttUA",
        "outputId": "40ce3c1a-ab56-48f0-b3c0-90eba199b9f4"
      },
      "source": [
        "# Age\n",
        "print('Chi test for Age Category vs Medallist status')\n",
        "datac = data.dropna(axis=0, subset = ['Age'])\n",
        "ct = pd.crosstab(datac.Medal,datac.Age_Category,margins=True)\n",
        "chi2, p, dof, ex = chi2_contingency(ct)\n",
        "print('Overall: ')\n",
        "print(\"p-val = \", p)\n",
        "\n",
        "data_selected = datac[datac['Category']=='Athletic']\n",
        "ct = pd.crosstab(data_selected.Medal,data_selected.Age_Category,margins=True)\n",
        "chi2, p, dof, ex = chi2_contingency(ct)\n",
        "print('Athletic sports category: ')\n",
        "print(\"p-val = \", p)\n",
        "\n",
        "data_selected = datac[datac['Category']=='Combative']\n",
        "ct = pd.crosstab(data_selected.Medal,data_selected.Age_Category,margins=True)\n",
        "chi2, p, dof, ex = chi2_contingency(ct)\n",
        "print('Combative sports category: ')\n",
        "print(\"p-val = \", p)\n",
        "\n",
        "data_selected = datac[datac['Category']=='Ball based']\n",
        "ct = pd.crosstab(data_selected.Medal,data_selected.Age_Category,margins=True)\n",
        "chi2, p, dof, ex = chi2_contingency(ct)\n",
        "print('Ball based sports category: ')\n",
        "print(\"p-val = \", p)\n",
        "\n",
        "data_selected = datac[datac['Category']=='Other']\n",
        "ct = pd.crosstab(data_selected.Medal,data_selected.Age_Category,margins=True)\n",
        "chi2, p, dof, ex = chi2_contingency(ct)\n",
        "print('Other sports category: ')\n",
        "print(\"p-val = \", p)"
      ],
      "execution_count": 118,
      "outputs": [
        {
          "output_type": "stream",
          "name": "stdout",
          "text": [
            "Chi test for Age Category vs Medallist status\n",
            "Overall: \n",
            "p-val =  3.0693107469444077e-105\n",
            "Athletic sports category: \n",
            "p-val =  3.0542458624801927e-28\n",
            "Combative sports category: \n",
            "p-val =  0.0024394961531481237\n",
            "Ball based sports category: \n",
            "p-val =  1.1619490651324925e-05\n",
            "Other sports category: \n",
            "p-val =  8.774104749118796e-39\n"
          ]
        }
      ]
    },
    {
      "cell_type": "markdown",
      "metadata": {
        "id": "SgHk7Tj7lSnU"
      },
      "source": [
        "p-value less than 0.5. Reject H0 in all cases.<br> Hence, there is a significant relationship between the medals and the age categories.\n",
        "\n",
        "\n"
      ]
    },
    {
      "cell_type": "code",
      "source": [
        "# GENDER\n",
        "# Selecting only mixed gender events to see if women performance\n",
        "datac = data[data['Event'].str.contains('Mixed')]\n",
        "print('Chi test for Sex vs Medallist status')\n",
        "ct = pd.crosstab(datac.Medal,datac.Sex,margins=True)\n",
        "chi2, p, dof, ex = chi2_contingency(ct)\n",
        "print('Overall: ')\n",
        "print(\"p-val = \", p)\n",
        "\n",
        "data_selected = datac[datac['Category']=='Athletic']\n",
        "ct = pd.crosstab(data_selected.Medal,data_selected.Sex,margins=True)\n",
        "chi2, p, dof, ex = chi2_contingency(ct)\n",
        "print('Athletic sports category: ')\n",
        "print(\"p-val = \", p)\n",
        "\n",
        "# No mixed combative sports\n",
        "# data_selected = datac[datac['Category']=='Combative']\n",
        "# ct = pd.crosstab(data_selected.Medal,data_selected.Sex,margins=True)\n",
        "# chi2, p, dof, ex = chi2_contingency(ct)\n",
        "# print('Combative sports category: ')\n",
        "# print(\"p-val = \", p)\n",
        "\n",
        "data_selected = datac[datac['Category']=='Ball based']\n",
        "ct = pd.crosstab(data_selected.Medal,data_selected.Sex,margins=True)\n",
        "chi2, p, dof, ex = chi2_contingency(ct)\n",
        "print('Ball based sports category: ')\n",
        "print(\"p-val = \", p)\n",
        "\n",
        "data_selected = datac[datac['Category']=='Other']\n",
        "ct = pd.crosstab(data_selected.Medal,data_selected.Sex,margins=True)\n",
        "chi2, p, dof, ex = chi2_contingency(ct)\n",
        "print('Other sports category: ')\n",
        "print(\"p-val = \", p)"
      ],
      "metadata": {
        "colab": {
          "base_uri": "https://localhost:8080/"
        },
        "id": "M4k0Oja10A_L",
        "outputId": "cef73367-e598-46b1-d046-02440a6c9b65"
      },
      "execution_count": 119,
      "outputs": [
        {
          "output_type": "stream",
          "name": "stdout",
          "text": [
            "Chi test for Sex vs Medallist status\n",
            "Overall: \n",
            "p-val =  0.1048833826019914\n",
            "Athletic sports category: \n",
            "p-val =  0.10588264625870755\n",
            "Ball based sports category: \n",
            "p-val =  1.0\n",
            "Other sports category: \n",
            "p-val =  0.19664760829257932\n"
          ]
        }
      ]
    },
    {
      "cell_type": "code",
      "metadata": {
        "colab": {
          "base_uri": "https://localhost:8080/"
        },
        "id": "6Gi-ShEXugBC",
        "outputId": "93f18be4-4c03-4d51-c998-c6a4e991284a"
      },
      "source": [
        "datac['Category'].unique()"
      ],
      "execution_count": 114,
      "outputs": [
        {
          "output_type": "execute_result",
          "data": {
            "text/plain": [
              "array(['Other', 'Athletic', 'Ball based'], dtype=object)"
            ]
          },
          "metadata": {},
          "execution_count": 114
        }
      ]
    },
    {
      "cell_type": "code",
      "metadata": {
        "colab": {
          "base_uri": "https://localhost:8080/",
          "height": 1000
        },
        "id": "YIt8m3zT2ksX",
        "outputId": "6f2b04a1-d4cd-4c55-b25d-7c59d24f34f9"
      },
      "source": [
        "# Age groups and medals\n",
        "from statsmodels.graphics.mosaicplot import mosaic\n",
        "\n",
        "datac = data.dropna(axis=0, subset = ['BMI'])\n",
        "datac['Medal'] = datac['Medal'].apply(lambda x: 'No' if x=='None' else 'Yes')\n",
        "def get_color(key):\n",
        "  if '<18.5' in key:\n",
        "    return 'orange'\n",
        "  elif '18.5-24.9' in key:\n",
        "    return 'yellow'\n",
        "  elif '25-29.9' in key:\n",
        "    return 'green'\n",
        "  elif '30-34.9' in key:\n",
        "    return 'purple'\n",
        "  else:\n",
        "    return 'red'\n",
        "props = lambda key: {'color': get_color(key)}\n",
        "t = mosaic(datac, ['Medal','BMI_Category'],title='BMI Category(Y-Axis) vs Medal Status(X-Axis)',properties=props,gap=0.02)\n",
        "t[0].set_size_inches(10, 15)\n",
        "\n"
      ],
      "execution_count": 106,
      "outputs": [
        {
          "output_type": "stream",
          "name": "stderr",
          "text": [
            "/usr/local/lib/python3.7/dist-packages/ipykernel_launcher.py:5: SettingWithCopyWarning: \n",
            "A value is trying to be set on a copy of a slice from a DataFrame.\n",
            "Try using .loc[row_indexer,col_indexer] = value instead\n",
            "\n",
            "See the caveats in the documentation: https://pandas.pydata.org/pandas-docs/stable/user_guide/indexing.html#returning-a-view-versus-a-copy\n",
            "  \"\"\"\n"
          ]
        },
        {
          "output_type": "display_data",
          "data": {
            "image/png": "[encoded data removed]",
            "text/plain": [
              "<Figure size 720x1080 with 3 Axes>"
            ]
          },
          "metadata": {
            "needs_background": "light"
          }
        }
      ]
    },
    {
      "cell_type": "code",
      "metadata": {
        "colab": {
          "base_uri": "https://localhost:8080/",
          "height": 623
        },
        "id": "zqV0qKdH2kwZ",
        "outputId": "da348dc2-be5e-459f-87b4-7f7b8bae46d7"
      },
      "source": [
        "# Age groups and medals\n",
        "from statsmodels.graphics.mosaicplot import mosaic\n",
        "def get_color(key):\n",
        "  if '<20' in key:\n",
        "    return 'orange'\n",
        "  elif '20-29' in key:\n",
        "    return 'yellow'\n",
        "  elif '30-39' in key:\n",
        "    return 'green'\n",
        "  else:\n",
        "    return 'red'\n",
        "props = lambda key: {'color': get_color(key)}\n",
        "datac = data.dropna(axis=0, subset = ['Age'])\n",
        "datac['Medal'] = datac['Medal'].apply(lambda x: 'No' if x=='None' else 'Yes')\n",
        "t = mosaic(datac, ['Medal','Age_Category'],title='Age Category(Y-Axis) vs Medal Status(X-Axis)',properties=props)\n",
        "t[0].set_size_inches(10, 8)"
      ],
      "execution_count": 109,
      "outputs": [
        {
          "output_type": "stream",
          "name": "stderr",
          "text": [
            "/usr/local/lib/python3.7/dist-packages/ipykernel_launcher.py:14: SettingWithCopyWarning: \n",
            "A value is trying to be set on a copy of a slice from a DataFrame.\n",
            "Try using .loc[row_indexer,col_indexer] = value instead\n",
            "\n",
            "See the caveats in the documentation: https://pandas.pydata.org/pandas-docs/stable/user_guide/indexing.html#returning-a-view-versus-a-copy\n",
            "  \n"
          ]
        },
        {
          "output_type": "display_data",
          "data": {
            "image/png": "[encoded data removed]",
            "text/plain": [
              "<Figure size 720x576 with 3 Axes>"
            ]
          },
          "metadata": {
            "needs_background": "light"
          }
        }
      ]
    },
    {
      "cell_type": "code",
      "metadata": {
        "id": "rtLQQZKA2kzU",
        "colab": {
          "base_uri": "https://localhost:8080/",
          "height": 623
        },
        "outputId": "08c2221f-0287-4108-958c-8680cb488d81"
      },
      "source": [
        "# Gender and medals\n",
        "from statsmodels.graphics.mosaicplot import mosaic\n",
        "def get_color(key):\n",
        "  if 'M' in key:\n",
        "    return 'blue'\n",
        "  else:\n",
        "    return 'pink'\n",
        "props = lambda key: {'color': get_color(key)}\n",
        "datac = data[data['Event'].str.contains('Mixed')]\n",
        "datac['Medal'] = datac['Medal'].apply(lambda x: 'No' if x=='None' else 'Yes')\n",
        "t = mosaic(datac, ['Medal','Sex'],title='Sex(Y-Axis) vs Medal Status(X-Axis)',properties=props)\n",
        "t[0].set_size_inches(10, 8)"
      ],
      "execution_count": 116,
      "outputs": [
        {
          "output_type": "stream",
          "name": "stderr",
          "text": [
            "/usr/local/lib/python3.7/dist-packages/ipykernel_launcher.py:10: SettingWithCopyWarning: \n",
            "A value is trying to be set on a copy of a slice from a DataFrame.\n",
            "Try using .loc[row_indexer,col_indexer] = value instead\n",
            "\n",
            "See the caveats in the documentation: https://pandas.pydata.org/pandas-docs/stable/user_guide/indexing.html#returning-a-view-versus-a-copy\n",
            "  # Remove the CWD from sys.path while we load stuff.\n"
          ]
        },
        {
          "output_type": "display_data",
          "data": {
            "image/png": "[encoded data removed]",
            "text/plain": [
              "<Figure size 720x576 with 3 Axes>"
            ]
          },
          "metadata": {
            "needs_background": "light"
          }
        }
      ]
    },
    {
      "cell_type": "code",
      "metadata": {
        "id": "G91u_uK22k38"
      },
      "source": [
        ""
      ],
      "execution_count": 107,
      "outputs": []
    },
    {
      "cell_type": "code",
      "metadata": {
        "id": "BHD-ssaP2k7Q"
      },
      "source": [
        ""
      ],
      "execution_count": 107,
      "outputs": []
    },
    {
      "cell_type": "code",
      "metadata": {
        "id": "MuH4Fe8G2lAY"
      },
      "source": [
        ""
      ],
      "execution_count": 107,
      "outputs": []
    }
  ]
}